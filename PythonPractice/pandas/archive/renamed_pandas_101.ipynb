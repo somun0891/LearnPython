{
 "cells": [
  {
   "cell_type": "code",
   "execution_count": 1,
   "metadata": {},
   "outputs": [],
   "source": [
    "from IPython.core.interactiveshell import InteractiveShell\n",
    "InteractiveShell.ast_node_interactivity = \"all\""
   ]
  },
  {
   "cell_type": "code",
   "execution_count": 2,
   "metadata": {},
   "outputs": [],
   "source": [
    "import pandas as pd"
   ]
  },
  {
   "cell_type": "code",
   "execution_count": 54,
   "metadata": {},
   "outputs": [],
   "source": [
    "df = pd.read_csv('data/stackoverflow/survey_results_public.csv')  #doublequote,delimiter ,lineterminator ,header,skip_rows ,skip_footer,escapechar\n"
   ]
  },
  {
   "cell_type": "code",
   "execution_count": 174,
   "metadata": {},
   "outputs": [],
   "source": [
    "df #by default shows 20 columns , set_options - pd.set_option('display.max_columns', 79)\n",
    "pd.set_option('display.max_rows', None) #show all\n",
    "pd.set_option('display.max_columns', None) #show all"
   ]
  },
  {
   "cell_type": "code",
   "execution_count": null,
   "metadata": {},
   "outputs": [],
   "source": [
    "df.shape #(73268\t79)\n",
    "df.info()"
   ]
  },
  {
   "cell_type": "code",
   "execution_count": 9,
   "metadata": {},
   "outputs": [],
   "source": [
    "pd.set_option('display.max_columns', 79)"
   ]
  },
  {
   "cell_type": "code",
   "execution_count": null,
   "metadata": {},
   "outputs": [],
   "source": [
    "schema_df = pd.read_csv('data/stackoverflow/survey_results_schema.csv'\n",
    "                        ,index_col = [\"qname\"] #add index to search data \n",
    "                        ,header = 0\n",
    "                        ) \n",
    "schema_df.shape\n",
    "#schema_df.info\n",
    "pd.set_option('display.max_rows', None) #show all\n",
    "pd.set_option('display.max_columns', None) #show all\n",
    "schema_df"
   ]
  },
  {
   "cell_type": "code",
   "execution_count": null,
   "metadata": {},
   "outputs": [],
   "source": [
    "df.head(10)\n",
    "#df.tail"
   ]
  },
  {
   "cell_type": "markdown",
   "metadata": {},
   "source": [
    "***Pandas loc - index based and iloc - label based***"
   ]
  },
  {
   "cell_type": "code",
   "execution_count": 55,
   "metadata": {},
   "outputs": [
    {
     "data": {
      "text/plain": [
       "dict"
      ]
     },
     "execution_count": 55,
     "metadata": {},
     "output_type": "execute_result"
    }
   ],
   "source": [
    "person = {\"firstname\" : [\"Sabyasachi\",\"Simon\"] ,\"lastname\" : [\"Nayak\",\"Cowell\"] , \"email\" :[\"snayak@company.com\" ,\"simonc@company.com\" ]  }\n",
    "type(person)"
   ]
  },
  {
   "cell_type": "code",
   "execution_count": 40,
   "metadata": {},
   "outputs": [
    {
     "data": {
      "text/html": [
       "<div>\n",
       "<style scoped>\n",
       "    .dataframe tbody tr th:only-of-type {\n",
       "        vertical-align: middle;\n",
       "    }\n",
       "\n",
       "    .dataframe tbody tr th {\n",
       "        vertical-align: top;\n",
       "    }\n",
       "\n",
       "    .dataframe thead th {\n",
       "        text-align: right;\n",
       "    }\n",
       "</style>\n",
       "<table border=\"1\" class=\"dataframe\">\n",
       "  <thead>\n",
       "    <tr style=\"text-align: right;\">\n",
       "      <th></th>\n",
       "      <th>firstname</th>\n",
       "      <th>email</th>\n",
       "    </tr>\n",
       "  </thead>\n",
       "  <tbody>\n",
       "    <tr>\n",
       "      <th>0</th>\n",
       "      <td>Sabyasachi</td>\n",
       "      <td>snayak@company.com</td>\n",
       "    </tr>\n",
       "    <tr>\n",
       "      <th>1</th>\n",
       "      <td>Simon</td>\n",
       "      <td>simonc@company.com</td>\n",
       "    </tr>\n",
       "  </tbody>\n",
       "</table>\n",
       "</div>"
      ],
      "text/plain": [
       "    firstname               email\n",
       "0  Sabyasachi  snayak@company.com\n",
       "1       Simon  simonc@company.com"
      ]
     },
     "execution_count": 40,
     "metadata": {},
     "output_type": "execute_result"
    },
    {
     "data": {
      "text/html": [
       "<div>\n",
       "<style scoped>\n",
       "    .dataframe tbody tr th:only-of-type {\n",
       "        vertical-align: middle;\n",
       "    }\n",
       "\n",
       "    .dataframe tbody tr th {\n",
       "        vertical-align: top;\n",
       "    }\n",
       "\n",
       "    .dataframe thead th {\n",
       "        text-align: right;\n",
       "    }\n",
       "</style>\n",
       "<table border=\"1\" class=\"dataframe\">\n",
       "  <thead>\n",
       "    <tr style=\"text-align: right;\">\n",
       "      <th></th>\n",
       "      <th>number</th>\n",
       "      <th>multiplier</th>\n",
       "    </tr>\n",
       "  </thead>\n",
       "  <tbody>\n",
       "    <tr>\n",
       "      <th>0</th>\n",
       "      <td>1</td>\n",
       "      <td>2</td>\n",
       "    </tr>\n",
       "    <tr>\n",
       "      <th>1</th>\n",
       "      <td>2</td>\n",
       "      <td>4</td>\n",
       "    </tr>\n",
       "    <tr>\n",
       "      <th>2</th>\n",
       "      <td>3</td>\n",
       "      <td>6</td>\n",
       "    </tr>\n",
       "  </tbody>\n",
       "</table>\n",
       "</div>"
      ],
      "text/plain": [
       "   number  multiplier\n",
       "0       1           2\n",
       "1       2           4\n",
       "2       3           6"
      ]
     },
     "execution_count": 40,
     "metadata": {},
     "output_type": "execute_result"
    },
    {
     "data": {
      "text/html": [
       "<div>\n",
       "<style scoped>\n",
       "    .dataframe tbody tr th:only-of-type {\n",
       "        vertical-align: middle;\n",
       "    }\n",
       "\n",
       "    .dataframe tbody tr th {\n",
       "        vertical-align: top;\n",
       "    }\n",
       "\n",
       "    .dataframe thead th {\n",
       "        text-align: right;\n",
       "    }\n",
       "</style>\n",
       "<table border=\"1\" class=\"dataframe\">\n",
       "  <thead>\n",
       "    <tr style=\"text-align: right;\">\n",
       "      <th></th>\n",
       "      <th>FirstName</th>\n",
       "      <th>LastName</th>\n",
       "      <th>RID</th>\n",
       "      <th>Score</th>\n",
       "    </tr>\n",
       "  </thead>\n",
       "  <tbody>\n",
       "    <tr>\n",
       "      <th>0</th>\n",
       "      <td>Ruchi</td>\n",
       "      <td>Sharma</td>\n",
       "      <td>1</td>\n",
       "      <td>NaN</td>\n",
       "    </tr>\n",
       "    <tr>\n",
       "      <th>1</th>\n",
       "      <td>Rose</td>\n",
       "      <td>White</td>\n",
       "      <td>2</td>\n",
       "      <td>10.0</td>\n",
       "    </tr>\n",
       "    <tr>\n",
       "      <th>2</th>\n",
       "      <td>Vin</td>\n",
       "      <td>Diesel</td>\n",
       "      <td>3</td>\n",
       "      <td>9.0</td>\n",
       "    </tr>\n",
       "  </tbody>\n",
       "</table>\n",
       "</div>"
      ],
      "text/plain": [
       "  FirstName LastName  RID  Score\n",
       "0     Ruchi   Sharma    1    NaN\n",
       "1      Rose    White    2   10.0\n",
       "2       Vin   Diesel    3    9.0"
      ]
     },
     "execution_count": 40,
     "metadata": {},
     "output_type": "execute_result"
    },
    {
     "data": {
      "text/plain": [
       "{'model': 1994, 'Speed': '60 kmph', 'price': 38000.0}"
      ]
     },
     "execution_count": 40,
     "metadata": {},
     "output_type": "execute_result"
    }
   ],
   "source": [
    "#can take a dict ,list\n",
    "#pd.DataFrame(index , data , columns)\n",
    "persondf = pd.DataFrame(person)\n",
    "persondf[[\"firstname\",'email']]\n",
    "\n",
    "numberdf = pd.DataFrame(data = [[1,2],[2,4] ,[3,6]]  ,index = [0,1,2] , columns=['number','multiplier'])\n",
    "numberdf\n",
    "\n",
    "data = {\"FirstName\": [\"Ruchi\",\"Rose\",\"Vin\"] , \"LastName\" : [\"Sharma\",\"White\",\"Diesel\"] , \"RID\" :[1,2,3], \"Score\" : pd.Series([10.0,9.0] , index = [1,2]) }\n",
    "peopledf = pd.DataFrame( data , index=[0,1,2])\n",
    "peopledf \n",
    "\n",
    "cardata = [ [\"40 kmph\" , 1988 , 34000.00] , [\"60 kmph\",1994 , 38000.00]  ]\n",
    "cardf = pd.DataFrame( cardata , index = [\"Toyata\" ,\"Ford\"] ,columns = [\"Speed\" , \"model\" , \"price\"] )\n",
    "\n",
    "dict(cardf.loc[\"Ford\",[\"model\",\"Speed\",\"price\"]]) #index , field\n"
   ]
  },
  {
   "cell_type": "code",
   "execution_count": 36,
   "metadata": {},
   "outputs": [
    {
     "data": {
      "text/plain": [
       "(2, 3)"
      ]
     },
     "execution_count": 36,
     "metadata": {},
     "output_type": "execute_result"
    },
    {
     "name": "stdout",
     "output_type": "stream",
     "text": [
      "<class 'pandas.core.frame.DataFrame'>\n",
      "RangeIndex: 2 entries, 0 to 1\n",
      "Data columns (total 3 columns):\n",
      " #   Column     Non-Null Count  Dtype \n",
      "---  ------     --------------  ----- \n",
      " 0   firstname  2 non-null      object\n",
      " 1   lastname   2 non-null      object\n",
      " 2   email      2 non-null      object\n",
      "dtypes: object(3)\n",
      "memory usage: 176.0+ bytes\n"
     ]
    },
    {
     "data": {
      "text/plain": [
       "Index(['firstname', 'lastname', 'email'], dtype='object')"
      ]
     },
     "execution_count": 36,
     "metadata": {},
     "output_type": "execute_result"
    },
    {
     "data": {
      "text/html": [
       "<div>\n",
       "<style scoped>\n",
       "    .dataframe tbody tr th:only-of-type {\n",
       "        vertical-align: middle;\n",
       "    }\n",
       "\n",
       "    .dataframe tbody tr th {\n",
       "        vertical-align: top;\n",
       "    }\n",
       "\n",
       "    .dataframe thead th {\n",
       "        text-align: right;\n",
       "    }\n",
       "</style>\n",
       "<table border=\"1\" class=\"dataframe\">\n",
       "  <thead>\n",
       "    <tr style=\"text-align: right;\">\n",
       "      <th></th>\n",
       "      <th>email</th>\n",
       "      <th>lastname</th>\n",
       "    </tr>\n",
       "  </thead>\n",
       "  <tbody>\n",
       "    <tr>\n",
       "      <th>0</th>\n",
       "      <td>snayak@company.com</td>\n",
       "      <td>Nayak</td>\n",
       "    </tr>\n",
       "    <tr>\n",
       "      <th>1</th>\n",
       "      <td>simonc@company.com</td>\n",
       "      <td>Cowell</td>\n",
       "    </tr>\n",
       "  </tbody>\n",
       "</table>\n",
       "</div>"
      ],
      "text/plain": [
       "                email lastname\n",
       "0  snayak@company.com    Nayak\n",
       "1  simonc@company.com   Cowell"
      ]
     },
     "execution_count": 36,
     "metadata": {},
     "output_type": "execute_result"
    },
    {
     "data": {
      "text/html": [
       "<div>\n",
       "<style scoped>\n",
       "    .dataframe tbody tr th:only-of-type {\n",
       "        vertical-align: middle;\n",
       "    }\n",
       "\n",
       "    .dataframe tbody tr th {\n",
       "        vertical-align: top;\n",
       "    }\n",
       "\n",
       "    .dataframe thead th {\n",
       "        text-align: right;\n",
       "    }\n",
       "</style>\n",
       "<table border=\"1\" class=\"dataframe\">\n",
       "  <thead>\n",
       "    <tr style=\"text-align: right;\">\n",
       "      <th></th>\n",
       "      <th>email</th>\n",
       "      <th>lastname</th>\n",
       "    </tr>\n",
       "  </thead>\n",
       "  <tbody>\n",
       "    <tr>\n",
       "      <th>0</th>\n",
       "      <td>snayak@company.com</td>\n",
       "      <td>Nayak</td>\n",
       "    </tr>\n",
       "    <tr>\n",
       "      <th>1</th>\n",
       "      <td>simonc@company.com</td>\n",
       "      <td>Cowell</td>\n",
       "    </tr>\n",
       "  </tbody>\n",
       "</table>\n",
       "</div>"
      ],
      "text/plain": [
       "                email lastname\n",
       "0  snayak@company.com    Nayak\n",
       "1  simonc@company.com   Cowell"
      ]
     },
     "execution_count": 36,
     "metadata": {},
     "output_type": "execute_result"
    }
   ],
   "source": [
    "persondf.shape #(2, 3)\n",
    "persondf.info()\n",
    "persondf.columns #list of columns\n",
    "\n",
    "#.loc[row_indexer,col_indexer] \n",
    "persondf.iloc[ [0 , 1] , [2, 1] ] #grab first 2 rows for email and lastname (index-based)\n",
    "persondf.loc[ [0 , 1] , [\"email\", \"lastname\"] ] #grab first 2 rows for email and lastname (by name)"
   ]
  },
  {
   "cell_type": "code",
   "execution_count": 43,
   "metadata": {},
   "outputs": [
    {
     "data": {
      "text/html": [
       "<div>\n",
       "<style scoped>\n",
       "    .dataframe tbody tr th:only-of-type {\n",
       "        vertical-align: middle;\n",
       "    }\n",
       "\n",
       "    .dataframe tbody tr th {\n",
       "        vertical-align: top;\n",
       "    }\n",
       "\n",
       "    .dataframe thead th {\n",
       "        text-align: right;\n",
       "    }\n",
       "</style>\n",
       "<table border=\"1\" class=\"dataframe\">\n",
       "  <thead>\n",
       "    <tr style=\"text-align: right;\">\n",
       "      <th></th>\n",
       "      <th>ResponseId</th>\n",
       "      <th>MainBranch</th>\n",
       "      <th>Employment</th>\n",
       "    </tr>\n",
       "  </thead>\n",
       "  <tbody>\n",
       "    <tr>\n",
       "      <th>0</th>\n",
       "      <td>1</td>\n",
       "      <td>None of these</td>\n",
       "      <td>NaN</td>\n",
       "    </tr>\n",
       "    <tr>\n",
       "      <th>1</th>\n",
       "      <td>2</td>\n",
       "      <td>I am a developer by profession</td>\n",
       "      <td>Employed, full-time</td>\n",
       "    </tr>\n",
       "    <tr>\n",
       "      <th>2</th>\n",
       "      <td>3</td>\n",
       "      <td>I am not primarily a developer, but I write co...</td>\n",
       "      <td>Employed, full-time</td>\n",
       "    </tr>\n",
       "    <tr>\n",
       "      <th>3</th>\n",
       "      <td>4</td>\n",
       "      <td>I am a developer by profession</td>\n",
       "      <td>Employed, full-time</td>\n",
       "    </tr>\n",
       "    <tr>\n",
       "      <th>4</th>\n",
       "      <td>5</td>\n",
       "      <td>I am a developer by profession</td>\n",
       "      <td>Employed, full-time</td>\n",
       "    </tr>\n",
       "    <tr>\n",
       "      <th>5</th>\n",
       "      <td>6</td>\n",
       "      <td>I am not primarily a developer, but I write co...</td>\n",
       "      <td>Student, full-time</td>\n",
       "    </tr>\n",
       "    <tr>\n",
       "      <th>6</th>\n",
       "      <td>7</td>\n",
       "      <td>I code primarily as a hobby</td>\n",
       "      <td>Student, part-time</td>\n",
       "    </tr>\n",
       "    <tr>\n",
       "      <th>7</th>\n",
       "      <td>8</td>\n",
       "      <td>I am a developer by profession</td>\n",
       "      <td>Not employed, but looking for work</td>\n",
       "    </tr>\n",
       "    <tr>\n",
       "      <th>8</th>\n",
       "      <td>9</td>\n",
       "      <td>I am a developer by profession</td>\n",
       "      <td>Employed, full-time</td>\n",
       "    </tr>\n",
       "    <tr>\n",
       "      <th>9</th>\n",
       "      <td>10</td>\n",
       "      <td>I am a developer by profession</td>\n",
       "      <td>Independent contractor, freelancer, or self-em...</td>\n",
       "    </tr>\n",
       "    <tr>\n",
       "      <th>10</th>\n",
       "      <td>11</td>\n",
       "      <td>I am a developer by profession</td>\n",
       "      <td>Employed, full-time</td>\n",
       "    </tr>\n",
       "  </tbody>\n",
       "</table>\n",
       "</div>"
      ],
      "text/plain": [
       "    ResponseId                                         MainBranch  \\\n",
       "0            1                                      None of these   \n",
       "1            2                     I am a developer by profession   \n",
       "2            3  I am not primarily a developer, but I write co...   \n",
       "3            4                     I am a developer by profession   \n",
       "4            5                     I am a developer by profession   \n",
       "5            6  I am not primarily a developer, but I write co...   \n",
       "6            7                        I code primarily as a hobby   \n",
       "7            8                     I am a developer by profession   \n",
       "8            9                     I am a developer by profession   \n",
       "9           10                     I am a developer by profession   \n",
       "10          11                     I am a developer by profession   \n",
       "\n",
       "                                           Employment  \n",
       "0                                                 NaN  \n",
       "1                                 Employed, full-time  \n",
       "2                                 Employed, full-time  \n",
       "3                                 Employed, full-time  \n",
       "4                                 Employed, full-time  \n",
       "5                                  Student, full-time  \n",
       "6                                  Student, part-time  \n",
       "7                  Not employed, but looking for work  \n",
       "8                                 Employed, full-time  \n",
       "9   Independent contractor, freelancer, or self-em...  \n",
       "10                                Employed, full-time  "
      ]
     },
     "execution_count": 43,
     "metadata": {},
     "output_type": "execute_result"
    }
   ],
   "source": [
    "#grab first 10 rows and display first 3 columns\n",
    "df.loc[0:10 , \"ResponseId\":\"Employment\"] #inclusive of the stop"
   ]
  },
  {
   "cell_type": "markdown",
   "metadata": {},
   "source": [
    "***Pandas index set and reset***"
   ]
  },
  {
   "cell_type": "code",
   "execution_count": 51,
   "metadata": {},
   "outputs": [
    {
     "data": {
      "text/html": [
       "<div>\n",
       "<style scoped>\n",
       "    .dataframe tbody tr th:only-of-type {\n",
       "        vertical-align: middle;\n",
       "    }\n",
       "\n",
       "    .dataframe tbody tr th {\n",
       "        vertical-align: top;\n",
       "    }\n",
       "\n",
       "    .dataframe thead th {\n",
       "        text-align: right;\n",
       "    }\n",
       "</style>\n",
       "<table border=\"1\" class=\"dataframe\">\n",
       "  <thead>\n",
       "    <tr style=\"text-align: right;\">\n",
       "      <th></th>\n",
       "      <th>FirstName</th>\n",
       "      <th>LastName</th>\n",
       "      <th>Score</th>\n",
       "    </tr>\n",
       "    <tr>\n",
       "      <th>RID</th>\n",
       "      <th></th>\n",
       "      <th></th>\n",
       "      <th></th>\n",
       "    </tr>\n",
       "  </thead>\n",
       "  <tbody>\n",
       "    <tr>\n",
       "      <th>1</th>\n",
       "      <td>Ruchi</td>\n",
       "      <td>Sharma</td>\n",
       "      <td>NaN</td>\n",
       "    </tr>\n",
       "    <tr>\n",
       "      <th>2</th>\n",
       "      <td>Rose</td>\n",
       "      <td>White</td>\n",
       "      <td>10.0</td>\n",
       "    </tr>\n",
       "    <tr>\n",
       "      <th>3</th>\n",
       "      <td>Vin</td>\n",
       "      <td>Diesel</td>\n",
       "      <td>9.0</td>\n",
       "    </tr>\n",
       "  </tbody>\n",
       "</table>\n",
       "</div>"
      ],
      "text/plain": [
       "    FirstName LastName  Score\n",
       "RID                          \n",
       "1       Ruchi   Sharma    NaN\n",
       "2        Rose    White   10.0\n",
       "3         Vin   Diesel    9.0"
      ]
     },
     "execution_count": 51,
     "metadata": {},
     "output_type": "execute_result"
    },
    {
     "ename": "KeyError",
     "evalue": "\"None of ['RID'] are in the columns\"",
     "output_type": "error",
     "traceback": [
      "\u001b[1;31m---------------------------------------------------------------------------\u001b[0m",
      "\u001b[1;31mKeyError\u001b[0m                                  Traceback (most recent call last)",
      "\u001b[1;32mj:\\My Drive\\LearnPython\\PythonPractice\\pandas\\pandas-101.ipynb Cell 15\u001b[0m line \u001b[0;36m7\n\u001b[0;32m      <a href='vscode-notebook-cell:/j%3A/My%20Drive/LearnPython/PythonPractice/pandas/pandas-101.ipynb#X20sZmlsZQ%3D%3D?line=0'>1</a>\u001b[0m \u001b[39m#setting custom index\u001b[39;00m\n\u001b[0;32m      <a href='vscode-notebook-cell:/j%3A/My%20Drive/LearnPython/PythonPractice/pandas/pandas-101.ipynb#X20sZmlsZQ%3D%3D?line=1'>2</a>\u001b[0m \u001b[39m#persondf.set_index('email', inplace=True)\u001b[39;00m\n\u001b[0;32m      <a href='vscode-notebook-cell:/j%3A/My%20Drive/LearnPython/PythonPractice/pandas/pandas-101.ipynb#X20sZmlsZQ%3D%3D?line=2'>3</a>\u001b[0m \u001b[39m#persondf #here email unique values are acting as an index instead of default 0 ,1 ....n index rows\u001b[39;00m\n\u001b[0;32m      <a href='vscode-notebook-cell:/j%3A/My%20Drive/LearnPython/PythonPractice/pandas/pandas-101.ipynb#X20sZmlsZQ%3D%3D?line=3'>4</a>\u001b[0m \n\u001b[0;32m      <a href='vscode-notebook-cell:/j%3A/My%20Drive/LearnPython/PythonPractice/pandas/pandas-101.ipynb#X20sZmlsZQ%3D%3D?line=4'>5</a>\u001b[0m \u001b[39m#peopledf.set_index('RID' )\u001b[39;00m\n\u001b[0;32m      <a href='vscode-notebook-cell:/j%3A/My%20Drive/LearnPython/PythonPractice/pandas/pandas-101.ipynb#X20sZmlsZQ%3D%3D?line=5'>6</a>\u001b[0m peopledf \u001b[39m#still shows old index\u001b[39;00m\n\u001b[1;32m----> <a href='vscode-notebook-cell:/j%3A/My%20Drive/LearnPython/PythonPractice/pandas/pandas-101.ipynb#X20sZmlsZQ%3D%3D?line=6'>7</a>\u001b[0m peopledf\u001b[39m.\u001b[39;49mset_index(\u001b[39m'\u001b[39;49m\u001b[39mRID\u001b[39;49m\u001b[39m'\u001b[39;49m , inplace \u001b[39m=\u001b[39;49m \u001b[39mTrue\u001b[39;49;00m )\n\u001b[0;32m      <a href='vscode-notebook-cell:/j%3A/My%20Drive/LearnPython/PythonPractice/pandas/pandas-101.ipynb#X20sZmlsZQ%3D%3D?line=7'>8</a>\u001b[0m peopledf \u001b[39m#reflects new index\u001b[39;00m\n",
      "File \u001b[1;32mc:\\Users\\conne\\anaconda3\\envs\\pysparkvenv\\lib\\site-packages\\pandas\\core\\frame.py:5859\u001b[0m, in \u001b[0;36mDataFrame.set_index\u001b[1;34m(self, keys, drop, append, inplace, verify_integrity)\u001b[0m\n\u001b[0;32m   5856\u001b[0m                 missing\u001b[39m.\u001b[39mappend(col)\n\u001b[0;32m   5858\u001b[0m \u001b[39mif\u001b[39;00m missing:\n\u001b[1;32m-> 5859\u001b[0m     \u001b[39mraise\u001b[39;00m \u001b[39mKeyError\u001b[39;00m(\u001b[39mf\u001b[39m\u001b[39m\"\u001b[39m\u001b[39mNone of \u001b[39m\u001b[39m{\u001b[39;00mmissing\u001b[39m}\u001b[39;00m\u001b[39m are in the columns\u001b[39m\u001b[39m\"\u001b[39m)\n\u001b[0;32m   5861\u001b[0m \u001b[39mif\u001b[39;00m inplace:\n\u001b[0;32m   5862\u001b[0m     frame \u001b[39m=\u001b[39m \u001b[39mself\u001b[39m\n",
      "\u001b[1;31mKeyError\u001b[0m: \"None of ['RID'] are in the columns\""
     ]
    }
   ],
   "source": [
    "#setting custom index\n",
    "persondf.set_index('email', inplace=True)\n",
    "persondf #here email unique values are acting as an index instead of default 0 ,1 ....n index rows\n",
    "\n",
    "#peopledf.set_index('RID' )\n",
    "peopledf #still shows old index\n",
    "peopledf.set_index('RID' , inplace = True )\n",
    "peopledf #reflects new index"
   ]
  },
  {
   "cell_type": "code",
   "execution_count": 52,
   "metadata": {},
   "outputs": [
    {
     "data": {
      "text/plain": [
       "'Cowell'"
      ]
     },
     "execution_count": 52,
     "metadata": {},
     "output_type": "execute_result"
    }
   ],
   "source": [
    "#get the last name for the index simonc@company.com\n",
    "persondf.loc[\"simonc@company.com\" , \"lastname\"]"
   ]
  },
  {
   "cell_type": "code",
   "execution_count": 18,
   "metadata": {},
   "outputs": [
    {
     "data": {
      "text/html": [
       "<div>\n",
       "<style scoped>\n",
       "    .dataframe tbody tr th:only-of-type {\n",
       "        vertical-align: middle;\n",
       "    }\n",
       "\n",
       "    .dataframe tbody tr th {\n",
       "        vertical-align: top;\n",
       "    }\n",
       "\n",
       "    .dataframe thead th {\n",
       "        text-align: right;\n",
       "    }\n",
       "</style>\n",
       "<table border=\"1\" class=\"dataframe\">\n",
       "  <thead>\n",
       "    <tr style=\"text-align: right;\">\n",
       "      <th></th>\n",
       "      <th>level_0</th>\n",
       "      <th>index</th>\n",
       "      <th>email</th>\n",
       "      <th>firstname</th>\n",
       "      <th>lastname</th>\n",
       "    </tr>\n",
       "  </thead>\n",
       "  <tbody>\n",
       "    <tr>\n",
       "      <th>0</th>\n",
       "      <td>0</td>\n",
       "      <td>0</td>\n",
       "      <td>snayak@company.com</td>\n",
       "      <td>Sabyasachi</td>\n",
       "      <td>Nayak</td>\n",
       "    </tr>\n",
       "    <tr>\n",
       "      <th>1</th>\n",
       "      <td>1</td>\n",
       "      <td>1</td>\n",
       "      <td>simonc@company.com</td>\n",
       "      <td>Simon</td>\n",
       "      <td>Cowell</td>\n",
       "    </tr>\n",
       "  </tbody>\n",
       "</table>\n",
       "</div>"
      ],
      "text/plain": [
       "   level_0  index               email   firstname lastname\n",
       "0        0      0  snayak@company.com  Sabyasachi    Nayak\n",
       "1        1      1  simonc@company.com       Simon   Cowell"
      ]
     },
     "execution_count": 18,
     "metadata": {},
     "output_type": "execute_result"
    }
   ],
   "source": [
    "#reset it back to use integers indexes\n",
    "persondf.reset_index(inplace=True)\n",
    "persondf #now index is 0 based"
   ]
  },
  {
   "cell_type": "code",
   "execution_count": null,
   "metadata": {},
   "outputs": [],
   "source": [
    "schema_df.loc[\"YearsCodePro\"] #all field values corresponding to index value - YearsCodePro\n",
    "\n",
    "schema_df.loc[\"YearsCodePro\" , \"question\"] #display only the question field value"
   ]
  },
  {
   "cell_type": "code",
   "execution_count": null,
   "metadata": {},
   "outputs": [],
   "source": [
    "schema_df.sort_index(ascending=False) #sort index in descending order"
   ]
  },
  {
   "cell_type": "markdown",
   "metadata": {},
   "source": [
    "***Filters***"
   ]
  },
  {
   "cell_type": "code",
   "execution_count": 43,
   "metadata": {},
   "outputs": [
    {
     "data": {
      "text/plain": [
       "1    simonc@company.com\n",
       "Name: email, dtype: object"
      ]
     },
     "execution_count": 43,
     "metadata": {},
     "output_type": "execute_result"
    }
   ],
   "source": [
    " #A filtr is a view on the actual df , filter is a conditional expression that creates a series / dataframe rows\n",
    "filtr = ((persondf['lastname'] == 'Nayak') | (persondf['firstname']=='Simon'))\n",
    "filtr2 = ((persondf['lastname'] == 'Cowell') & (persondf['firstname']=='Simon'))\n",
    "persondf.loc[filtr , 'email']\n",
    "persondf.loc[filtr2 , 'email']"
   ]
  },
  {
   "cell_type": "code",
   "execution_count": 49,
   "metadata": {},
   "outputs": [
    {
     "data": {
      "text/plain": [
       "Index(['ResponseId', 'MainBranch', 'Employment', 'RemoteWork',\n",
       "       'CodingActivities', 'EdLevel', 'LearnCode', 'LearnCodeOnline',\n",
       "       'LearnCodeCoursesCert', 'YearsCode', 'YearsCodePro', 'DevType',\n",
       "       'OrgSize', 'PurchaseInfluence', 'BuyNewTool', 'Country', 'Currency',\n",
       "       'CompTotal', 'CompFreq', 'LanguageHaveWorkedWith',\n",
       "       'LanguageWantToWorkWith', 'DatabaseHaveWorkedWith',\n",
       "       'DatabaseWantToWorkWith', 'PlatformHaveWorkedWith',\n",
       "       'PlatformWantToWorkWith', 'WebframeHaveWorkedWith',\n",
       "       'WebframeWantToWorkWith', 'MiscTechHaveWorkedWith',\n",
       "       'MiscTechWantToWorkWith', 'ToolsTechHaveWorkedWith',\n",
       "       'ToolsTechWantToWorkWith', 'NEWCollabToolsHaveWorkedWith',\n",
       "       'NEWCollabToolsWantToWorkWith', 'OpSysProfessional use',\n",
       "       'OpSysPersonal use', 'VersionControlSystem', 'VCInteraction',\n",
       "       'VCHostingPersonal use', 'VCHostingProfessional use',\n",
       "       'OfficeStackAsyncHaveWorkedWith', 'OfficeStackAsyncWantToWorkWith',\n",
       "       'OfficeStackSyncHaveWorkedWith', 'OfficeStackSyncWantToWorkWith',\n",
       "       'Blockchain', 'NEWSOSites', 'SOVisitFreq', 'SOAccount', 'SOPartFreq',\n",
       "       'SOComm', 'Age', 'Gender', 'Trans', 'Sexuality', 'Ethnicity',\n",
       "       'Accessibility', 'MentalHealth', 'TBranch', 'ICorPM', 'WorkExp',\n",
       "       'Knowledge_1', 'Knowledge_2', 'Knowledge_3', 'Knowledge_4',\n",
       "       'Knowledge_5', 'Knowledge_6', 'Knowledge_7', 'Frequency_1',\n",
       "       'Frequency_2', 'Frequency_3', 'TimeSearching', 'TimeAnswering',\n",
       "       'Onboarding', 'ProfessionalTech', 'TrueFalse_1', 'TrueFalse_2',\n",
       "       'TrueFalse_3', 'SurveyLength', 'SurveyEase', 'ConvertedCompYearly'],\n",
       "      dtype='object')"
      ]
     },
     "execution_count": 49,
     "metadata": {},
     "output_type": "execute_result"
    }
   ],
   "source": [
    "df.columns"
   ]
  },
  {
   "cell_type": "code",
   "execution_count": 59,
   "metadata": {},
   "outputs": [
    {
     "data": {
      "text/html": [
       "<div>\n",
       "<style scoped>\n",
       "    .dataframe tbody tr th:only-of-type {\n",
       "        vertical-align: middle;\n",
       "    }\n",
       "\n",
       "    .dataframe tbody tr th {\n",
       "        vertical-align: top;\n",
       "    }\n",
       "\n",
       "    .dataframe thead th {\n",
       "        text-align: right;\n",
       "    }\n",
       "</style>\n",
       "<table border=\"1\" class=\"dataframe\">\n",
       "  <thead>\n",
       "    <tr style=\"text-align: right;\">\n",
       "      <th></th>\n",
       "      <th>Country</th>\n",
       "      <th>LanguageHaveWorkedWith</th>\n",
       "      <th>CompTotal</th>\n",
       "    </tr>\n",
       "  </thead>\n",
       "  <tbody>\n",
       "    <tr>\n",
       "      <th>151</th>\n",
       "      <td>India</td>\n",
       "      <td>Bash/Shell;HTML/CSS;Java;JavaScript;Python;SQL</td>\n",
       "      <td>100000.0</td>\n",
       "    </tr>\n",
       "    <tr>\n",
       "      <th>161</th>\n",
       "      <td>Germany</td>\n",
       "      <td>Python</td>\n",
       "      <td>155000.0</td>\n",
       "    </tr>\n",
       "    <tr>\n",
       "      <th>196</th>\n",
       "      <td>India</td>\n",
       "      <td>Python;Rust;TypeScript</td>\n",
       "      <td>4500000.0</td>\n",
       "    </tr>\n",
       "    <tr>\n",
       "      <th>449</th>\n",
       "      <td>Germany</td>\n",
       "      <td>Assembly;C;PHP;Python;R;SQL</td>\n",
       "      <td>120000.0</td>\n",
       "    </tr>\n",
       "    <tr>\n",
       "      <th>525</th>\n",
       "      <td>India</td>\n",
       "      <td>Go;Python</td>\n",
       "      <td>200000.0</td>\n",
       "    </tr>\n",
       "    <tr>\n",
       "      <th>...</th>\n",
       "      <td>...</td>\n",
       "      <td>...</td>\n",
       "      <td>...</td>\n",
       "    </tr>\n",
       "    <tr>\n",
       "      <th>72770</th>\n",
       "      <td>India</td>\n",
       "      <td>Assembly;Bash/Shell;C;C#;C++;Delphi;HTML/CSS;J...</td>\n",
       "      <td>1200000.0</td>\n",
       "    </tr>\n",
       "    <tr>\n",
       "      <th>72886</th>\n",
       "      <td>Germany</td>\n",
       "      <td>Bash/Shell;HTML/CSS;JavaScript;Python;TypeScript</td>\n",
       "      <td>90000.0</td>\n",
       "    </tr>\n",
       "    <tr>\n",
       "      <th>73124</th>\n",
       "      <td>India</td>\n",
       "      <td>HTML/CSS;JavaScript;Python;SQL</td>\n",
       "      <td>500000.0</td>\n",
       "    </tr>\n",
       "    <tr>\n",
       "      <th>73136</th>\n",
       "      <td>India</td>\n",
       "      <td>C++;JavaScript;Python;R;SQL</td>\n",
       "      <td>1600000.0</td>\n",
       "    </tr>\n",
       "    <tr>\n",
       "      <th>73184</th>\n",
       "      <td>India</td>\n",
       "      <td>Java;Python</td>\n",
       "      <td>2000000.0</td>\n",
       "    </tr>\n",
       "  </tbody>\n",
       "</table>\n",
       "<p>1155 rows × 3 columns</p>\n",
       "</div>"
      ],
      "text/plain": [
       "       Country                             LanguageHaveWorkedWith  CompTotal\n",
       "151      India     Bash/Shell;HTML/CSS;Java;JavaScript;Python;SQL   100000.0\n",
       "161    Germany                                             Python   155000.0\n",
       "196      India                             Python;Rust;TypeScript  4500000.0\n",
       "449    Germany                        Assembly;C;PHP;Python;R;SQL   120000.0\n",
       "525      India                                          Go;Python   200000.0\n",
       "...        ...                                                ...        ...\n",
       "72770    India  Assembly;Bash/Shell;C;C#;C++;Delphi;HTML/CSS;J...  1200000.0\n",
       "72886  Germany   Bash/Shell;HTML/CSS;JavaScript;Python;TypeScript    90000.0\n",
       "73124    India                     HTML/CSS;JavaScript;Python;SQL   500000.0\n",
       "73136    India                        C++;JavaScript;Python;R;SQL  1600000.0\n",
       "73184    India                                        Java;Python  2000000.0\n",
       "\n",
       "[1155 rows x 3 columns]"
      ]
     },
     "execution_count": 59,
     "metadata": {},
     "output_type": "execute_result"
    }
   ],
   "source": [
    "countries = ['Germany','India']\n",
    "high_salary = ((df['CompTotal'] > 70000) & (df['Country'].isin(countries)) )\n",
    "Pythonista = df['LanguageHaveWorkedWith'].str.contains('Python',na=False)\n",
    "df.loc[(high_salary)&(Pythonista),['Country','LanguageHaveWorkedWith','CompTotal']]"
   ]
  },
  {
   "cell_type": "code",
   "execution_count": 112,
   "metadata": {},
   "outputs": [
    {
     "data": {
      "text/html": [
       "<div>\n",
       "<style scoped>\n",
       "    .dataframe tbody tr th:only-of-type {\n",
       "        vertical-align: middle;\n",
       "    }\n",
       "\n",
       "    .dataframe tbody tr th {\n",
       "        vertical-align: top;\n",
       "    }\n",
       "\n",
       "    .dataframe thead th {\n",
       "        text-align: right;\n",
       "    }\n",
       "</style>\n",
       "<table border=\"1\" class=\"dataframe\">\n",
       "  <thead>\n",
       "    <tr style=\"text-align: right;\">\n",
       "      <th></th>\n",
       "      <th>FIRSTNAME</th>\n",
       "      <th>LASTNAME</th>\n",
       "      <th>EMAIL</th>\n",
       "    </tr>\n",
       "  </thead>\n",
       "  <tbody>\n",
       "    <tr>\n",
       "      <th>0</th>\n",
       "      <td>Sabyasachi</td>\n",
       "      <td>Nayak</td>\n",
       "      <td>snayak@company.com</td>\n",
       "    </tr>\n",
       "    <tr>\n",
       "      <th>1</th>\n",
       "      <td>Simon</td>\n",
       "      <td>Cowell</td>\n",
       "      <td>simonc@company.com</td>\n",
       "    </tr>\n",
       "  </tbody>\n",
       "</table>\n",
       "</div>"
      ],
      "text/plain": [
       "    FIRSTNAME LASTNAME               EMAIL\n",
       "0  Sabyasachi    Nayak  snayak@company.com\n",
       "1       Simon   Cowell  simonc@company.com"
      ]
     },
     "execution_count": 112,
     "metadata": {},
     "output_type": "execute_result"
    }
   ],
   "source": [
    "#update column names\n",
    "persondf.columns =[x.upper() for x in persondf.columns]\n",
    "#persondf.columns = persondf.columns.str.replace(\" \",\"\")\n",
    "persondf"
   ]
  },
  {
   "cell_type": "code",
   "execution_count": 113,
   "metadata": {},
   "outputs": [],
   "source": [
    "#rename fields and show the output without changes in place\n",
    "persondf.rename(columns={'FIRSTNAME' : 'first','LASTNAME' : 'last','EMAIL':'emailaddress'} )\n",
    "#rename fields and show the output with changes in place\n",
    "persondf.rename(columns={'FIRSTNAME' : 'first','LASTNAME' : 'last','EMAIL':'emailaddress'} ,inplace=True   )\n"
   ]
  },
  {
   "cell_type": "code",
   "execution_count": 147,
   "metadata": {},
   "outputs": [
    {
     "data": {
      "text/html": [
       "<div>\n",
       "<style scoped>\n",
       "    .dataframe tbody tr th:only-of-type {\n",
       "        vertical-align: middle;\n",
       "    }\n",
       "\n",
       "    .dataframe tbody tr th {\n",
       "        vertical-align: top;\n",
       "    }\n",
       "\n",
       "    .dataframe thead th {\n",
       "        text-align: right;\n",
       "    }\n",
       "</style>\n",
       "<table border=\"1\" class=\"dataframe\">\n",
       "  <thead>\n",
       "    <tr style=\"text-align: right;\">\n",
       "      <th></th>\n",
       "      <th>firstname</th>\n",
       "      <th>lastname</th>\n",
       "      <th>email</th>\n",
       "    </tr>\n",
       "  </thead>\n",
       "  <tbody>\n",
       "    <tr>\n",
       "      <th>0</th>\n",
       "      <td>Sabyasachi</td>\n",
       "      <td>Nayak</td>\n",
       "      <td>snayak@company.com</td>\n",
       "    </tr>\n",
       "    <tr>\n",
       "      <th>1</th>\n",
       "      <td>Simon</td>\n",
       "      <td>Cowell</td>\n",
       "      <td>simonc@company.com</td>\n",
       "    </tr>\n",
       "  </tbody>\n",
       "</table>\n",
       "</div>"
      ],
      "text/plain": [
       "    firstname lastname               email\n",
       "0  Sabyasachi    Nayak  snayak@company.com\n",
       "1       Simon   Cowell  simonc@company.com"
      ]
     },
     "metadata": {},
     "output_type": "display_data"
    }
   ],
   "source": [
    "display(persondf)"
   ]
  },
  {
   "cell_type": "code",
   "execution_count": 148,
   "metadata": {},
   "outputs": [
    {
     "data": {
      "text/html": [
       "<div>\n",
       "<style scoped>\n",
       "    .dataframe tbody tr th:only-of-type {\n",
       "        vertical-align: middle;\n",
       "    }\n",
       "\n",
       "    .dataframe tbody tr th {\n",
       "        vertical-align: top;\n",
       "    }\n",
       "\n",
       "    .dataframe thead th {\n",
       "        text-align: right;\n",
       "    }\n",
       "</style>\n",
       "<table border=\"1\" class=\"dataframe\">\n",
       "  <thead>\n",
       "    <tr style=\"text-align: right;\">\n",
       "      <th></th>\n",
       "      <th>firstname</th>\n",
       "      <th>lastname</th>\n",
       "      <th>email</th>\n",
       "      <th>first</th>\n",
       "      <th>emailaddress</th>\n",
       "    </tr>\n",
       "  </thead>\n",
       "  <tbody>\n",
       "    <tr>\n",
       "      <th>0</th>\n",
       "      <td>Sabyasachi</td>\n",
       "      <td>Nayak</td>\n",
       "      <td>snayak@company.com</td>\n",
       "      <td>Sachi</td>\n",
       "      <td>snayak@xyz.com</td>\n",
       "    </tr>\n",
       "    <tr>\n",
       "      <th>1</th>\n",
       "      <td>Simon</td>\n",
       "      <td>Cowell</td>\n",
       "      <td>simonc@company.com</td>\n",
       "      <td>NaN</td>\n",
       "      <td>NaN</td>\n",
       "    </tr>\n",
       "  </tbody>\n",
       "</table>\n",
       "</div>"
      ],
      "text/plain": [
       "    firstname lastname               email  first    emailaddress\n",
       "0  Sabyasachi    Nayak  snayak@company.com  Sachi  snayak@xyz.com\n",
       "1       Simon   Cowell  simonc@company.com    NaN             NaN"
      ]
     },
     "execution_count": 148,
     "metadata": {},
     "output_type": "execute_result"
    }
   ],
   "source": [
    "#update single row targeting multiple fields using loc\n",
    "persondf.loc[0 ,['first','emailaddress']] = ['Sachi' , 'snayak@xyz.com']\n",
    "#persondf = persondf.loc[0: , ['first','last','emailaddress']]\n",
    "persondf"
   ]
  },
  {
   "cell_type": "code",
   "execution_count": 115,
   "metadata": {},
   "outputs": [
    {
     "data": {
      "text/html": [
       "<div>\n",
       "<style scoped>\n",
       "    .dataframe tbody tr th:only-of-type {\n",
       "        vertical-align: middle;\n",
       "    }\n",
       "\n",
       "    .dataframe tbody tr th {\n",
       "        vertical-align: top;\n",
       "    }\n",
       "\n",
       "    .dataframe thead th {\n",
       "        text-align: right;\n",
       "    }\n",
       "</style>\n",
       "<table border=\"1\" class=\"dataframe\">\n",
       "  <thead>\n",
       "    <tr style=\"text-align: right;\">\n",
       "      <th></th>\n",
       "      <th>first</th>\n",
       "      <th>last</th>\n",
       "      <th>emailaddress</th>\n",
       "    </tr>\n",
       "  </thead>\n",
       "  <tbody>\n",
       "    <tr>\n",
       "      <th>0</th>\n",
       "      <td>Sabyasachi</td>\n",
       "      <td>Nayak</td>\n",
       "      <td>snayak@company.com</td>\n",
       "    </tr>\n",
       "    <tr>\n",
       "      <th>1</th>\n",
       "      <td>Simon</td>\n",
       "      <td>Cowell</td>\n",
       "      <td>simonc@company.com</td>\n",
       "    </tr>\n",
       "  </tbody>\n",
       "</table>\n",
       "</div>"
      ],
      "text/plain": [
       "        first    last        emailaddress\n",
       "0  Sabyasachi   Nayak  snayak@company.com\n",
       "1       Simon  Cowell  simonc@company.com"
      ]
     },
     "execution_count": 115,
     "metadata": {},
     "output_type": "execute_result"
    }
   ],
   "source": [
    "#update single row using loc by first filtering a particular record\n",
    "\n",
    "filtr = (persondf['first'] == 'Sachi') #A filtr is a view on the actual df\n",
    "persondf[filtr]['first'] = 'Sabya' #Doesn't work ,A value is trying to be set on a copy of a slice from a DataFrame.\n",
    "\n",
    "#Try using .loc[row_indexer,col_indexer] = value instead\n",
    "persondf.loc[filtr , 'first'] = 'Sabya' #Works with loc\n",
    "persondf"
   ]
  },
  {
   "cell_type": "code",
   "execution_count": 116,
   "metadata": {},
   "outputs": [],
   "source": [
    "#change multiple rows at once ,the simple way\n",
    "persondf['emailaddress'] = persondf['emailaddress'].str.upper()"
   ]
  },
  {
   "cell_type": "code",
   "execution_count": 120,
   "metadata": {},
   "outputs": [
    {
     "data": {
      "text/plain": [
       "first                   Sabyasachi\n",
       "last                        Cowell\n",
       "emailaddress    SIMONC@COMPANY.COM\n",
       "dtype: object"
      ]
     },
     "execution_count": 120,
     "metadata": {},
     "output_type": "execute_result"
    }
   ],
   "source": [
    "#using apply on series data\n",
    "\n",
    "#using lambda\n",
    "persondf['emailaddress'] =persondf['emailaddress'].apply(lambda x : x.lower()) \n",
    "persondf\n",
    "\n",
    " #passing udf\n",
    "def update_email_casing(email):\n",
    "    return email.upper()\n",
    "\n",
    "persondf['emailaddress'] =persondf['emailaddress'].apply(update_email_casing) \n",
    "persondf\n",
    "\n",
    "persondf.apply(pd.Series.min)"
   ]
  },
  {
   "cell_type": "code",
   "execution_count": 119,
   "metadata": {},
   "outputs": [
    {
     "data": {
      "text/plain": [
       "first                   Sabyasachi\n",
       "last                        Cowell\n",
       "emailaddress    SIMONC@COMPANY.COM\n",
       "dtype: object"
      ]
     },
     "execution_count": 119,
     "metadata": {},
     "output_type": "execute_result"
    }
   ],
   "source": [
    "#using apply on dataframe\n",
    "persondf.apply(lambda x:x.min())"
   ]
  },
  {
   "cell_type": "code",
   "execution_count": 130,
   "metadata": {},
   "outputs": [
    {
     "data": {
      "text/plain": [
       "first           2\n",
       "last            2\n",
       "emailaddress    2\n",
       "dtype: int64"
      ]
     },
     "execution_count": 130,
     "metadata": {},
     "output_type": "execute_result"
    },
    {
     "data": {
      "text/plain": [
       "0    5\n",
       "1    6\n",
       "Name: last, dtype: int64"
      ]
     },
     "execution_count": 130,
     "metadata": {},
     "output_type": "execute_result"
    }
   ],
   "source": [
    "#difference between apply on dataframe vs series\n",
    "persondf.apply(len) #get the number of values in each field in case of apply on dataframe\n",
    "persondf[\"last\"].apply(len) #get actual length of values in case of apply on series"
   ]
  },
  {
   "cell_type": "code",
   "execution_count": 137,
   "metadata": {},
   "outputs": [
    {
     "data": {
      "text/html": [
       "<div>\n",
       "<style scoped>\n",
       "    .dataframe tbody tr th:only-of-type {\n",
       "        vertical-align: middle;\n",
       "    }\n",
       "\n",
       "    .dataframe tbody tr th {\n",
       "        vertical-align: top;\n",
       "    }\n",
       "\n",
       "    .dataframe thead th {\n",
       "        text-align: right;\n",
       "    }\n",
       "</style>\n",
       "<table border=\"1\" class=\"dataframe\">\n",
       "  <thead>\n",
       "    <tr style=\"text-align: right;\">\n",
       "      <th></th>\n",
       "      <th>first</th>\n",
       "      <th>last</th>\n",
       "      <th>emailaddress</th>\n",
       "    </tr>\n",
       "  </thead>\n",
       "  <tbody>\n",
       "    <tr>\n",
       "      <th>0</th>\n",
       "      <td>10</td>\n",
       "      <td>5</td>\n",
       "      <td>18</td>\n",
       "    </tr>\n",
       "    <tr>\n",
       "      <th>1</th>\n",
       "      <td>5</td>\n",
       "      <td>6</td>\n",
       "      <td>18</td>\n",
       "    </tr>\n",
       "  </tbody>\n",
       "</table>\n",
       "</div>"
      ],
      "text/plain": [
       "   first  last  emailaddress\n",
       "0     10     5            18\n",
       "1      5     6            18"
      ]
     },
     "execution_count": 137,
     "metadata": {},
     "output_type": "execute_result"
    },
    {
     "ename": "TypeError",
     "evalue": "replace expected at least 2 arguments, got 1",
     "output_type": "error",
     "traceback": [
      "\u001b[1;31m---------------------------------------------------------------------------\u001b[0m",
      "\u001b[1;31mTypeError\u001b[0m                                 Traceback (most recent call last)",
      "\u001b[1;32mj:\\My Drive\\LearnPython\\PythonPractice\\pandas\\pandas-101.ipynb Cell 34\u001b[0m line \u001b[0;36m3\n\u001b[0;32m      <a href='vscode-notebook-cell:/j%3A/My%20Drive/LearnPython/PythonPractice/pandas/pandas-101.ipynb#X51sZmlsZQ%3D%3D?line=0'>1</a>\u001b[0m \u001b[39m#applymap only works on dataframe where it applies the function on each element in a df\u001b[39;00m\n\u001b[0;32m      <a href='vscode-notebook-cell:/j%3A/My%20Drive/LearnPython/PythonPractice/pandas/pandas-101.ipynb#X51sZmlsZQ%3D%3D?line=1'>2</a>\u001b[0m persondf\u001b[39m.\u001b[39mapplymap(\u001b[39mlen\u001b[39m)\n\u001b[1;32m----> <a href='vscode-notebook-cell:/j%3A/My%20Drive/LearnPython/PythonPractice/pandas/pandas-101.ipynb#X51sZmlsZQ%3D%3D?line=2'>3</a>\u001b[0m persondf\u001b[39m.\u001b[39mapplymap(\u001b[39mstr\u001b[39;49m\u001b[39m.\u001b[39;49mreplace(\u001b[39m\"\u001b[39;49m\u001b[39m \u001b[39;49m\u001b[39m\"\u001b[39;49m,\u001b[39m\"\u001b[39;49m\u001b[39m\"\u001b[39;49m)) \u001b[39m#\u001b[39;00m\n",
      "\u001b[1;31mTypeError\u001b[0m: replace expected at least 2 arguments, got 1"
     ]
    }
   ],
   "source": [
    "#applymap only works on dataframe where it applies the function on each element in a df\n",
    "persondf.applymap(len)\n",
    "#persondf.applymap(str.replace(\" \",\"\")) #not working?"
   ]
  },
  {
   "cell_type": "code",
   "execution_count": 138,
   "metadata": {},
   "outputs": [
    {
     "data": {
      "text/plain": [
       "0    Sabya\n",
       "1    Simon\n",
       "Name: first, dtype: object"
      ]
     },
     "execution_count": 138,
     "metadata": {},
     "output_type": "execute_result"
    }
   ],
   "source": [
    "persondf['first'].replace({'Sabyasachi':'Sabya'})"
   ]
  },
  {
   "cell_type": "code",
   "execution_count": null,
   "metadata": {},
   "outputs": [],
   "source": [
    "#map - caveat - rest of the values will be NaN\n",
    "#df[\"Sexuality\"].map({\"Straight / Heterosexual\": \"S/HS\" , \"Bisexual\": \"Bi\", \"Gay or Lesbian\": \"G/L\"}) \n",
    "\n",
    "# use replace instead\n",
    "df[\"Sexuality\"].replace({\"Straight / Heterosexual\": \"S/HS\" , \"Bisexual\": \"Bi\", \"Gay or Lesbian\": \"G/L\"})\n"
   ]
  },
  {
   "cell_type": "markdown",
   "metadata": {},
   "source": [
    "***Add/remove rows/columns***"
   ]
  },
  {
   "cell_type": "code",
   "execution_count": 56,
   "metadata": {},
   "outputs": [],
   "source": [
    "persondf['fullname'] = persondf['firstname'] + persondf['lastname']"
   ]
  },
  {
   "cell_type": "code",
   "execution_count": 70,
   "metadata": {},
   "outputs": [
    {
     "data": {
      "text/html": [
       "<div>\n",
       "<style scoped>\n",
       "    .dataframe tbody tr th:only-of-type {\n",
       "        vertical-align: middle;\n",
       "    }\n",
       "\n",
       "    .dataframe tbody tr th {\n",
       "        vertical-align: top;\n",
       "    }\n",
       "\n",
       "    .dataframe thead th {\n",
       "        text-align: right;\n",
       "    }\n",
       "</style>\n",
       "<table border=\"1\" class=\"dataframe\">\n",
       "  <thead>\n",
       "    <tr style=\"text-align: right;\">\n",
       "      <th></th>\n",
       "      <th>index</th>\n",
       "      <th>fullname</th>\n",
       "    </tr>\n",
       "    <tr>\n",
       "      <th>email</th>\n",
       "      <th></th>\n",
       "      <th></th>\n",
       "    </tr>\n",
       "  </thead>\n",
       "  <tbody>\n",
       "    <tr>\n",
       "      <th>simonc@company.com</th>\n",
       "      <td>1</td>\n",
       "      <td>SimonCowell</td>\n",
       "    </tr>\n",
       "  </tbody>\n",
       "</table>\n",
       "</div>"
      ],
      "text/plain": [
       "                    index     fullname\n",
       "email                                 \n",
       "simonc@company.com      1  SimonCowell"
      ]
     },
     "execution_count": 70,
     "metadata": {},
     "output_type": "execute_result"
    }
   ],
   "source": [
    "persondf.reset_index(inplace=True)\n",
    "#persondf.drop(columns=['firstname','lastname'] ,inplace = True)\n",
    "#persondf.drop(['fullname'] , axis = 1) #using axis = 1 refers to columns \n",
    "\n",
    "#persondf.drop([1] , inplace=True) #drop by row indexer index value\n",
    "\n",
    "persondf.set_index(['email'] , inplace=True)\n",
    "persondf.drop(['snayak@company.com']) #drop by row indexer email label"
   ]
  },
  {
   "cell_type": "code",
   "execution_count": 164,
   "metadata": {},
   "outputs": [],
   "source": [
    "#\n",
    "persondf['fullname'] = persondf['firstname'] + ' ' + persondf['lastname']"
   ]
  },
  {
   "cell_type": "code",
   "execution_count": 53,
   "metadata": {},
   "outputs": [
    {
     "ename": "KeyError",
     "evalue": "'fullname'",
     "output_type": "error",
     "traceback": [
      "\u001b[1;31m---------------------------------------------------------------------------\u001b[0m",
      "\u001b[1;31mKeyError\u001b[0m                                  Traceback (most recent call last)",
      "File \u001b[1;32mc:\\Users\\conne\\anaconda3\\envs\\pysparkvenv\\lib\\site-packages\\pandas\\core\\indexes\\base.py:3653\u001b[0m, in \u001b[0;36mIndex.get_loc\u001b[1;34m(self, key)\u001b[0m\n\u001b[0;32m   3652\u001b[0m \u001b[39mtry\u001b[39;00m:\n\u001b[1;32m-> 3653\u001b[0m     \u001b[39mreturn\u001b[39;00m \u001b[39mself\u001b[39;49m\u001b[39m.\u001b[39;49m_engine\u001b[39m.\u001b[39;49mget_loc(casted_key)\n\u001b[0;32m   3654\u001b[0m \u001b[39mexcept\u001b[39;00m \u001b[39mKeyError\u001b[39;00m \u001b[39mas\u001b[39;00m err:\n",
      "File \u001b[1;32mc:\\Users\\conne\\anaconda3\\envs\\pysparkvenv\\lib\\site-packages\\pandas\\_libs\\index.pyx:147\u001b[0m, in \u001b[0;36mpandas._libs.index.IndexEngine.get_loc\u001b[1;34m()\u001b[0m\n",
      "File \u001b[1;32mc:\\Users\\conne\\anaconda3\\envs\\pysparkvenv\\lib\\site-packages\\pandas\\_libs\\index.pyx:176\u001b[0m, in \u001b[0;36mpandas._libs.index.IndexEngine.get_loc\u001b[1;34m()\u001b[0m\n",
      "File \u001b[1;32mpandas\\_libs\\hashtable_class_helper.pxi:7080\u001b[0m, in \u001b[0;36mpandas._libs.hashtable.PyObjectHashTable.get_item\u001b[1;34m()\u001b[0m\n",
      "File \u001b[1;32mpandas\\_libs\\hashtable_class_helper.pxi:7088\u001b[0m, in \u001b[0;36mpandas._libs.hashtable.PyObjectHashTable.get_item\u001b[1;34m()\u001b[0m\n",
      "\u001b[1;31mKeyError\u001b[0m: 'fullname'",
      "\nThe above exception was the direct cause of the following exception:\n",
      "\u001b[1;31mKeyError\u001b[0m                                  Traceback (most recent call last)",
      "\u001b[1;32mj:\\My Drive\\LearnPython\\PythonPractice\\pandas\\pandas-101.ipynb Cell 40\u001b[0m line \u001b[0;36m2\n\u001b[0;32m      <a href='vscode-notebook-cell:/j%3A/My%20Drive/LearnPython/PythonPractice/pandas/pandas-101.ipynb#X54sZmlsZQ%3D%3D?line=0'>1</a>\u001b[0m \u001b[39m#split a string and assign to 2 variables at a time\u001b[39;00m\n\u001b[1;32m----> <a href='vscode-notebook-cell:/j%3A/My%20Drive/LearnPython/PythonPractice/pandas/pandas-101.ipynb#X54sZmlsZQ%3D%3D?line=1'>2</a>\u001b[0m persondf[[\u001b[39m'\u001b[39m\u001b[39mfirst\u001b[39m\u001b[39m'\u001b[39m,\u001b[39m'\u001b[39m\u001b[39mlast\u001b[39m\u001b[39m'\u001b[39m]] \u001b[39m=\u001b[39m persondf[\u001b[39m'\u001b[39;49m\u001b[39mfullname\u001b[39;49m\u001b[39m'\u001b[39;49m]\u001b[39m.\u001b[39mstr\u001b[39m.\u001b[39msplit(\u001b[39m'\u001b[39m\u001b[39m \u001b[39m\u001b[39m'\u001b[39m, expand \u001b[39m=\u001b[39m \u001b[39mTrue\u001b[39;00m)\n\u001b[0;32m      <a href='vscode-notebook-cell:/j%3A/My%20Drive/LearnPython/PythonPractice/pandas/pandas-101.ipynb#X54sZmlsZQ%3D%3D?line=2'>3</a>\u001b[0m persondf\n",
      "File \u001b[1;32mc:\\Users\\conne\\anaconda3\\envs\\pysparkvenv\\lib\\site-packages\\pandas\\core\\frame.py:3761\u001b[0m, in \u001b[0;36mDataFrame.__getitem__\u001b[1;34m(self, key)\u001b[0m\n\u001b[0;32m   3759\u001b[0m \u001b[39mif\u001b[39;00m \u001b[39mself\u001b[39m\u001b[39m.\u001b[39mcolumns\u001b[39m.\u001b[39mnlevels \u001b[39m>\u001b[39m \u001b[39m1\u001b[39m:\n\u001b[0;32m   3760\u001b[0m     \u001b[39mreturn\u001b[39;00m \u001b[39mself\u001b[39m\u001b[39m.\u001b[39m_getitem_multilevel(key)\n\u001b[1;32m-> 3761\u001b[0m indexer \u001b[39m=\u001b[39m \u001b[39mself\u001b[39;49m\u001b[39m.\u001b[39;49mcolumns\u001b[39m.\u001b[39;49mget_loc(key)\n\u001b[0;32m   3762\u001b[0m \u001b[39mif\u001b[39;00m is_integer(indexer):\n\u001b[0;32m   3763\u001b[0m     indexer \u001b[39m=\u001b[39m [indexer]\n",
      "File \u001b[1;32mc:\\Users\\conne\\anaconda3\\envs\\pysparkvenv\\lib\\site-packages\\pandas\\core\\indexes\\base.py:3655\u001b[0m, in \u001b[0;36mIndex.get_loc\u001b[1;34m(self, key)\u001b[0m\n\u001b[0;32m   3653\u001b[0m     \u001b[39mreturn\u001b[39;00m \u001b[39mself\u001b[39m\u001b[39m.\u001b[39m_engine\u001b[39m.\u001b[39mget_loc(casted_key)\n\u001b[0;32m   3654\u001b[0m \u001b[39mexcept\u001b[39;00m \u001b[39mKeyError\u001b[39;00m \u001b[39mas\u001b[39;00m err:\n\u001b[1;32m-> 3655\u001b[0m     \u001b[39mraise\u001b[39;00m \u001b[39mKeyError\u001b[39;00m(key) \u001b[39mfrom\u001b[39;00m \u001b[39merr\u001b[39;00m\n\u001b[0;32m   3656\u001b[0m \u001b[39mexcept\u001b[39;00m \u001b[39mTypeError\u001b[39;00m:\n\u001b[0;32m   3657\u001b[0m     \u001b[39m# If we have a listlike key, _check_indexing_error will raise\u001b[39;00m\n\u001b[0;32m   3658\u001b[0m     \u001b[39m#  InvalidIndexError. Otherwise we fall through and re-raise\u001b[39;00m\n\u001b[0;32m   3659\u001b[0m     \u001b[39m#  the TypeError.\u001b[39;00m\n\u001b[0;32m   3660\u001b[0m     \u001b[39mself\u001b[39m\u001b[39m.\u001b[39m_check_indexing_error(key)\n",
      "\u001b[1;31mKeyError\u001b[0m: 'fullname'"
     ]
    }
   ],
   "source": [
    "#split a string and assign to 2 variables at a time\n",
    "persondf[['first','last']] = persondf['fullname'].str.split(' ', expand = True)\n",
    "persondf"
   ]
  },
  {
   "cell_type": "code",
   "execution_count": 67,
   "metadata": {},
   "outputs": [],
   "source": [
    "path = 'C:\\\\Users\\\\conne\\\\snowflake\\\\files\\\\load\\correct_data.csv'\n",
    "\n",
    "#usecols = ['Address', 'Supplier', 'SupplierCode']\n",
    "#nrows = 3\n",
    "#skipfooter = 1\n",
    "#skip_blank_lines\n",
    "#chunksize = 40000\n",
    "#parallel = 2\n",
    "#dateformat = 'MM-dd-YYYY'\n",
    "datadf = pd.read_csv(path, delimiter=\",\" , header = 0  ,index_col = ['Supplier','SupplierCode'],skiprows = [3,5]) "
   ]
  },
  {
   "cell_type": "code",
   "execution_count": 68,
   "metadata": {},
   "outputs": [
    {
     "data": {
      "text/html": [
       "<div>\n",
       "<style scoped>\n",
       "    .dataframe tbody tr th:only-of-type {\n",
       "        vertical-align: middle;\n",
       "    }\n",
       "\n",
       "    .dataframe tbody tr th {\n",
       "        vertical-align: top;\n",
       "    }\n",
       "\n",
       "    .dataframe thead th {\n",
       "        text-align: right;\n",
       "    }\n",
       "</style>\n",
       "<table border=\"1\" class=\"dataframe\">\n",
       "  <thead>\n",
       "    <tr style=\"text-align: right;\">\n",
       "      <th></th>\n",
       "      <th></th>\n",
       "      <th>Address</th>\n",
       "      <th>Unnamed: 3</th>\n",
       "      <th>Rating</th>\n",
       "    </tr>\n",
       "    <tr>\n",
       "      <th>Supplier</th>\n",
       "      <th>SupplierCode</th>\n",
       "      <th></th>\n",
       "      <th></th>\n",
       "      <th></th>\n",
       "    </tr>\n",
       "  </thead>\n",
       "  <tbody>\n",
       "    <tr>\n",
       "      <th>AQUA PRIVATE LTD</th>\n",
       "      <th>X-1121</th>\n",
       "      <td>685,SaheedNagar,BBSR,Odisha</td>\n",
       "      <td>NaN</td>\n",
       "      <td>5.0</td>\n",
       "    </tr>\n",
       "    <tr>\n",
       "      <th>ABC PRIVATE LTD</th>\n",
       "      <th>X-1001</th>\n",
       "      <td>605,SaheedNagar,BBSR</td>\n",
       "      <td>NaN</td>\n",
       "      <td>NaN</td>\n",
       "    </tr>\n",
       "    <tr>\n",
       "      <th>Maa Diagnostic</th>\n",
       "      <th>X-234</th>\n",
       "      <td>670,SaheedNagar,BBSR</td>\n",
       "      <td>NaN</td>\n",
       "      <td>NaN</td>\n",
       "    </tr>\n",
       "  </tbody>\n",
       "</table>\n",
       "</div>"
      ],
      "text/plain": [
       "                                                   Address  Unnamed: 3  Rating\n",
       "Supplier         SupplierCode                                                 \n",
       "AQUA PRIVATE LTD X-1121        685,SaheedNagar,BBSR,Odisha         NaN     5.0\n",
       "ABC PRIVATE LTD  X-1001               605,SaheedNagar,BBSR         NaN     NaN\n",
       "Maa Diagnostic   X-234                670,SaheedNagar,BBSR         NaN     NaN"
      ]
     },
     "execution_count": 68,
     "metadata": {},
     "output_type": "execute_result"
    }
   ],
   "source": [
    "datadf"
   ]
  },
  {
   "cell_type": "code",
   "execution_count": 61,
   "metadata": {},
   "outputs": [
    {
     "data": {
      "text/plain": [
       "Address       685,SaheedNagar,BBSR,Odisha\n",
       "Unnamed: 3                            NaN\n",
       "Rating                                  5\n",
       "Name: (AQUA PRIVATE LTD, X-1121), dtype: object"
      ]
     },
     "execution_count": 61,
     "metadata": {},
     "output_type": "execute_result"
    }
   ],
   "source": [
    "\n",
    "datadf.loc[\"AQUA PRIVATE LTD\",'X-1121'] #search by index"
   ]
  },
  {
   "cell_type": "code",
   "execution_count": 65,
   "metadata": {},
   "outputs": [
    {
     "data": {
      "text/html": [
       "<div>\n",
       "<style scoped>\n",
       "    .dataframe tbody tr th:only-of-type {\n",
       "        vertical-align: middle;\n",
       "    }\n",
       "\n",
       "    .dataframe tbody tr th {\n",
       "        vertical-align: top;\n",
       "    }\n",
       "\n",
       "    .dataframe thead th {\n",
       "        text-align: right;\n",
       "    }\n",
       "</style>\n",
       "<table border=\"1\" class=\"dataframe\">\n",
       "  <thead>\n",
       "    <tr style=\"text-align: right;\">\n",
       "      <th></th>\n",
       "      <th>Address</th>\n",
       "      <th>Unnamed: 3</th>\n",
       "      <th>Rating</th>\n",
       "    </tr>\n",
       "    <tr>\n",
       "      <th>SupplierCode</th>\n",
       "      <th></th>\n",
       "      <th></th>\n",
       "      <th></th>\n",
       "    </tr>\n",
       "  </thead>\n",
       "  <tbody>\n",
       "    <tr>\n",
       "      <th>X-1121</th>\n",
       "      <td>685,SaheedNagar,BBSR,Odisha</td>\n",
       "      <td>NaN</td>\n",
       "      <td>5</td>\n",
       "    </tr>\n",
       "  </tbody>\n",
       "</table>\n",
       "</div>"
      ],
      "text/plain": [
       "                                  Address  Unnamed: 3  Rating\n",
       "SupplierCode                                                 \n",
       "X-1121        685,SaheedNagar,BBSR,Odisha         NaN       5"
      ]
     },
     "execution_count": 65,
     "metadata": {},
     "output_type": "execute_result"
    }
   ],
   "source": [
    "datadf.loc[\"AQUA PRIVATE LTD\",'Address':'Rating']"
   ]
  },
  {
   "cell_type": "code",
   "execution_count": 77,
   "metadata": {},
   "outputs": [
    {
     "data": {
      "text/html": [
       "<div>\n",
       "<style scoped>\n",
       "    .dataframe tbody tr th:only-of-type {\n",
       "        vertical-align: middle;\n",
       "    }\n",
       "\n",
       "    .dataframe tbody tr th {\n",
       "        vertical-align: top;\n",
       "    }\n",
       "\n",
       "    .dataframe thead th {\n",
       "        text-align: right;\n",
       "    }\n",
       "</style>\n",
       "<table border=\"1\" class=\"dataframe\">\n",
       "  <thead>\n",
       "    <tr style=\"text-align: right;\">\n",
       "      <th></th>\n",
       "      <th></th>\n",
       "      <th>Address</th>\n",
       "      <th>Unnamed: 3</th>\n",
       "      <th>Rating</th>\n",
       "    </tr>\n",
       "    <tr>\n",
       "      <th>Supplier</th>\n",
       "      <th>SupplierCode</th>\n",
       "      <th></th>\n",
       "      <th></th>\n",
       "      <th></th>\n",
       "    </tr>\n",
       "  </thead>\n",
       "  <tbody>\n",
       "    <tr>\n",
       "      <th>AQUA PRIVATE LTD</th>\n",
       "      <th>X-1121</th>\n",
       "      <td>685,SaheedNagar,BBSR,Odisha</td>\n",
       "      <td>NaN</td>\n",
       "      <td>5.0</td>\n",
       "    </tr>\n",
       "  </tbody>\n",
       "</table>\n",
       "</div>"
      ],
      "text/plain": [
       "                                                   Address  Unnamed: 3  Rating\n",
       "Supplier         SupplierCode                                                 \n",
       "AQUA PRIVATE LTD X-1121        685,SaheedNagar,BBSR,Odisha         NaN     5.0"
      ]
     },
     "execution_count": 77,
     "metadata": {},
     "output_type": "execute_result"
    },
    {
     "data": {
      "text/html": [
       "<div>\n",
       "<style scoped>\n",
       "    .dataframe tbody tr th:only-of-type {\n",
       "        vertical-align: middle;\n",
       "    }\n",
       "\n",
       "    .dataframe tbody tr th {\n",
       "        vertical-align: top;\n",
       "    }\n",
       "\n",
       "    .dataframe thead th {\n",
       "        text-align: right;\n",
       "    }\n",
       "</style>\n",
       "<table border=\"1\" class=\"dataframe\">\n",
       "  <thead>\n",
       "    <tr style=\"text-align: right;\">\n",
       "      <th></th>\n",
       "      <th></th>\n",
       "      <th>Address</th>\n",
       "    </tr>\n",
       "    <tr>\n",
       "      <th>Supplier</th>\n",
       "      <th>SupplierCode</th>\n",
       "      <th></th>\n",
       "    </tr>\n",
       "  </thead>\n",
       "  <tbody>\n",
       "    <tr>\n",
       "      <th>AQUA PRIVATE LTD</th>\n",
       "      <th>X-1121</th>\n",
       "      <td>685,SaheedNagar,BBSR,Odisha</td>\n",
       "    </tr>\n",
       "    <tr>\n",
       "      <th>ABC PRIVATE LTD</th>\n",
       "      <th>X-1001</th>\n",
       "      <td>605,SaheedNagar,BBSR</td>\n",
       "    </tr>\n",
       "    <tr>\n",
       "      <th>Maa Diagnostic</th>\n",
       "      <th>X-234</th>\n",
       "      <td>670,SaheedNagar,BBSR</td>\n",
       "    </tr>\n",
       "  </tbody>\n",
       "</table>\n",
       "</div>"
      ],
      "text/plain": [
       "                                                   Address\n",
       "Supplier         SupplierCode                             \n",
       "AQUA PRIVATE LTD X-1121        685,SaheedNagar,BBSR,Odisha\n",
       "ABC PRIVATE LTD  X-1001               605,SaheedNagar,BBSR\n",
       "Maa Diagnostic   X-234                670,SaheedNagar,BBSR"
      ]
     },
     "execution_count": 77,
     "metadata": {},
     "output_type": "execute_result"
    },
    {
     "data": {
      "text/html": [
       "<div>\n",
       "<style scoped>\n",
       "    .dataframe tbody tr th:only-of-type {\n",
       "        vertical-align: middle;\n",
       "    }\n",
       "\n",
       "    .dataframe tbody tr th {\n",
       "        vertical-align: top;\n",
       "    }\n",
       "\n",
       "    .dataframe thead th {\n",
       "        text-align: right;\n",
       "    }\n",
       "</style>\n",
       "<table border=\"1\" class=\"dataframe\">\n",
       "  <thead>\n",
       "    <tr style=\"text-align: right;\">\n",
       "      <th></th>\n",
       "      <th></th>\n",
       "      <th>Address</th>\n",
       "    </tr>\n",
       "    <tr>\n",
       "      <th>Supplier</th>\n",
       "      <th>SupplierCode</th>\n",
       "      <th></th>\n",
       "    </tr>\n",
       "  </thead>\n",
       "  <tbody>\n",
       "    <tr>\n",
       "      <th>AQUA PRIVATE LTD</th>\n",
       "      <th>X-1121</th>\n",
       "      <td>685,SaheedNagar,BBSR,Odisha</td>\n",
       "    </tr>\n",
       "    <tr>\n",
       "      <th>ABC PRIVATE LTD</th>\n",
       "      <th>X-1001</th>\n",
       "      <td>605,SaheedNagar,BBSR</td>\n",
       "    </tr>\n",
       "    <tr>\n",
       "      <th>Maa Diagnostic</th>\n",
       "      <th>X-234</th>\n",
       "      <td>670,SaheedNagar,BBSR</td>\n",
       "    </tr>\n",
       "  </tbody>\n",
       "</table>\n",
       "</div>"
      ],
      "text/plain": [
       "                                                   Address\n",
       "Supplier         SupplierCode                             \n",
       "AQUA PRIVATE LTD X-1121        685,SaheedNagar,BBSR,Odisha\n",
       "ABC PRIVATE LTD  X-1001               605,SaheedNagar,BBSR\n",
       "Maa Diagnostic   X-234                670,SaheedNagar,BBSR"
      ]
     },
     "execution_count": 77,
     "metadata": {},
     "output_type": "execute_result"
    }
   ],
   "source": [
    "#np.nan ,pd.NaT ,pd.Timestamp(\"1940-04-25\")\n",
    "\n",
    "datadf.dropna(axis='index' , thresh = 1 , subset = 'Rating') #remove more than one NaN row wise\n",
    "datadf.dropna(axis='columns') #remove unnamed columns\n",
    "datadf.dropna(axis='columns' , how = 'any') #remove unnamed columns\n",
    "datadf.dropna(axis='columns' , how = 'any')\n"
   ]
  },
  {
   "cell_type": "code",
   "execution_count": 296,
   "metadata": {},
   "outputs": [
    {
     "data": {
      "text/html": [
       "<div>\n",
       "<style scoped>\n",
       "    .dataframe tbody tr th:only-of-type {\n",
       "        vertical-align: middle;\n",
       "    }\n",
       "\n",
       "    .dataframe tbody tr th {\n",
       "        vertical-align: top;\n",
       "    }\n",
       "\n",
       "    .dataframe thead th {\n",
       "        text-align: right;\n",
       "    }\n",
       "</style>\n",
       "<table border=\"1\" class=\"dataframe\">\n",
       "  <thead>\n",
       "    <tr style=\"text-align: right;\">\n",
       "      <th></th>\n",
       "      <th>Supplier</th>\n",
       "      <th>SupplierCode</th>\n",
       "      <th>Address</th>\n",
       "    </tr>\n",
       "  </thead>\n",
       "  <tbody>\n",
       "    <tr>\n",
       "      <th>0</th>\n",
       "      <td>Supplier</td>\n",
       "      <td>SupplierCode</td>\n",
       "      <td>\"Address\"</td>\n",
       "    </tr>\n",
       "    <tr>\n",
       "      <th>1</th>\n",
       "      <td>AQUA PRIVATE LTD</td>\n",
       "      <td>X-1121</td>\n",
       "      <td>\"685,SaheedNagar,BBSR,Odisha\"</td>\n",
       "    </tr>\n",
       "    <tr>\n",
       "      <th>2</th>\n",
       "      <td>ABC PRIVATE LTD</td>\n",
       "      <td>X-1001</td>\n",
       "      <td>\"605,SaheedNagar,BBSR\"</td>\n",
       "    </tr>\n",
       "    <tr>\n",
       "      <th>3</th>\n",
       "      <td>OM Diagnostic</td>\n",
       "      <td>X-234</td>\n",
       "      <td>\"676,SaheedNagar,BBSR\"</td>\n",
       "    </tr>\n",
       "  </tbody>\n",
       "</table>\n",
       "</div>"
      ],
      "text/plain": [
       "           Supplier  SupplierCode                        Address\n",
       "0          Supplier  SupplierCode                      \"Address\"\n",
       "1  AQUA PRIVATE LTD        X-1121  \"685,SaheedNagar,BBSR,Odisha\"\n",
       "2   ABC PRIVATE LTD        X-1001         \"605,SaheedNagar,BBSR\"\n",
       "3     OM Diagnostic         X-234         \"676,SaheedNagar,BBSR\""
      ]
     },
     "execution_count": 296,
     "metadata": {},
     "output_type": "execute_result"
    }
   ],
   "source": [
    "dir = 'C:\\\\Users\\\\conne\\\\snowflake\\\\files\\\\load\\\\'\n",
    "\n",
    "path = dir + 'bad_data.csv'\n",
    "\n",
    "baddf = pd.read_csv(path , delimiter = '\\r\\n' ,header= None , index_col = None , engine = 'python') \n",
    "\n",
    "\n",
    "baddf[['Supplier', 'SupplierCode','Address']] = baddf[0].str.split(',', n=2,expand=True) # n - 0,1,2\n",
    "baddf['Address'] = '\"' + baddf['Address'] + '\"'\n",
    "\n",
    "# baddf.columns[0]\n",
    "# baddf.drop(columns = [0])\n",
    "baddf = baddf.iloc[:, 1:]\n",
    "\n",
    "baddf\n",
    "\n",
    "baddf.to_csv(dir+'corrected_data.csv' , index = False  , mode='w' ,header = None)\n",
    "\n",
    "\n",
    "\n",
    "    # quoting: CSVQuoting = ...,\n",
    "    # quotechar: _str = ...,\n",
    "    # lineterminator: _str | None = ...,\n",
    "    # chunksize: int | None = ...,\n",
    "    # date_format: _str | None = ...,\n",
    "    # doublequote: _bool = ...,\n",
    "    # escapechar: _str | None = ...,"
   ]
  },
  {
   "cell_type": "code",
   "execution_count": 152,
   "metadata": {},
   "outputs": [
    {
     "data": {
      "text/html": [
       "<div>\n",
       "<style scoped>\n",
       "    .dataframe tbody tr th:only-of-type {\n",
       "        vertical-align: middle;\n",
       "    }\n",
       "\n",
       "    .dataframe tbody tr th {\n",
       "        vertical-align: top;\n",
       "    }\n",
       "\n",
       "    .dataframe thead th {\n",
       "        text-align: right;\n",
       "    }\n",
       "</style>\n",
       "<table border=\"1\" class=\"dataframe\">\n",
       "  <thead>\n",
       "    <tr style=\"text-align: right;\">\n",
       "      <th></th>\n",
       "      <th>Supplier,SupplierCode,\"Address\"</th>\n",
       "    </tr>\n",
       "  </thead>\n",
       "  <tbody>\n",
       "    <tr>\n",
       "      <th>0</th>\n",
       "      <td>AQUA PRIVATE LTD,X-1121,\"685,SaheedNagar,BBSR,...</td>\n",
       "    </tr>\n",
       "    <tr>\n",
       "      <th>1</th>\n",
       "      <td>ABC PRIVATE LTD,X-1001,\"605,SaheedNagar,BBSR\"</td>\n",
       "    </tr>\n",
       "    <tr>\n",
       "      <th>2</th>\n",
       "      <td>OM Diagnostic,X-234,\"676,SaheedNagar,BBSR\"</td>\n",
       "    </tr>\n",
       "  </tbody>\n",
       "</table>\n",
       "</div>"
      ],
      "text/plain": [
       "                     Supplier,SupplierCode,\"Address\"\n",
       "0  AQUA PRIVATE LTD,X-1121,\"685,SaheedNagar,BBSR,...\n",
       "1      ABC PRIVATE LTD,X-1001,\"605,SaheedNagar,BBSR\"\n",
       "2         OM Diagnostic,X-234,\"676,SaheedNagar,BBSR\""
      ]
     },
     "execution_count": 152,
     "metadata": {},
     "output_type": "execute_result"
    }
   ],
   "source": [
    "dir = 'C:\\\\Users\\\\conne\\\\snowflake\\\\files\\\\load\\\\'\n",
    "\n",
    "path = dir + 'corrected_data.csv'\n",
    "\n",
    "correcteddf = pd.read_csv(path , sep= ',',header= 0 , index_col = None) \n",
    "\n",
    "correcteddf"
   ]
  },
  {
   "cell_type": "markdown",
   "metadata": {},
   "source": [
    "\n",
    "import sqlalchemy\n",
    "import pandas\n",
    "engine = sqlalchemy.create_engine(\n",
    "    sqlalchemy.engine.url.URL(\n",
    "        drivername=\"postgresql\",\n",
    "        username=\"username\",\n",
    "        password=\"password\",\n",
    "        host=\"host\",\n",
    "        port=\"port\",\n",
    "        database=\"database\",\n",
    "    ),\n",
    "    echo_pool=True,\n",
    ")\n",
    "print(\"connecting with engine \" + str(engine))\n",
    "connection = engine.connect()\n",
    "query = \"select * from table\"\n",
    "df = pd.read_sql_query(query, connection)"
   ]
  },
  {
   "cell_type": "markdown",
   "metadata": {},
   "source": [
    "!pip install ipython-sql\n",
    "%load_ext sql\n",
    "print(\"connecting with engine \" + str(engine))\n",
    "\n",
    "%%sql\n",
    "CREATE TABLE sales\n",
    "(\n",
    "    key       varchar(6),\n",
    "    ts        timestamp,\n",
    "    product   integer,\n",
    "    completed boolean,\n",
    "    price     float\n",
    ");\n",
    "INSERT INTO sales\n",
    "VALUES ('sale_1', '2019-11-08 00:00', 0, TRUE, 1.1),\n",
    "       ('sale_2', '2019-11-08 01:00', 0, FALSE, 1.2),\n",
    "       ('sale_3', '2019-11-08 01:00', 0, TRUE, 1.3),\n",
    "       ('sale_4', '2019-11-08 01:00', 1, FALSE, 1.4),\n",
    "       ('sale_5', '2019-11-08 02:00', 1, TRUE, 1.5),\n",
    "       ('sale_6', '2019-11-08 02:00', 1, TRUE, 1.5);"
   ]
  },
  {
   "cell_type": "markdown",
   "metadata": {},
   "source": [
    "%%sql\n",
    "select * from sales;"
   ]
  }
 ],
 "metadata": {
  "kernelspec": {
   "display_name": "pysparkvenv",
   "language": "python",
   "name": "python3"
  },
  "language_info": {
   "codemirror_mode": {
    "name": "ipython",
    "version": 3
   },
   "file_extension": ".py",
   "mimetype": "text/x-python",
   "name": "python",
   "nbconvert_exporter": "python",
   "pygments_lexer": "ipython3",
   "version": "3.8.16"
  },
  "orig_nbformat": 4
 },
 "nbformat": 4,
 "nbformat_minor": 2
}
