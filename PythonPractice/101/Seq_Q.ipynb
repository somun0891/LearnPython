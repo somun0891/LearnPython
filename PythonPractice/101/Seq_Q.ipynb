{
 "cells": [
  {
   "cell_type": "markdown",
   "metadata": {},
   "source": [
    "# Practice Exercise - 02"
   ]
  },
  {
   "cell_type": "markdown",
   "metadata": {},
   "source": [
    "### Question 1:\n",
    "\n",
    "Print the item 'Orange' from the list of fruits given below.\n",
    "\n",
    "fruits = ['Apple', 'Grapes', 'Orange', 'Pineapple', 'Watermelon']\n",
    "\n",
    "#### Expected Output:\n",
    "\n",
    "Orange"
   ]
  },
  {
   "cell_type": "code",
   "execution_count": 1,
   "metadata": {},
   "outputs": [
    {
     "name": "stdout",
     "output_type": "stream",
     "text": [
      "Orange\n"
     ]
    }
   ],
   "source": [
    "fruits = ['Apple', 'Grapes', 'Orange', 'Pineapple', 'Watermelon']\n",
    "print(fruits[2])"
   ]
  },
  {
   "cell_type": "markdown",
   "metadata": {},
   "source": [
    "### Question 2:\n",
    "\n",
    "We have a list of fruits and a string given below. Since the string contains fruit, add that string to the given list and print that new list.\n",
    "\n",
    "fruit_list = ['Apple', 'Grapes', 'Orange', 'Pineapple', 'Watermelon']\n",
    "<br>fruit_string = 'Mango'\n",
    "\n",
    "#### Expected Output:\n",
    "\n",
    "['Apple', 'Grapes', 'Orange', 'Pineapple', 'Watermelon', 'Mango']"
   ]
  },
  {
   "cell_type": "code",
   "execution_count": 6,
   "metadata": {},
   "outputs": [
    {
     "data": {
      "text/plain": [
       "['Apple', 'Grapes', 'Orange', 'Pineapple', 'Watermelon', 'Mango']"
      ]
     },
     "execution_count": 6,
     "metadata": {},
     "output_type": "execute_result"
    }
   ],
   "source": [
    "fruits = ['Apple', 'Grapes', 'Orange', 'Pineapple', 'Watermelon']\n",
    "fruit_string = 'Mango' #don't add string to a list ,else it will split it as 'M' , 'A' , 'N'  , 'G' , 'O'\n",
    "\n",
    "new_fruit = ['Mango']\n",
    "#fruits.append('Mango')\n",
    "\n",
    "new_fruit = fruits + new_fruit\n",
    "\n",
    "new_fruit\n",
    "\n"
   ]
  },
  {
   "cell_type": "markdown",
   "metadata": {},
   "source": [
    "### Question 3:\n",
    "\n",
    "There is a list given below which contains the name of cities. Repeat this list of cities three times, and print the old list and the new list.\n",
    "\n",
    "cityList = ['London', 'New York', 'Delhi']\n",
    "\n",
    "#### Expected Output:\n",
    "\n",
    "Old City List: ['London', 'New York', 'Delhi']\n",
    "<br>New City List: ['London', 'New York', 'Delhi', 'London', 'New York', 'Delhi', 'London', 'New York', 'Delhi']"
   ]
  },
  {
   "cell_type": "code",
   "execution_count": 8,
   "metadata": {},
   "outputs": [
    {
     "name": "stdout",
     "output_type": "stream",
     "text": [
      "['London', 'New York', 'Delhi', 'London', 'New York', 'Delhi', 'London', 'New York', 'Delhi']\n"
     ]
    }
   ],
   "source": [
    "cityList = ['London', 'New York', 'Delhi']\n",
    "print(cityList * 3)"
   ]
  },
  {
   "cell_type": "markdown",
   "metadata": {},
   "source": [
    "### Question 4:\n",
    "\n",
    "Check if the city 'Delhi' is present in the list of cities given below.\n",
    "\n",
    "cityList = ['London', 'New York', 'Delhi', 'Mumbai', 'Paris']\n",
    "\n",
    "#### Expected Output:\n",
    "\n",
    "True"
   ]
  },
  {
   "cell_type": "code",
   "execution_count": 10,
   "metadata": {},
   "outputs": [
    {
     "name": "stdout",
     "output_type": "stream",
     "text": [
      "True\n"
     ]
    }
   ],
   "source": [
    "cityList = ['London', 'New York', 'Delhi', 'Mumbai', 'Paris']\n",
    "print('Delhi' in cityList)"
   ]
  },
  {
   "cell_type": "markdown",
   "metadata": {},
   "source": [
    "### Question 5:\n",
    "\n",
    "Reverse the string given below.\n",
    "\n",
    "name = 'Learning Journal'\n",
    "\n",
    "#### Expected Output:\n",
    "\n",
    "'lanruoJ gninraeL'"
   ]
  },
  {
   "cell_type": "code",
   "execution_count": 11,
   "metadata": {},
   "outputs": [
    {
     "data": {
      "text/plain": [
       "'lanruoJ gninraeL'"
      ]
     },
     "execution_count": 11,
     "metadata": {},
     "output_type": "execute_result"
    }
   ],
   "source": [
    "name = 'Learning Journal'\n",
    "name[::-1]"
   ]
  },
  {
   "cell_type": "markdown",
   "metadata": {},
   "source": [
    "### Question 6:\n",
    "\n",
    "There is a string object given below. Print the word 'sunny' from string 'msg.'\n",
    "\n",
    "msg = 'A bright sunny day'\n",
    "\n",
    "#### Expected Solution:\n",
    "\n",
    "'sunny'"
   ]
  },
  {
   "cell_type": "code",
   "execution_count": 13,
   "metadata": {},
   "outputs": [
    {
     "data": {
      "text/plain": [
       "'sunny'"
      ]
     },
     "execution_count": 13,
     "metadata": {},
     "output_type": "execute_result"
    }
   ],
   "source": [
    "msg = 'A bright sunny day'\n",
    "msg[9:-4]"
   ]
  },
  {
   "cell_type": "markdown",
   "metadata": {},
   "source": [
    "### Question 7:\n",
    "\n",
    "Check if the cities 'New York' and 'Delhi' are present in the list of cities given below.\n",
    "\n",
    "cityList = ['London', 'New York', 'Delhi', 'Mumbai', 'Paris']\n",
    "\n",
    "#### Expected Output:\n",
    "\n",
    "True\n",
    "<br>True"
   ]
  },
  {
   "cell_type": "code",
   "execution_count": 14,
   "metadata": {},
   "outputs": [
    {
     "name": "stdout",
     "output_type": "stream",
     "text": [
      "True\n",
      "True\n"
     ]
    }
   ],
   "source": [
    "cityList = ['London', 'New York', 'Delhi', 'Mumbai', 'Paris']\n",
    "print('Delhi' in cityList)\n",
    "print('New York' in cityList)"
   ]
  },
  {
   "cell_type": "markdown",
   "metadata": {},
   "source": [
    "### Question 8:\n",
    "\n",
    "Using the slicing operation, remove the whitespaces between the letters and print the string once again.\n",
    "\n",
    "name = 'P y t h o n'\n",
    "\n",
    "#### Expected Output:\n",
    "\n",
    "'Python'"
   ]
  },
  {
   "cell_type": "code",
   "execution_count": 16,
   "metadata": {},
   "outputs": [
    {
     "name": "stdout",
     "output_type": "stream",
     "text": [
      "Python\n",
      "Python\n"
     ]
    }
   ],
   "source": [
    "name = 'P y t h o n'\n",
    "print(name.replace(' ','',-1))\n",
    "\n",
    "new = '';\n",
    "\n",
    "for chr in name:\n",
    "    if chr != ' ':\n",
    "        new = new + chr;\n",
    "\n",
    "print(new)     \n"
   ]
  },
  {
   "cell_type": "markdown",
   "metadata": {},
   "source": [
    "### Question 9:\n",
    "\n",
    "Print the index of the letter 'h' from the string given below.\n",
    "\n",
    "name = 'Python'\n",
    "\n",
    "#### Expected Output:\n",
    "\n",
    "3"
   ]
  },
  {
   "cell_type": "code",
   "execution_count": 17,
   "metadata": {},
   "outputs": [
    {
     "data": {
      "text/plain": [
       "'h'"
      ]
     },
     "execution_count": 17,
     "metadata": {},
     "output_type": "execute_result"
    }
   ],
   "source": [
    "name = 'Python'\n",
    "name[3]"
   ]
  },
  {
   "cell_type": "markdown",
   "metadata": {},
   "source": [
    "### Question 10:\n",
    "\n",
    "Print the odd indexed elements from the list of colors given below.\n",
    "\n",
    "myList = ['Red', 'Blue', 'Orange', 'White', 'Black', 'Yellow']\n",
    "\n",
    "#### Expected Output:\n",
    "\n",
    "['Blue', 'White', 'Yellow']"
   ]
  },
  {
   "cell_type": "code",
   "execution_count": 18,
   "metadata": {},
   "outputs": [
    {
     "data": {
      "text/plain": [
       "['Blue', 'White', 'Yellow']"
      ]
     },
     "execution_count": 18,
     "metadata": {},
     "output_type": "execute_result"
    }
   ],
   "source": [
    "myList = ['Red', 'Blue', 'Orange', 'White', 'Black', 'Yellow']\n",
    "\n",
    "myList[1::2]\n"
   ]
  }
 ],
 "metadata": {
  "kernelspec": {
   "display_name": "Python 3",
   "language": "python",
   "name": "python3"
  },
  "language_info": {
   "codemirror_mode": {
    "name": "ipython",
    "version": 3
   },
   "file_extension": ".py",
   "mimetype": "text/x-python",
   "name": "python",
   "nbconvert_exporter": "python",
   "pygments_lexer": "ipython3",
   "version": "3.8.16"
  }
 },
 "nbformat": 4,
 "nbformat_minor": 4
}
