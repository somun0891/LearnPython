{
 "cells": [
  {
   "cell_type": "code",
   "execution_count": 1,
   "metadata": {},
   "outputs": [
    {
     "name": "stdout",
     "output_type": "stream",
     "text": [
      "Hello\n"
     ]
    }
   ],
   "source": [
    "print('Hello')"
   ]
  },
  {
   "cell_type": "code",
   "execution_count": null,
   "metadata": {},
   "outputs": [],
   "source": [
    "# function definition , arg and its datatypes , return value / None \n",
    "# call by reference  , a is b , a == b  , id(a) - hash value of an object\n",
    "# Global and local namespace \n",
    "# VARAGS AND KWARGS"
   ]
  },
  {
   "cell_type": "code",
   "execution_count": 6,
   "metadata": {},
   "outputs": [],
   "source": [
    "def greet_user(name:str , greeting:str) -> str:\n",
    "    \"\"\"  \n",
    "    This is a function that takes 2 input parameters-\n",
    "    1. param 1 - name , takes in a user/person name\n",
    "    2. param 2 - greeting , takes in a greeting \n",
    "    returns a greeting message\n",
    "    \"\"\"\n",
    "    return f\"{greeting} {name}! How are you doing today.\"\n",
    "\n",
    "def greeting_user(name:str , greeting:str) -> None:\n",
    "    print (f\"{greeting} {name}! How are you doing today.\")"
   ]
  },
  {
   "cell_type": "code",
   "execution_count": 5,
   "metadata": {},
   "outputs": [
    {
     "data": {
      "text/plain": [
       "'Howdy Sachi! How are you doing today.'"
      ]
     },
     "execution_count": 5,
     "metadata": {},
     "output_type": "execute_result"
    },
    {
     "name": "stdout",
     "output_type": "stream",
     "text": [
      "Howdy Sachi! How are you doing today.\n"
     ]
    }
   ],
   "source": [
    "greet_user(\"Sachi\",\"Howdy\")\n",
    "greeting_user(\"Sachi\",\"Howdy\")"
   ]
  },
  {
   "cell_type": "code",
   "execution_count": 7,
   "metadata": {},
   "outputs": [
    {
     "name": "stdout",
     "output_type": "stream",
     "text": [
      "Help on function greet_user in module __main__:\n",
      "\n",
      "greet_user(name: str, greeting: str) -> str\n",
      "    This is a function that takes 2 input parameters-\n",
      "    1. param 1 - name , takes in a user/person name\n",
      "    2. param 2 - greeting , takes in a greeting \n",
      "    returns a greeting message\n",
      "\n"
     ]
    }
   ],
   "source": [
    "help(greet_user)"
   ]
  },
  {
   "cell_type": "code",
   "execution_count": 13,
   "metadata": {},
   "outputs": [
    {
     "data": {
      "text/plain": [
       "True"
      ]
     },
     "execution_count": 13,
     "metadata": {},
     "output_type": "execute_result"
    },
    {
     "data": {
      "text/plain": [
       "False"
      ]
     },
     "execution_count": 13,
     "metadata": {},
     "output_type": "execute_result"
    },
    {
     "data": {
      "text/plain": [
       "2148493753856"
      ]
     },
     "execution_count": 13,
     "metadata": {},
     "output_type": "execute_result"
    },
    {
     "data": {
      "text/plain": [
       "2148493271040"
      ]
     },
     "execution_count": 13,
     "metadata": {},
     "output_type": "execute_result"
    },
    {
     "data": {
      "text/plain": [
       "2148493753856"
      ]
     },
     "execution_count": 13,
     "metadata": {},
     "output_type": "execute_result"
    },
    {
     "data": {
      "text/plain": [
       "True"
      ]
     },
     "execution_count": 13,
     "metadata": {},
     "output_type": "execute_result"
    },
    {
     "data": {
      "text/plain": [
       "2148475951488"
      ]
     },
     "execution_count": 13,
     "metadata": {},
     "output_type": "execute_result"
    }
   ],
   "source": [
    "# difference between a == b and a is b\n",
    "\n",
    "list1 = [1,2,3]\n",
    "list2 = [1,2,3]\n",
    "\n",
    "list1 == list2 #true , match by value \n",
    "list1 is list2 #false , they are different memory object\n",
    "\n",
    "id(list1) #2148493845696\n",
    "id(list2) #2148493623360\n",
    "\n",
    "list3 = list1 \n",
    "id(list3)  #same as list1, list3 pointing to list1 , call by ref\n",
    "list3 == list1 #true , they POINT TO SAME memory object\n",
    "\n",
    "list_copy = list1.copy()\n",
    "id(list_copy) #different object\n"
   ]
  },
  {
   "cell_type": "code",
   "execution_count": 23,
   "metadata": {},
   "outputs": [],
   "source": [
    "#GLOBAL VS LOCAL NAMESPACE\n",
    "\n",
    "def add(a=4 , b=5) -> int:\n",
    "    return a + b\n",
    "\n",
    "def sub() -> int:\n",
    "    global a , b\n",
    "    return a - b"
   ]
  },
  {
   "cell_type": "code",
   "execution_count": 24,
   "metadata": {},
   "outputs": [
    {
     "data": {
      "text/plain": [
       "9"
      ]
     },
     "execution_count": 24,
     "metadata": {},
     "output_type": "execute_result"
    },
    {
     "data": {
      "text/plain": [
       "18"
      ]
     },
     "execution_count": 24,
     "metadata": {},
     "output_type": "execute_result"
    },
    {
     "data": {
      "text/plain": [
       "13"
      ]
     },
     "execution_count": 24,
     "metadata": {},
     "output_type": "execute_result"
    },
    {
     "data": {
      "text/plain": [
       "8"
      ]
     },
     "execution_count": 24,
     "metadata": {},
     "output_type": "execute_result"
    }
   ],
   "source": [
    "add() #9\n",
    "add(8,10) #18\n",
    "add(8) #13\n",
    "\n",
    "a,b = 10,2\n",
    "sub() #8"
   ]
  },
  {
   "cell_type": "code",
   "execution_count": 30,
   "metadata": {},
   "outputs": [],
   "source": [
    "#Tuple packing\n",
    "\n",
    "def avg(*numbers):\n",
    "    num = 0\n",
    "    count = 0\n",
    "    for n in numbers:\n",
    "        num += n\n",
    "        count += 1.0\n",
    "    avg = num/count\n",
    "    return avg\n",
    "\n",
    "\n",
    "\n",
    "def avg_alt(*numbers):\n",
    "    num = 0\n",
    "    count = 0\n",
    "    \n",
    "    return sum(numbers)/len(numbers)"
   ]
  },
  {
   "cell_type": "code",
   "execution_count": 32,
   "metadata": {},
   "outputs": [
    {
     "data": {
      "text/plain": [
       "2.1666666666666665"
      ]
     },
     "execution_count": 32,
     "metadata": {},
     "output_type": "execute_result"
    },
    {
     "data": {
      "text/plain": [
       "5.0"
      ]
     },
     "execution_count": 32,
     "metadata": {},
     "output_type": "execute_result"
    }
   ],
   "source": [
    "avg(1,2,3.5) \n",
    "avg(1,2,3,4,5,6,7,8,9)\n",
    "\n",
    "avg_alt(1,2,3.5) \n",
    "avg_alt(1,2,3,4,5,6,7,8,9)\n"
   ]
  },
  {
   "cell_type": "code",
   "execution_count": 36,
   "metadata": {},
   "outputs": [],
   "source": [
    "#Dict unpacking\n",
    "\n",
    "def person (name:str , age:int , city:str):\n",
    "    print(f\"{name}, aged {age} years lives in {city}.\")\n",
    "\n",
    "#Dict packing\n",
    "\n",
    "def person_alt (**person_info):\n",
    "    print(f\"{person_info['name']}, aged {person_info['age']} years lives in {person_info['city']}.\")\n"
   ]
  },
  {
   "cell_type": "code",
   "execution_count": 39,
   "metadata": {},
   "outputs": [
    {
     "name": "stdout",
     "output_type": "stream",
     "text": [
      "Sachi, aged 33 years lives in Bangalore.\n",
      "Somun, aged 34 years lives in Bangalore.\n"
     ]
    }
   ],
   "source": [
    "person_info = {\"name\" : \"Sachi\" , \"age\" : 33 , \"city\" : \"Bangalore\"}\n",
    "person(**person_info)\n",
    "\n",
    "person_alt(name=\"Somun\", age=34 , city=\"Bangalore\")"
   ]
  },
  {
   "cell_type": "code",
   "execution_count": 49,
   "metadata": {},
   "outputs": [
    {
     "name": "stdout",
     "output_type": "stream",
     "text": [
      "14\n",
      "Banana,Apple,Peach,Chocolate,Nougat Bits\n"
     ]
    }
   ],
   "source": [
    "#pull shopping list items \n",
    "\n",
    "with open(\"D:\\LearnPython\\PythonPractice\\data\\shopping.txt\" , 'r') as f:\n",
    "    data=f.readlines() #returns list\n",
    "    shopping_list = []\n",
    "\n",
    "\n",
    "    for line in data:\n",
    "        if line.startswith(\"*\"):\n",
    "            shopping_list.append(line.replace(\"\\n\",\"\").replace(\"* \",\"\"))\n",
    "    \n",
    "    print(\",\".join(shopping_list))\n",
    "\n",
    "\n"
   ]
  },
  {
   "cell_type": "code",
   "execution_count": 53,
   "metadata": {},
   "outputs": [
    {
     "name": "stdout",
     "output_type": "stream",
     "text": [
      "27\n"
     ]
    }
   ],
   "source": [
    "#count number of words\n",
    "\n",
    "with open(\"D:\\LearnPython\\PythonPractice\\data\\shopping.txt\" , 'r') as f:\n",
    "    data = f.read() #returns str\n",
    "    print(len(data.split()))\n"
   ]
  },
  {
   "cell_type": "code",
   "execution_count": 57,
   "metadata": {},
   "outputs": [
    {
     "name": "stdout",
     "output_type": "stream",
     "text": [
      "['<!--', 'shopping_list.md', '-->', '#', 'Shopping', 'List', '##', 'Fruit', '*', 'Banana', '*', 'Apple', '*', 'Peach', '##', 'Candy', '*', 'Chocolate', '*', 'Nougat', 'Bits', '1.', 'Egg', '2.', 'Mayo', '3.', 'Potatoes']\n"
     ]
    },
    {
     "data": {
      "text/plain": [
       "24"
      ]
     },
     "execution_count": 57,
     "metadata": {},
     "output_type": "execute_result"
    }
   ],
   "source": [
    "#count number of words EXCLUDE INTEGERS\n",
    "\n",
    "\n",
    "number_of_words = 0\n",
    "\n",
    "with open(\"D:\\LearnPython\\PythonPractice\\data\\shopping.txt\" , 'r') as f:\n",
    "    data = f.read() #returns str\n",
    "    lines = data.split() #str to list\n",
    "    print(lines)\n",
    "    for word in lines:\n",
    "        if not word.replace(\".\",\"\").replace(\":\",\"\").isnumeric():\n",
    "            number_of_words+=1\n",
    "\n",
    "number_of_words"
   ]
  },
  {
   "cell_type": "code",
   "execution_count": 84,
   "metadata": {},
   "outputs": [
    {
     "name": "stdout",
     "output_type": "stream",
     "text": [
      "[0, 13, 17]\n",
      "['<!-- shopping_list.md -->\\n', '\\n', '# Shopping List\\n', '\\n', '## Fruit\\n', '\\n', '* Banana\\n', '* Apple\\n', '* Peach\\n', '\\n', '## Candy\\n', '\\n', '* Chocolate\\n', '* Nougat Bits\\n', '\\n', '1. Egg\\n', '2. Mayo\\n', '3. Potatoes']\n",
      "['', '# Shopping List', '', '## Fruit', '', '* Banana', '* Apple', '* Peach', '', '## Candy', '', '* Chocolate', '', '1. Egg', '2. Mayo']\n",
      "Banana Split!\n"
     ]
    }
   ],
   "source": [
    "#delete specific line, given the line numbers\n",
    "\n",
    "lines_to_delete = [1,14,18]\n",
    "\n",
    "lines_to_delete = [l-1 for l in lines_to_delete]\n",
    "print(list(lines_to_delete))\n",
    "with open(\"D:\\LearnPython\\PythonPractice\\data\\shopping.txt\" , 'r') as f:\n",
    "    data = f.readlines() #returns str\n",
    "    data_mod = []\n",
    "    print(data)\n",
    "    for i in range(len(data)):\n",
    "        if i not in lines_to_delete:\n",
    "            data_mod.append(data[i].strip(\"\\n\"))\n",
    "    \n",
    "    print(data_mod)\n",
    "\n",
    "    for line in data:\n",
    "        if line.find(\"Banana\") > 0:\n",
    "            print(\"Banana Split!\")\n"
   ]
  },
  {
   "cell_type": "code",
   "execution_count": 123,
   "metadata": {},
   "outputs": [
    {
     "name": "stdout",
     "output_type": "stream",
     "text": [
      "method-1 - using os.listdir(path)....\n",
      "conda-help.txt\n",
      "itversity.txt\n",
      "py-scribbles.txt\n",
      "method-2 - using os.scandir(path)....\n",
      "D:\\LearnPython\\PythonPractice\\conda-help.txt\n",
      "D:\\LearnPython\\PythonPractice\\itversity.txt\n",
      "D:\\LearnPython\\PythonPractice\\py-scribbles.txt\n",
      "method-3 - using os.walk(path)....\n",
      "conda-help.txt\n",
      "itversity.txt\n",
      "py-scribbles.txt\n",
      "shopping.txt\n",
      "shopping_2.txt\n",
      "README_2022.txt\n",
      "pywin32.version.txt\n",
      "license.txt\n",
      "readme.txt\n",
      "top_level.txt\n",
      "top_level.txt\n",
      "top_level.txt\n",
      "entry_points.txt\n",
      "top_level.txt\n",
      "LICENSE.txt\n",
      "ThirdPartyNotices.txt\n",
      "README.txt\n",
      "__not_in_default_pythonpath.txt\n",
      "README.txt\n",
      "top_level.txt\n",
      "top_level.txt\n",
      "LICENSE.txt\n",
      "top_level.txt\n",
      "LICENSE.txt\n",
      "top_level.txt\n",
      "top_level.txt\n",
      "top_level.txt\n",
      "top_level.txt\n",
      "top_level.txt\n",
      "top_level.txt\n",
      "cacerts.txt\n",
      "top_level.txt\n",
      "top_level.txt\n",
      "README.txt\n",
      "test_combo.txt\n",
      "test_example.txt\n",
      "test_exampleip.txt\n",
      "entry_points.txt\n",
      "top_level.txt\n",
      "README.txt\n",
      "README.txt\n",
      "README.txt\n",
      "LICENSE.txt\n",
      "AUTHORS.txt\n",
      "LICENSE.txt\n",
      "top_level.txt\n",
      "entry_points.txt\n",
      "entry_points.txt\n",
      "top_level.txt\n",
      "top_level.txt\n",
      "grammar310.txt\n",
      "grammar311.txt\n",
      "grammar312.txt\n",
      "grammar36.txt\n",
      "grammar37.txt\n",
      "grammar38.txt\n",
      "grammar39.txt\n",
      "AUTHORS.txt\n",
      "LICENSE.txt\n",
      "top_level.txt\n",
      "top_level.txt\n",
      "vendor.txt\n",
      "AUTHORS.txt\n",
      "entry_points.txt\n",
      "LICENSE.txt\n",
      "top_level.txt\n",
      "top_level.txt\n",
      "top_level.txt\n",
      "top_level.txt\n",
      "LICENSE.txt\n",
      "top_level.txt\n",
      "top_level.txt\n",
      "LICENSE.txt\n",
      "top_level.txt\n",
      "entry_points.txt\n",
      "license.txt\n",
      "top_level.txt\n",
      "top_level.txt\n",
      "top_level.txt\n",
      "top_level.txt\n",
      "entry_points.txt\n",
      "entry_points.txt\n",
      "top_level.txt\n",
      "top_level.txt\n",
      "LICENSE.txt\n",
      "top_level.txt\n",
      "static_foo.txt\n",
      "robots.txt\n",
      "top_level.txt\n",
      "top_level.txt\n",
      "LICENSE.txt\n",
      "top_level.txt\n",
      "vendor.txt\n",
      "entry_points.txt\n",
      "LICENSE.txt\n",
      "license.txt\n",
      "License.txt\n",
      "readme.txt\n",
      "top_level.txt\n",
      "method-4 - using Pathobject.glob(pattern)....\n",
      "D:\\LearnPython\\PythonPractice\\data\\shopping.txt\n",
      "D:\\LearnPython\\PythonPractice\\data\\New_folder\\shopping_2.txt\n"
     ]
    }
   ],
   "source": [
    "#Loop thru files of certain extensions\n",
    "#Method-1 - using os.listdir() - return a list of path strings\n",
    "import os \n",
    "from pathlib import Path\n",
    "\n",
    "path = 'D:\\\\LearnPython\\\\PythonPractice'\n",
    "\n",
    "print('method-1 - using os.listdir(path)....')\n",
    "for p in os.listdir(path):\n",
    "    if p.endswith('.txt'):\n",
    "        print(p)\n",
    "    else:\n",
    "        continue\n",
    "\n",
    "#Method-2 - using os.scandir() - return an iterator of DirEntry objects which have a path property\n",
    "print('method-2 - using os.scandir(path)....')\n",
    "for files in os.scandir(path):\n",
    "    if files.path.endswith(\".txt\"):\n",
    "        print(files.path)\n",
    "\n",
    "\n",
    "print('method-3 - using os.walk(path)....')  #returns a generator and traverses thru all folder recursively\n",
    "for dirpath, dirnames, filenames in os.walk(path):\n",
    "    for name in filenames:\n",
    "        if name.endswith(\".txt\"):\n",
    "            print(name)\n",
    "\n",
    "print('method-4 - using Pathobject.glob(pattern)....') #search a pattern for files in path object\n",
    "dirname = \"D:\\LearnPython\\PythonPractice\\\\data\"\n",
    "pathobj = Path(dirname)\n",
    "#method-4 - using Path.glob()       \n",
    "paths = pathobj.glob('**\\*.txt')\n",
    "for path in paths:\n",
    "    print(path)\n",
    "\n"
   ]
  },
  {
   "cell_type": "code",
   "execution_count": 128,
   "metadata": {},
   "outputs": [],
   "source": [
    "#append data to the file keeping old contents intact\n",
    "\n",
    "path = \"D:\\\\LearnPython\\\\PythonPractice\\\\data\\\\New_folder\\\\shopping_2.txt\"\n",
    "with open(path , 'a+') as f:\n",
    "    f.writelines([\"\\n4. Pistachio\" , \"\\n5. raisins\" , \"\\n6. almonds\"])\n",
    "\n"
   ]
  },
  {
   "cell_type": "code",
   "execution_count": 129,
   "metadata": {},
   "outputs": [],
   "source": [
    "#create file if not exists , overwrite the contents if exists\n",
    "path = \"D:\\\\LearnPython\\\\PythonPractice\\\\data\\\\New_folder\\\\shopping_1.txt\"\n",
    "path_new = \"D:\\\\LearnPython\\\\PythonPractice\\\\data\\\\New_folder\\\\shopping_new.txt\"\n",
    "\n",
    "with open(path , 'w+') as f:\n",
    "        f.writelines([\"\\n4. Pistachio\" , \"\\n5. raisins\" , \"\\n6. almonds\"])\n",
    "\n",
    "with open(path_new , 'w+') as f:\n",
    "        f.writelines([\"\\n4. Pistachio\" , \"\\n5. raisins\" , \"\\n6. almonds\"])\n",
    "\n"
   ]
  },
  {
   "cell_type": "code",
   "execution_count": 146,
   "metadata": {},
   "outputs": [
    {
     "name": "stdout",
     "output_type": "stream",
     "text": [
      "#Method-1 - using os.stat(path) 160\n",
      "#Method-2 - using os.path.getsize(path)D:\\LearnPython\\PythonPractice\\data\\shopping.txt - 160 bytes\n",
      "#Method-1 - using os.stat(path) 128\n",
      "#Method-2 - using os.path.getsize(path)D:\\LearnPython\\PythonPractice\\data\\shopping_cloned.md - 128 bytes\n",
      "#Method-1 - using os.stat(path) 38\n",
      "#Method-2 - using os.path.getsize(path)D:\\LearnPython\\PythonPractice\\data\\New_folder\\shopping_1.txt - 38 bytes\n",
      "#Method-1 - using os.stat(path) 198\n",
      "#Method-2 - using os.path.getsize(path)D:\\LearnPython\\PythonPractice\\data\\New_folder\\shopping_2.txt - 198 bytes\n",
      "#Method-1 - using os.stat(path) 38\n",
      "#Method-2 - using os.path.getsize(path)D:\\LearnPython\\PythonPractice\\data\\New_folder\\shopping_new.txt - 38 bytes\n"
     ]
    }
   ],
   "source": [
    "#how to get size of each file in a folder and its child directories\n",
    "\n",
    "path = \"D:\\LearnPython\\PythonPractice\\data\"\n",
    "for dirpath, dirnames, filenames in os.walk(path):\n",
    "    for files in filenames:\n",
    "        fp = os.path.join(dirpath,files)\n",
    "        print('#Method-1 - using os.stat(path) ' + str(os.stat(fp).st_size)  )\n",
    "        #print(os.path.isfile(fp))  #takes in absolute path i.e. fully qualified paths\n",
    "\n",
    "        print('#Method-2 - using os.path.getsize(path)'+ fp + \" - \" + str(os.path.getsize(fp)) + \" bytes\")\n",
    "\n"
   ]
  },
  {
   "cell_type": "code",
   "execution_count": 153,
   "metadata": {},
   "outputs": [
    {
     "data": {
      "text/plain": [
       "4"
      ]
     },
     "execution_count": 153,
     "metadata": {},
     "output_type": "execute_result"
    }
   ],
   "source": [
    "# read multiple csv files from a directory and create multiple dataframes\n",
    "\n",
    "import os\n",
    "import pandas as pd\n",
    "\n",
    "path = \"D:\\LearnPython\\PythonPractice\\data\" \n",
    "df_list = []\n",
    "for dirpath,dirnames,filenames in os.walk(path):\n",
    "    for file in filenames:\n",
    "         if file.endswith(\".txt\"):\n",
    "           temp_df  = pd.read_csv(os.path.join(dirpath,file))\n",
    "           df_list.append(temp_df)\n",
    "\n",
    "len(df_list) #4 text files\n"
   ]
  },
  {
   "cell_type": "code",
   "execution_count": 199,
   "metadata": {},
   "outputs": [
    {
     "data": {
      "text/plain": [
       "23"
      ]
     },
     "execution_count": 199,
     "metadata": {},
     "output_type": "execute_result"
    },
    {
     "data": {
      "text/plain": [
       "13"
      ]
     },
     "execution_count": 199,
     "metadata": {},
     "output_type": "execute_result"
    },
    {
     "data": {
      "text/plain": [
       "13"
      ]
     },
     "execution_count": 199,
     "metadata": {},
     "output_type": "execute_result"
    },
    {
     "data": {
      "text/plain": [
       "13"
      ]
     },
     "execution_count": 199,
     "metadata": {},
     "output_type": "execute_result"
    },
    {
     "data": {
      "text/plain": [
       "13"
      ]
     },
     "execution_count": 199,
     "metadata": {},
     "output_type": "execute_result"
    },
    {
     "data": {
      "text/plain": [
       "13"
      ]
     },
     "execution_count": 199,
     "metadata": {},
     "output_type": "execute_result"
    },
    {
     "data": {
      "text/plain": [
       "13"
      ]
     },
     "execution_count": 199,
     "metadata": {},
     "output_type": "execute_result"
    },
    {
     "data": {
      "text/plain": [
       "23"
      ]
     },
     "execution_count": 199,
     "metadata": {},
     "output_type": "execute_result"
    },
    {
     "name": "stdout",
     "output_type": "stream",
     "text": [
      "{0: (52, 'F', 143, 77), 1: (24, 'M', 163, 66), (31, 'M', 144, 59): 2, 3: (47, 'F', 154, 53), (51, 'F', 174, 71): 4, (61, 'M', 177, 63): 5}\n"
     ]
    }
   ],
   "source": [
    "import csv\n",
    "#reader , DictReader , writer , DictWriter\n",
    "#writeobj.writerow\n",
    "\n",
    "# create a dictionary of list\n",
    "fieldnames = [\"Age\",\"Sex\",\"height\",\"weight\"]\n",
    "\n",
    "person_dict = {'Age': [52, 24, 31, 47, 51, 61],\n",
    "        'Sex': ['F', 'M', 'M', 'F', 'F', 'M'],\n",
    "        'height': [143, 163, 144, 154, 174, 177],\n",
    "        'weight': [77, 66, 59, 53, 71, 63], }\n",
    "\n",
    "column_val_list = []\n",
    "\n",
    "#using csv.writerow(<Iterable>)\n",
    "with open(\"D:\\LearnPython\\PythonPractice\\data\\person_info.csv\" , 'w+') as outfilestrmobj:\n",
    "   w = csv.writer(outfilestrmobj) #create writer object first passing file stream object as parameter\n",
    "   w.writerow(fieldnames) #writer object method - writerow\n",
    "   for key in person_dict:\n",
    "      #print(key)\n",
    "      column_val_list.append(person_dict[key])\n",
    "    \n",
    "   #print(column_val_list)\n",
    "   \n",
    "   list_of_tuple_rows = list(zip(*column_val_list))\n",
    "\n",
    "   for row in list_of_tuple_rows:\n",
    "     w.writerow(row)  #using writerobj writerow method  \n",
    "\n",
    "   #w.writerows(zip(*person_dict.values()))    #using writerobj writerows method  \n",
    "\n",
    "with open(\"D:\\LearnPython\\PythonPractice\\data\\person_info_using_DictWriter.csv\" , 'w+') as out:\n",
    "  w = csv.DictWriter(out , fieldnames=fieldnames)\n",
    "  w.writeheader()\n",
    "\n",
    " # print(dict({idx,t } for (idx , t) in enumerate(zip(*person_dict.values()))))\n",
    "\n"
   ]
  },
  {
   "cell_type": "code",
   "execution_count": 210,
   "metadata": {},
   "outputs": [
    {
     "data": {
      "text/plain": [
       "'GOOD JOB! SACHI...'"
      ]
     },
     "execution_count": 210,
     "metadata": {},
     "output_type": "execute_result"
    },
    {
     "name": "stdout",
     "output_type": "stream",
     "text": [
      "HELLO SACHI!\n",
      " is here to meet and greet!\n",
      "[1, 1.0, 'one', True, <function greet at 0x000001F446142A70>]\n"
     ]
    }
   ],
   "source": [
    "def shout(text):\n",
    "    return text.upper()\n",
    "\n",
    "def whisper(text):\n",
    "    return text.lower()\n",
    "\n",
    "yell = shout   #a function can be assigned to a variable\n",
    "\n",
    "yell(\"Good job! Sachi...\")\n",
    "\n",
    "#A function can be passed to another function as parameter/arg\n",
    "\n",
    "def greeting(x , f):\n",
    "    print(f(f\"{x} Sachi!\"))\n",
    "\n",
    "greeting(\"Hello\" , shout )\n",
    "\n",
    "\n",
    "# A function can return another function\n",
    "def greet(name):\n",
    "    def meet():\n",
    "        print(f\"{name} is here to meet and greet!\")\n",
    "\n",
    "    return meet()\n",
    "\n",
    "greet(\"Sachi\")\n",
    "\n",
    "#A function can be a part of an iterable\n",
    "mylist = [1, 1.0 , \"one\" , True , greet]\n",
    "\n",
    "print(mylist)"
   ]
  },
  {
   "cell_type": "code",
   "execution_count": 215,
   "metadata": {},
   "outputs": [
    {
     "data": {
      "text/plain": [
       "'HELLO SACHI!'"
      ]
     },
     "execution_count": 215,
     "metadata": {},
     "output_type": "execute_result"
    },
    {
     "data": {
      "text/plain": [
       "'HELLO SABYA!'"
      ]
     },
     "execution_count": 215,
     "metadata": {},
     "output_type": "execute_result"
    },
    {
     "data": {
      "text/plain": [
       "2148424352272"
      ]
     },
     "execution_count": 215,
     "metadata": {},
     "output_type": "execute_result"
    },
    {
     "data": {
      "text/plain": [
       "2148424352304"
      ]
     },
     "execution_count": 215,
     "metadata": {},
     "output_type": "execute_result"
    },
    {
     "name": "stdout",
     "output_type": "stream",
     "text": [
      "11\n"
     ]
    }
   ],
   "source": [
    "# Assigning function to a variable\n",
    "def shout(text):\n",
    "    return text.upper()\n",
    "\n",
    "yell = shout \n",
    "yell(\"Hello Sachi!\") #'HELLO SACHI!'\n",
    "\n",
    "yell = shout(\"Hello Sabya!\")\n",
    "\n",
    "yell #'HELLO SABYA!'\n",
    "\n",
    "\n",
    "def increment(x) -> int:\n",
    "    x += 1\n",
    "    return x\n",
    "\n",
    "num = 10  #imutable\n",
    "id(num) #2148424352272\n",
    "num = increment(num)\n",
    "id(num) #2148424352304\n",
    "print(num)  #11\n"
   ]
  },
  {
   "cell_type": "code",
   "execution_count": 220,
   "metadata": {},
   "outputs": [
    {
     "name": "stdout",
     "output_type": "stream",
     "text": [
      "14\n",
      "104\n"
     ]
    }
   ],
   "source": [
    "a = 9\n",
    "def change():\n",
    "    global a  #without this, throws UnboundLocalError\n",
    "    b = a + 5\n",
    "    a = b\n",
    "    print(a) \n",
    "\n",
    "#UnboundLocalError: local variable 'a' referenced before assignment\n",
    "#can't change global variable inside function explicitly use global keyword\n",
    "change() \n",
    "\n",
    "\"\"\" \n",
    "We only need to use global keyword in a function \n",
    "if we want to do assignments / change them. \n",
    "global is not needed for printing and accessing. \n",
    "\n",
    "\"\"\"\n",
    "\n",
    "\n",
    "def local_var_pref():\n",
    "    a = 99  #local gets preference over global value\n",
    "    b = a + 5\n",
    "    print(b)\n",
    "\n",
    "\n",
    "local_var_pref() #104\n",
    "\n"
   ]
  },
  {
   "cell_type": "code",
   "execution_count": 227,
   "metadata": {},
   "outputs": [
    {
     "name": "stdout",
     "output_type": "stream",
     "text": [
      "initial list:  [1, 2, 3]\n",
      "final list:  [0, 1, 2, 3, 4, 5, 6, 7, 8, 9]\n"
     ]
    }
   ],
   "source": [
    "#modifying only the items of the mutable objects\n",
    "\n",
    "num_list = [1,2,3]\n",
    "\n",
    "def num_range():\n",
    "    print(\"initial list: \",num_list)\n",
    "    for i in range(10):\n",
    "        if i not in num_list:\n",
    "            num_list.append(i)\n",
    "\n",
    "    print(\"final list: \",sorted(num_list))       \n",
    "    \n",
    "\n",
    "num_range()"
   ]
  },
  {
   "cell_type": "code",
   "execution_count": 230,
   "metadata": {},
   "outputs": [],
   "source": [
    "#access global variables from a py file and update them if necessary\n",
    "import sys\n",
    "sys.path.append(\"D:\\\\LearnPython\\\\PythonPractice\\\\data\")\n",
    "import config\n",
    "\n",
    "config.x = 1\n",
    "config.y = 2\n",
    "config.z = \"Sachi\"\n"
   ]
  },
  {
   "cell_type": "code",
   "execution_count": null,
   "metadata": {},
   "outputs": [],
   "source": [
    "#main.py\n",
    "\n",
    "import config\n",
    "import modify\n",
    "print(config.x)\n",
    "print(config.y)\n",
    "print(config.z)\n"
   ]
  },
  {
   "cell_type": "code",
   "execution_count": 1,
   "metadata": {},
   "outputs": [
    {
     "name": "stdout",
     "output_type": "stream",
     "text": [
      "<class 'NoneType'>\n"
     ]
    }
   ],
   "source": [
    "a = None \n",
    "print(type(a))"
   ]
  },
  {
   "cell_type": "code",
   "execution_count": 3,
   "metadata": {},
   "outputs": [
    {
     "name": "stdout",
     "output_type": "stream",
     "text": [
      "Hello and Good Morning.\n"
     ]
    }
   ],
   "source": [
    "def B(st2):\n",
    "    print(\"Good \" + st2 + \".\")\n",
    "\n",
    "def A(str1,str2):\n",
    "    print(str1 + \" and \"  , end = \"\") #Hello and \n",
    "    return B(str2) #Good Morning.\n",
    "\n",
    "A(\"Hello\" , \"Morning\")"
   ]
  },
  {
   "cell_type": "code",
   "execution_count": 7,
   "metadata": {},
   "outputs": [
    {
     "name": "stdout",
     "output_type": "stream",
     "text": [
      "1\n",
      "2\n",
      "3\n",
      "Alice\n",
      "22\n",
      "London\n"
     ]
    }
   ],
   "source": [
    "#*args collects additional positional arguments as a tuple,\n",
    "#  while **kwargs collects additional keyword arguments as a dictionary.\n",
    "def fn(a,b,c=5):\n",
    "    print(a)\n",
    "    print(b)\n",
    "    print(c)   \n",
    "\n",
    "args = (1,2,3)\n",
    "fn(*args)   # no of elements in the tuple should be same as no of parameters\n",
    "\n",
    "def person(**kwargs):\n",
    "    print(kwargs[\"name\"])\n",
    "    print(kwargs[\"age\"])\n",
    "    print(kwargs[\"city\"])\n",
    "\n",
    "person(name=\"Alice\",age=\"22\",city=\"London\")\n",
    "\n",
    "\n",
    "\n"
   ]
  },
  {
   "cell_type": "code",
   "execution_count": 18,
   "metadata": {},
   "outputs": [
    {
     "name": "stdout",
     "output_type": "stream",
     "text": [
      "15\n",
      "45\n"
     ]
    }
   ],
   "source": [
    "numset1  = [1,2,3,4,5]\n",
    "numset2  = [1,2,3,4,5,6,7,8,9]\n",
    "\n",
    "def sum(list):\n",
    "    x = 0\n",
    "    for i in list:\n",
    "        x += i\n",
    "    print(x)\n",
    "\n",
    "sum(numset1) \n",
    "sum(numset2) \n"
   ]
  }
 ],
 "metadata": {
  "kernelspec": {
   "display_name": ".venv",
   "language": "python",
   "name": "python3"
  },
  "language_info": {
   "codemirror_mode": {
    "name": "ipython",
    "version": 3
   },
   "file_extension": ".py",
   "mimetype": "text/x-python",
   "name": "python",
   "nbconvert_exporter": "python",
   "pygments_lexer": "ipython3",
   "version": "3.10.0"
  }
 },
 "nbformat": 4,
 "nbformat_minor": 2
}
