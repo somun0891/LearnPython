{
 "cells": [
  {
   "cell_type": "code",
   "execution_count": 21,
   "metadata": {},
   "outputs": [
    {
     "data": {
      "text/plain": [
       "120"
      ]
     },
     "execution_count": 21,
     "metadata": {},
     "output_type": "execute_result"
    },
    {
     "data": {
      "text/plain": [
       "8"
      ]
     },
     "execution_count": 21,
     "metadata": {},
     "output_type": "execute_result"
    }
   ],
   "source": [
    "# factorial using recursion\n",
    "\n",
    "\n",
    "def factorial(n):\n",
    "    if n == 0:\n",
    "         return 1 \n",
    "    return(n * factorial(n-1))\n",
    "\n",
    "factorial(5) \n",
    "\n",
    "\n",
    "def power(n, p):\n",
    "    if p == 0:\n",
    "         return 1 # 2^0\n",
    "    return(n * power(n, p-1))\n",
    "\n",
    "power(2,3) # 2^3 , 2^2 , 2^1 \n",
    "# n = int(24)\n",
    "# res = 1\n",
    "# for i in range(n, 1, -2):\n",
    "#     res = res * factorial(i)\n",
    "\n",
    "# print(res)"
   ]
  },
  {
   "cell_type": "code",
   "execution_count": 1,
   "metadata": {},
   "outputs": [
    {
     "name": "stdout",
     "output_type": "stream",
     "text": [
      "0 1 1 2 3 5 8 13 21 34 "
     ]
    }
   ],
   "source": [
    "#fibonacci series\n",
    "n = 10 \n",
    "\n",
    "def fib(n):\n",
    "    if n==1:\n",
    "        return 0 \n",
    "    if n==2:\n",
    "        return 1\n",
    "    return fib(n-1) + fib(n-2)\n",
    "\n",
    "for i in range(1, n+1):\n",
    "    print(fib(i) , end=\" \")\n"
   ]
  },
  {
   "cell_type": "code",
   "execution_count": 92,
   "metadata": {},
   "outputs": [
    {
     "name": "stdout",
     "output_type": "stream",
     "text": [
      "55\n"
     ]
    },
    {
     "data": {
      "text/plain": [
       "55"
      ]
     },
     "execution_count": 92,
     "metadata": {},
     "output_type": "execute_result"
    }
   ],
   "source": [
    "\n",
    "#using iteration\n",
    "n = 10\n",
    "res = 0\n",
    "for  i in range(0,n+1):\n",
    " res = res + i\n",
    "\n",
    "print(res)\n",
    "\n",
    "#using recursion\n",
    "def add(n):\n",
    "    if n == 0:\n",
    "        return 0\n",
    "    return n + add(n-1)\n",
    "\n",
    "\n",
    "add(10)"
   ]
  },
  {
   "cell_type": "code",
   "execution_count": 101,
   "metadata": {},
   "outputs": [
    {
     "data": {
      "text/plain": [
       "120"
      ]
     },
     "execution_count": 101,
     "metadata": {},
     "output_type": "execute_result"
    }
   ],
   "source": [
    "def factorial(n):\n",
    "    # print(n) #5\n",
    "    # print(n * (n-1)) #5 * 4\n",
    "    if n == 0:\n",
    "        return 0\n",
    "    if n == 1:\n",
    "        return 1\n",
    "    else:\n",
    "        return n * factorial(n-1)\n",
    "\n",
    "\n",
    "factorial(5)"
   ]
  },
  {
   "cell_type": "code",
   "execution_count": 107,
   "metadata": {},
   "outputs": [
    {
     "name": "stdout",
     "output_type": "stream",
     "text": [
      "0 1 1 2 3 5 8 13 21 34 "
     ]
    }
   ],
   "source": [
    "def fib(n):\n",
    "\n",
    "    if n == 1:\n",
    "        return 0\n",
    "    if n == 2:\n",
    "        return 1\n",
    "    return fib(n-1) + fib(n-2)\n",
    "\n",
    "# fib(0) = 1\n",
    "# fib(1) = 1\n",
    "# fib(2) = fib(0) + fib(1)\n",
    "# fib(3) = fib(2) + fib(1) # all fib(i) prev values are stored in memory\n",
    "\n",
    "\n",
    "# needs a loop in main call to be able to stop at the max value in iteration.\n",
    "\n",
    "n = 10\n",
    "for i in range(1, n+1):\n",
    "    print(fib(i), end=\" \")\n",
    "\n",
    "#0 1 1 2 3 5 8 13"
   ]
  },
  {
   "cell_type": "code",
   "execution_count": null,
   "metadata": {},
   "outputs": [],
   "source": [
    "# in recursive calls  , the function is called again and again\n",
    "# so the stop condition must be defined\n",
    "# one of the return stmt has to stop the recursion \n",
    "# the other one will call the function again passing the next value in the sequence\n",
    "def add(n):\n",
    "    if n == 0:\n",
    "        return 0\n",
    "    return n + add(n-1)\n",
    "\n",
    "add(10)  #10 + add(9)  , 9 + add(8) , 8 + add(7) ..."
   ]
  },
  {
   "cell_type": "code",
   "execution_count": 70,
   "metadata": {},
   "outputs": [
    {
     "name": "stdout",
     "output_type": "stream",
     "text": [
      "<class 'int'>\n",
      "<class 'float'>\n",
      "<class 'dict'>\n",
      "<class 'bool'>\n",
      "<class 'datetime.datetime'>\n"
     ]
    }
   ],
   "source": [
    "import datetime\n",
    "points = 10 \n",
    "score = 10.0\n",
    "person_info = {\"name\" : \"sachi\"}\n",
    "flag = True\n",
    "today = datetime.datetime(2022, 10, 10)\n",
    "print(type(points))\n",
    "print(type(score))\n",
    "print(type(person_info))\n",
    "print(type(flag))\n",
    "print(type(today))"
   ]
  }
 ],
 "metadata": {
  "kernelspec": {
   "display_name": ".venv",
   "language": "python",
   "name": "python3"
  },
  "language_info": {
   "codemirror_mode": {
    "name": "ipython",
    "version": 3
   },
   "file_extension": ".py",
   "mimetype": "text/x-python",
   "name": "python",
   "nbconvert_exporter": "python",
   "pygments_lexer": "ipython3",
   "version": "3.10.0"
  }
 },
 "nbformat": 4,
 "nbformat_minor": 2
}
