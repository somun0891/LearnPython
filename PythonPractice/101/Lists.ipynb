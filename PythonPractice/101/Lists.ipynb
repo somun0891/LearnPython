{
 "cells": [
  {
   "cell_type": "code",
   "execution_count": 46,
   "metadata": {},
   "outputs": [],
   "source": [
    "from IPython.core.interactiveshell import InteractiveShell\n",
    "InteractiveShell.ast_node_interactivity = \"all\""
   ]
  },
  {
   "cell_type": "code",
   "execution_count": 47,
   "metadata": {},
   "outputs": [],
   "source": [
    "from pprint import pprint"
   ]
  },
  {
   "cell_type": "code",
   "execution_count": null,
   "metadata": {},
   "outputs": [],
   "source": [
    "# list slicing and index\n",
    "# list append , extend\n",
    "# list count('som') , len(l) ,reverse() , insert(2 , 'sabya') ,zip(l1,l2)\n",
    "# list pop() , del l1[1:3] (by index/slice) , remove('sachi') (by name) ,  \n"
   ]
  },
  {
   "cell_type": "code",
   "execution_count": 3,
   "metadata": {},
   "outputs": [
    {
     "name": "stdout",
     "output_type": "stream",
     "text": [
      "[500, 400, 300, 200, 100]\n"
     ]
    }
   ],
   "source": [
    "#Reverse a list\n",
    "list1 = [100, 200, 300, 400, 500]\n",
    "\n",
    "l=[]\n",
    "\n",
    "listcount = len(list1)+1\n",
    "\n",
    "#print(listcount)\n",
    "\n",
    "l = []\n",
    "for i in range(1,listcount):\n",
    "    l.append(list1.pop())\n",
    "\n",
    "print(l)\n",
    "\n",
    "list1.reverse()\n"
   ]
  },
  {
   "cell_type": "code",
   "execution_count": 5,
   "metadata": {},
   "outputs": [
    {
     "name": "stdout",
     "output_type": "stream",
     "text": [
      "['My', 'name', 'is', 'Kelly']\n"
     ]
    }
   ],
   "source": [
    "list1 = [\"M\", \"na\", \"i\", \"Ke\"]\n",
    "list2 = [\"y\", \"me\", \"s\", \"lly\"]\n",
    "\n",
    "l = []\n",
    "\n",
    "\n",
    "#method-1\n",
    "\n",
    "print([i+j for i,j in zip(list1,list2)])\n",
    "\n",
    "\n",
    "#method-2\n",
    "for i in range(0,len(list1)):\n",
    "    l.append(list1[i]+list2[i])\n",
    "\n",
    "\n",
    "\n",
    "#method-3\n",
    "l2=[]\n",
    "lcat = list(zip(list1,list2))   \n",
    "\n",
    "for i in range(len(lcat)):  \n",
    "    l2.append(lcat[i][0] + lcat[i][1])\n",
    "\n"
   ]
  },
  {
   "cell_type": "code",
   "execution_count": 72,
   "metadata": {},
   "outputs": [
    {
     "data": {
      "text/plain": [
       "[1, 4, 9, 16, 25, 36, 49]"
      ]
     },
     "execution_count": 72,
     "metadata": {},
     "output_type": "execute_result"
    },
    {
     "data": {
      "text/plain": [
       "[1, 4, 9, 16, 25, 36, 49]"
      ]
     },
     "execution_count": 72,
     "metadata": {},
     "output_type": "execute_result"
    }
   ],
   "source": [
    "numbers = [1, 2, 3, 4, 5, 6, 7]\n",
    "\n",
    "[numbers[i] * numbers[i] for i in range(len(numbers))] #accessing index\n",
    "\n",
    "[n * n for n in numbers] #accessing directly\n"
   ]
  },
  {
   "cell_type": "code",
   "execution_count": 94,
   "metadata": {},
   "outputs": [
    {
     "data": {
      "text/plain": [
       "['Hello Dear', 'Hello Sir', 'take Dear', 'take Sir']"
      ]
     },
     "execution_count": 94,
     "metadata": {},
     "output_type": "execute_result"
    },
    {
     "data": {
      "text/plain": [
       "['Hello Dear', 'take Sir', 'Hello Sir', 'take Dear']"
      ]
     },
     "execution_count": 94,
     "metadata": {},
     "output_type": "execute_result"
    },
    {
     "data": {
      "text/plain": [
       "['Hello Dear', 'Hello Sir', 'take Dear', 'take Sir']"
      ]
     },
     "execution_count": 94,
     "metadata": {},
     "output_type": "execute_result"
    }
   ],
   "source": [
    "list1 = [\"Hello \", \"take \"]\n",
    "list2 = [\"Dear\", \"Sir\"]\n",
    "\n",
    "#iterating with  nested loops\n",
    "newlist = []\n",
    "for x in list1:\n",
    "    for y in list2:\n",
    "        newlist.append(x+y)\n",
    "\n",
    "newlist\n",
    "\n",
    "#using list comphrehension\n",
    "[x + y for x in list1 for y in list2]\n",
    "\n",
    "#using zip\n",
    "[i+j for i,j in zip(list1,list2)] +  [i+j for i,j in zip(list1,  list2[::-1]   ) ]\n",
    "\n"
   ]
  },
  {
   "cell_type": "code",
   "execution_count": 102,
   "metadata": {},
   "outputs": [
    {
     "name": "stdout",
     "output_type": "stream",
     "text": [
      "10 & 400,20 & 300,30 & 200,40 & 100,"
     ]
    }
   ],
   "source": [
    "list1 = [10, 20, 30, 40]\n",
    "list2 = [100, 200, 300, 400]\n",
    "\n",
    "newlist = []\n",
    "\n",
    "for x,y in zip(list1 , list2[::-1]):\n",
    "    print(x,y ,end = \",\" , sep = \" & \")\n",
    "\n"
   ]
  },
  {
   "cell_type": "code",
   "execution_count": 110,
   "metadata": {},
   "outputs": [
    {
     "data": {
      "text/plain": [
       "['Mike', 'Emma', 'Kelly', 'Brad']"
      ]
     },
     "execution_count": 110,
     "metadata": {},
     "output_type": "execute_result"
    },
    {
     "data": {
      "text/plain": [
       "['Mike', 'Emma', 'Kelly', 'Brad']"
      ]
     },
     "execution_count": 110,
     "metadata": {},
     "output_type": "execute_result"
    }
   ],
   "source": [
    "list1 = [\"Mike\", \"\", \"Emma\", \"Kelly\", \"\", \"Brad\"]\n",
    "\n",
    "#Method-1\n",
    "for l in list1:\n",
    "    if l == \"\":\n",
    "        list1.remove(l)\n",
    "\n",
    "list1\n",
    "\n",
    "#Method-2 - Remove None using filter\n",
    "\n",
    "list(filter(None,list1))\n"
   ]
  },
  {
   "cell_type": "code",
   "execution_count": 117,
   "metadata": {},
   "outputs": [],
   "source": [
    "list1 = [10, 20, [300, 400, [5000, 6000], 500], 30, 40]\n",
    "\n",
    "#insert 7000 after 6000\n",
    "\n",
    "list1[2][2].append(7000) \n",
    "\n",
    "#list1[2][2].insert(2, 7000)\n",
    "\n"
   ]
  },
  {
   "cell_type": "code",
   "execution_count": 124,
   "metadata": {},
   "outputs": [
    {
     "data": {
      "text/plain": [
       "['a', 'b', ['c', ['d', 'e', ['f', 'g', 'h', 'i', 'j'], 'k'], 'l'], 'm', 'n']"
      ]
     },
     "execution_count": 124,
     "metadata": {},
     "output_type": "execute_result"
    }
   ],
   "source": [
    "list1 = [\"a\", \"b\", [\"c\", [\"d\", \"e\", [\"f\", \"g\"], \"k\"], \"l\"], \"m\", \"n\"]\n",
    "# sub list to add\n",
    "sub_list = [\"h\", \"i\", \"j\"]\n",
    "\n",
    "list1[2][1][2].extend(sub_list)\n",
    "\n",
    "list1\n"
   ]
  },
  {
   "cell_type": "code",
   "execution_count": 9,
   "metadata": {},
   "outputs": [
    {
     "name": "stdout",
     "output_type": "stream",
     "text": [
      "The value 20 present: False\n"
     ]
    },
    {
     "data": {
      "text/plain": [
       "True"
      ]
     },
     "execution_count": 9,
     "metadata": {},
     "output_type": "execute_result"
    }
   ],
   "source": [
    "list1 = [5, 10, 15, 20, 25, 50, 20]\n",
    "\n",
    "#o/p: list1 = [5, 10, 15, 200, 25, 50, 20]\n",
    "\n",
    "print( \"The value 20 present:\" , True if list1.count(20) < 0 else False)\n",
    "\n",
    "if list1.count(20) >= 1: #first check whether value is present\n",
    "    list1[list1.index(20)] = 200 #index will throw error if value not present\n",
    "\n",
    "\n",
    "\n",
    "#list1.clear()\n",
    "\n",
    "#copy a list\n",
    "list2 = list1.copy()\n",
    "\n",
    "list1 == list2\n",
    "\n",
    "\n"
   ]
  },
  {
   "cell_type": "code",
   "execution_count": null,
   "metadata": {},
   "outputs": [],
   "source": [
    "#Given a Python list, write a program to remove all occurrences of item 20.\n",
    "\n",
    "list1 = [5, 20, 15, 20, 25, 50, 20]\n",
    "\n",
    "[i for i in list1 if i != 20]\n"
   ]
  },
  {
   "cell_type": "code",
   "execution_count": 11,
   "metadata": {},
   "outputs": [
    {
     "data": {
      "text/plain": [
       "<zip at 0x1b83322e500>"
      ]
     },
     "execution_count": 12,
     "metadata": {},
     "output_type": "execute_result"
    },
    {
     "name": "stdout",
     "output_type": "stream",
     "text": [
      "[5, 7, 9]\n"
     ]
    }
   ],
   "source": [
    "l1 = [1,2,3]\n",
    "l2 = [4,5,6]\n",
    "list(zip(l1,l2))\n",
    "li = []\n",
    "\n",
    "print([i+ j for i,j in zip(l1,l2)])\n",
    "    \n",
    "# for a,b in zip(l1,l2):\n",
    "#     li.append(str(a)+str(b) )\n",
    "\n",
    "# li"
   ]
  },
  {
   "cell_type": "code",
   "execution_count": 38,
   "metadata": {},
   "outputs": [
    {
     "name": "stdout",
     "output_type": "stream",
     "text": [
      "['Banana', 'Mango', 'Apricot']\n",
      "['Mango', 'Jackfruit', 'Apricot', 'Mango', 'Banana', 'Apple']\n",
      "['Banana', 'Mango', 'Apricot', 'Jackfruit']\n",
      "['Apple', 'Banana', 'Jackfruit', 'Mango']\n"
     ]
    }
   ],
   "source": [
    "l1 = ['Apple' , 'Banana' , 'Mango', 'Apricot','Jackfruit' ,'Mango' ]\n",
    "l2 = ['Apple' , 'Litchi'  ]\n",
    "\n",
    "print(l1[1:-2]) #['Banana', 'Mango', 'Jackfruit']\n",
    "print(l1[::-1]) #['Mango', 'Jackfruit', 'Apricot', 'Mango', 'Banana', 'Apple']\n",
    "print(l1[-5:-1]) #['Banana', 'Mango', 'Apricot', 'Jackfruit']\n",
    "print(l1[0:2] + l1[-2:]) #['Apple', 'Banana', 'Jackfruit', 'Mango']\n",
    "\n",
    "#remove duplicates\n",
    "\n",
    "# l1.extend(l2)\n",
    "# set(l1)"
   ]
  },
  {
   "cell_type": "code",
   "execution_count": 39,
   "metadata": {},
   "outputs": [
    {
     "data": {
      "text/plain": [
       "['Apple', 'Kiwi', 'Gauva', 'Banana', 'Mango', 'Jackfruit']"
      ]
     },
     "execution_count": 39,
     "metadata": {},
     "output_type": "execute_result"
    },
    {
     "data": {
      "text/plain": [
       "['Apple', 'Banana', 'Mango', 'Jackfruit']"
      ]
     },
     "execution_count": 39,
     "metadata": {},
     "output_type": "execute_result"
    },
    {
     "data": {
      "text/plain": [
       "['Apple', 'Pear', 'Banana', 'Mango', 'Jackfruit']"
      ]
     },
     "execution_count": 39,
     "metadata": {},
     "output_type": "execute_result"
    },
    {
     "data": {
      "text/plain": [
       "['Apple', 'Pear', 'Mango', 'Jackfruit']"
      ]
     },
     "execution_count": 39,
     "metadata": {},
     "output_type": "execute_result"
    },
    {
     "ename": "ValueError",
     "evalue": "list.remove(x): x not in list",
     "output_type": "error",
     "traceback": [
      "\u001b[1;31m---------------------------------------------------------------------------\u001b[0m",
      "\u001b[1;31mValueError\u001b[0m                                Traceback (most recent call last)",
      "Cell \u001b[1;32mIn[39], line 22\u001b[0m\n\u001b[0;32m     18\u001b[0m l1[\u001b[38;5;241m1\u001b[39m:\u001b[38;5;241m-\u001b[39m\u001b[38;5;241m2\u001b[39m] \u001b[38;5;241m=\u001b[39m [\u001b[38;5;124m'\u001b[39m\u001b[38;5;124mPear\u001b[39m\u001b[38;5;124m'\u001b[39m]\n\u001b[0;32m     20\u001b[0m l1 \u001b[38;5;66;03m#['Apple', 'Pear', 'Mango', 'Jackfruit'] #pear replacing Banana at pos 2\u001b[39;00m\n\u001b[1;32m---> 22\u001b[0m \u001b[43ml1\u001b[49m\u001b[38;5;241;43m.\u001b[39;49m\u001b[43mremove\u001b[49m\u001b[43m(\u001b[49m\u001b[38;5;124;43m'\u001b[39;49m\u001b[38;5;124;43mGauva\u001b[39;49m\u001b[38;5;124;43m'\u001b[39;49m\u001b[43m)\u001b[49m\n\u001b[0;32m     23\u001b[0m l1\u001b[38;5;241m.\u001b[39mpop(\u001b[38;5;241m2\u001b[39m)\n",
      "\u001b[1;31mValueError\u001b[0m: list.remove(x): x not in list"
     ]
    }
   ],
   "source": [
    "#Mutate list using list slicing and indexing\n",
    "l1 = ['Apple' , 'Banana' , 'Mango', 'Jackfruit' ]\n",
    "\n",
    "l1[1:1] = ['Kiwi','Gauva']\n",
    "\n",
    "l1 #['Apple', 'Kiwi', 'Gauva', 'Banana', 'Mango', 'Jackfruit']\n",
    "\n",
    "#delete elements from list\n",
    "\n",
    "#del l1[1:-3]  \n",
    "l1[1:-3] = []\n",
    "\n",
    "l1 #['Apple', 'Banana', 'Mango', 'Jackfruit']\n",
    "\n",
    "l1[1:-3] = ['Pear']\n",
    "l1 #['Apple', 'Pear', 'Banana', 'Mango', 'Jackfruit'] #Pear at pos 2\n",
    "\n",
    "l1[1:-2] = ['Pear']\n",
    "\n",
    "l1 #['Apple', 'Pear', 'Mango', 'Jackfruit'] #pear replacing Banana at pos 2\n",
    "\n"
   ]
  },
  {
   "cell_type": "markdown",
   "metadata": {},
   "source": []
  },
  {
   "cell_type": "code",
   "execution_count": 214,
   "metadata": {},
   "outputs": [
    {
     "name": "stdout",
     "output_type": "stream",
     "text": [
      "True\n"
     ]
    },
    {
     "data": {
      "text/plain": [
       "'Mango'"
      ]
     },
     "execution_count": 214,
     "metadata": {},
     "output_type": "execute_result"
    },
    {
     "data": {
      "text/plain": [
       "['Apple', 'Pear', 'Jackfruit']"
      ]
     },
     "execution_count": 214,
     "metadata": {},
     "output_type": "execute_result"
    },
    {
     "data": {
      "text/plain": [
       "['Apple', 'Jackfruit', 'Mango']"
      ]
     },
     "execution_count": 214,
     "metadata": {},
     "output_type": "execute_result"
    },
    {
     "data": {
      "text/plain": [
       "['Apple', 'Jackfruit', 'Mango', 'Orange', 'Berry']"
      ]
     },
     "execution_count": 214,
     "metadata": {},
     "output_type": "execute_result"
    },
    {
     "name": "stdout",
     "output_type": "stream",
     "text": [
      "Apple ranked #1 \n",
      "\n",
      "Pear ranked #2 \n",
      "\n",
      "Cherry ranked #3 \n",
      "\n",
      "Orange ranked #4 \n",
      "\n",
      "Berry ranked #5 \n",
      "\n"
     ]
    },
    {
     "data": {
      "text/plain": [
       "['Apple', 'Berry', 'Jackfruit', 'Mango', 'Orange']"
      ]
     },
     "execution_count": 214,
     "metadata": {},
     "output_type": "execute_result"
    },
    {
     "data": {
      "text/plain": [
       "1"
      ]
     },
     "execution_count": 214,
     "metadata": {},
     "output_type": "execute_result"
    },
    {
     "data": {
      "text/plain": [
       "['Cherry', 'Pear']"
      ]
     },
     "execution_count": 214,
     "metadata": {},
     "output_type": "execute_result"
    },
    {
     "data": {
      "text/plain": [
       "['Pear',\n",
       " 'Cherry',\n",
       " 'Pear',\n",
       " 'Cherry',\n",
       " 'Pear',\n",
       " 'Cherry',\n",
       " 'Pear',\n",
       " 'Cherry',\n",
       " 'Pear',\n",
       " 'Cherry',\n",
       " 'Pear',\n",
       " 'Cherry',\n",
       " 'Pear',\n",
       " 'Cherry',\n",
       " 'Pear',\n",
       " 'Cherry']"
      ]
     },
     "execution_count": 214,
     "metadata": {},
     "output_type": "execute_result"
    }
   ],
   "source": [
    "l1= ['Apple', 'Pear', 'Mango', 'Jackfruit']\n",
    "\n",
    "#check existence of elements in a list\n",
    "print('Apple' in l1)  #True\n",
    "\n",
    "#removing elements at pos 3\n",
    "l1.pop(-2) #'Mango'\n",
    "\n",
    "l1 #['Apple', 'Pear', 'Jackfruit']\n",
    "\n",
    "if 'Pear' in l1:\n",
    "    l1.remove('Pear') #element must exist\n",
    "\n",
    "#insert an element at pos 3\n",
    "l1.insert(2 , 'Mango')\n",
    "\n",
    "l1 #['Apple', 'Jackfruit', 'Mango']\n",
    "\n",
    "#add a list elements to another list\n",
    "l2 = ['Orange' , 'Berry']\n",
    "\n",
    "#l1.extend(l2) #['Apple', 'Pear', 'Jackfruit', 'Orange', 'Berry']\n",
    "\n",
    "l1 = l1+l2 #append to the end of list\n",
    "\n",
    "#l1 = l2+l1 #prepend to the start of list\n",
    "\n",
    "l1 #['Apple', 'Jackfruit', 'Mango', 'Orange', 'Berry']\n",
    "\n",
    "#pair list elements with another list\n",
    "fruit_rank = [1,2,3,4,5]\n",
    "fruit_names = ['Apple', 'Pear', 'Cherry', 'Orange', 'Berry']\n",
    "\n",
    "for fruit_rank,fruit_names in  zip(fruit_rank ,fruit_names):\n",
    "    print(f\"{fruit_names} ranked #{fruit_rank} \\n\")\n",
    "\n",
    "#sort a list\n",
    "l1.sort(reverse = True)\n",
    "\n",
    "#reverse a list\n",
    "l1[::-1]\n",
    "#li.reverse()\n",
    "\n",
    "#Count occurence of element in a list\n",
    "l1.count('Orange')\n",
    "\n",
    "#remove duplicates from list\n",
    "l3 = ['Pear', 'Cherry','Pear', 'Cherry']\n",
    "list(set(l3))\n",
    "\n",
    "\n",
    "l3 = 4 * l3  #replication 4 times\n",
    "\n",
    "l3\n",
    "\n",
    "#cleat out list\n",
    "li.clear()"
   ]
  },
  {
   "cell_type": "code",
   "execution_count": 17,
   "metadata": {},
   "outputs": [
    {
     "name": "stdout",
     "output_type": "stream",
     "text": [
      "[80, 90]\n"
     ]
    },
    {
     "data": {
      "text/plain": [
       "[('Sachi', 80), ('Samar', 90)]"
      ]
     },
     "execution_count": 17,
     "metadata": {},
     "output_type": "execute_result"
    },
    {
     "name": "stdout",
     "output_type": "stream",
     "text": [
      "Sachi scored 80 marks\n",
      "Samar scored 90 marks\n"
     ]
    }
   ],
   "source": [
    "FirstName = ['Sachi','Samar','Arpit']\n",
    "Scores = [80,'',90,70,'']\n",
    "\n",
    "for i in Scores:\n",
    "    if i=='':\n",
    "      Scores.remove(i)\n",
    "\n",
    "print(Scores)\n",
    "\n",
    "for FirstName ,Scores in list(zip(FirstName,Scores)):\n",
    "    print(f'{FirstName} scored {Scores} marks')\n",
    "\n"
   ]
  },
  {
   "cell_type": "code",
   "execution_count": 40,
   "metadata": {},
   "outputs": [
    {
     "data": {
      "text/plain": [
       "['sweet pea',\n",
       " 'monkshood',\n",
       " 'tiger lily',\n",
       " 'moon orchid',\n",
       " 'pink primrose',\n",
       " 'globe thistle',\n",
       " 'canterbury bells',\n",
       " 'english marigold',\n",
       " 'bird of paradise',\n",
       " 'hard-leaved pocket orchid']"
      ]
     },
     "execution_count": 40,
     "metadata": {},
     "output_type": "execute_result"
    }
   ],
   "source": [
    "flowers = \"pink primrose,hard-leaved pocket orchid,canterbury bells,sweet pea,english marigold,tiger lily,moon orchid,bird of paradise,monkshood,globe thistle\"\n",
    "\n",
    "flowers_list = flowers.split(\",\")\n",
    "\n",
    "#flowers_list = sorted(flowers_list , key = len)\n",
    "flowers_list = sorted(flowers_list, key = lambda x:len(x))\n",
    "\n",
    "flowers_list\n"
   ]
  },
  {
   "cell_type": "code",
   "execution_count": 44,
   "metadata": {},
   "outputs": [
    {
     "name": "stdout",
     "output_type": "stream",
     "text": [
      "[1, 1, 1, 2, 2, 2, 3, 3, 3, 4, 4, 4, 5, 5, 5]\n"
     ]
    }
   ],
   "source": [
    "#element duplication\n",
    "numbers = [1,2,3,4,5]\n",
    "res = []\n",
    "\n",
    "#[res.extend([num] * 3) for num in numbers]\n",
    "\n",
    "for num in numbers:\n",
    "\n",
    "    res.extend([num] * 3)\n",
    "\n",
    "print(res)"
   ]
  },
  {
   "cell_type": "code",
   "execution_count": null,
   "metadata": {},
   "outputs": [],
   "source": [
    "#List Comphrehension"
   ]
  },
  {
   "cell_type": "code",
   "execution_count": 32,
   "metadata": {},
   "outputs": [
    {
     "name": "stdout",
     "output_type": "stream",
     "text": [
      "[24, 26, 28]\n"
     ]
    }
   ],
   "source": [
    "numbers = [12, 13, 14,] \n",
    "doubled = [x*2 for x in numbers]\n",
    "print(doubled)"
   ]
  },
  {
   "cell_type": "code",
   "execution_count": 33,
   "metadata": {},
   "outputs": [
    {
     "name": "stdout",
     "output_type": "stream",
     "text": [
      "[1, 4, 9, 16, 25]\n"
     ]
    }
   ],
   "source": [
    "numbers = [1, 2, 3, 4, 5] \n",
    "square = [x**2 for x in numbers]\n",
    "print(square)\n"
   ]
  },
  {
   "cell_type": "code",
   "execution_count": 35,
   "metadata": {},
   "outputs": [
    {
     "name": "stdout",
     "output_type": "stream",
     "text": [
      "[0, 2, 4, 6, 8, 10]\n"
     ]
    }
   ],
   "source": [
    "#even list from numbers - 1 to 10\n",
    "\n",
    "print([x for x in range(11) if x % 2 == 0])"
   ]
  },
  {
   "cell_type": "code",
   "execution_count": 44,
   "metadata": {},
   "outputs": [
    {
     "name": "stdout",
     "output_type": "stream",
     "text": [
      "[[0, 1, 2], [0, 1, 2], [0, 1, 2]]\n"
     ]
    }
   ],
   "source": [
    "#Create a matrix of numbers 0-2\n",
    "#[[0, 1, 2], [0, 1, 2], [0, 1, 2]]\n",
    "\n",
    "print([ [x for x in range(3)] for y in range(3) ] )"
   ]
  },
  {
   "cell_type": "markdown",
   "metadata": {},
   "source": [
    "[\"Even Number\" for i in range(8) if i % 2 == 0 else \"Odd Number\"]"
   ]
  },
  {
   "cell_type": "code",
   "execution_count": 46,
   "metadata": {},
   "outputs": [
    {
     "name": "stdout",
     "output_type": "stream",
     "text": [
      "[0, 10, 20, 30, 40, 50, 60, 70, 80, 90]\n"
     ]
    }
   ],
   "source": [
    "lis = [num for num in range(100)  if num % 5 == 0 if num % 10 == 0] \n",
    "print(lis)"
   ]
  },
  {
   "cell_type": "code",
   "execution_count": null,
   "metadata": {},
   "outputs": [],
   "source": [
    "#reverse each element in a tuple\n",
    "words = ('Geeks', 'for', 'Geeks')\n",
    "[w[::-1] for w in words]"
   ]
  },
  {
   "cell_type": "markdown",
   "metadata": {},
   "source": [
    "Advantages of List Comprehension\n",
    "\n",
    "- More time-efficient and space-efficient than loops. \n",
    "- Require fewer lines of code.\n",
    "- Transforms iterative statement into a formula."
   ]
  },
  {
   "cell_type": "code",
   "execution_count": null,
   "metadata": {},
   "outputs": [],
   "source": [
    "[x ** 2 for x in range(1, 11) if x % 2 == 1]"
   ]
  },
  {
   "cell_type": "code",
   "execution_count": null,
   "metadata": {},
   "outputs": [],
   "source": [
    "#Concatenate 2 lists using 3 methods - \n",
    "# * operator\n",
    "# using extends\n",
    "#using + operator\n",
    "\n",
    "test_list1 = [1,2,3,4,5]\n",
    "test_list2 = [6,7,8,9,10]\n",
    "\n",
    "# res_list = [*test_list1 , *test_list2]\n",
    "# res_list\n",
    "\n",
    "# res_list = test_list1.extend(test_list2)\n",
    "# res_list\n",
    "\n",
    "res_list = test_list1 + test_list2\n",
    "res_list"
   ]
  },
  {
   "cell_type": "code",
   "execution_count": 86,
   "metadata": {},
   "outputs": [
    {
     "name": "stdout",
     "output_type": "stream",
     "text": [
      "Counter({2: 3, 1: 2, 'a': 2, 3: 1, 'b': 1})\n"
     ]
    },
    {
     "data": {
      "text/plain": [
       "[(2, 3), (1, 2)]"
      ]
     },
     "execution_count": 86,
     "metadata": {},
     "output_type": "execute_result"
    },
    {
     "data": {
      "text/plain": [
       "dict_items([(2, 3), (1, 2), (3, 1), ('a', 2), ('b', 1)])"
      ]
     },
     "execution_count": 86,
     "metadata": {},
     "output_type": "execute_result"
    },
    {
     "ename": "NotImplementedError",
     "evalue": "Counter.fromkeys() is undefined.  Use Counter(iterable) instead.",
     "output_type": "error",
     "traceback": [
      "\u001b[1;31m---------------------------------------------------------------------------\u001b[0m",
      "\u001b[1;31mNotImplementedError\u001b[0m                       Traceback (most recent call last)",
      "Cell \u001b[1;32mIn[86], line 12\u001b[0m\n\u001b[0;32m      8\u001b[0m \u001b[38;5;28mlist\u001b[39m(occ_count\u001b[38;5;241m.\u001b[39mmost_common(\u001b[38;5;241m2\u001b[39m)) \u001b[38;5;66;03m# 2 most common occurences  #[(2, 3), (1, 2)]\u001b[39;00m\n\u001b[0;32m     10\u001b[0m occ_count\u001b[38;5;241m.\u001b[39mitems() \u001b[38;5;66;03m#dict_items([(2\t3)\t(1\t2)\t(3\t1)\t('a'\t2)\t('b'\t1)])\u001b[39;00m\n\u001b[1;32m---> 12\u001b[0m \u001b[38;5;28mprint\u001b[39m(\u001b[43mocc_count\u001b[49m\u001b[38;5;241;43m.\u001b[39;49m\u001b[43mfromkeys\u001b[49m\u001b[43m(\u001b[49m\u001b[43m[\u001b[49m\u001b[38;5;241;43m2\u001b[39;49m\u001b[43m,\u001b[49m\u001b[38;5;241;43m3\u001b[39;49m\u001b[43m]\u001b[49m\u001b[43m)\u001b[49m)\n\u001b[0;32m     13\u001b[0m \u001b[38;5;66;03m#print(occ_count.total())\u001b[39;00m\n",
      "File \u001b[1;32m~\\AppData\\Local\\Programs\\Python\\Python310\\lib\\collections\\__init__.py:637\u001b[0m, in \u001b[0;36mCounter.fromkeys\u001b[1;34m(cls, iterable, v)\u001b[0m\n\u001b[0;32m    628\u001b[0m \u001b[38;5;129m@classmethod\u001b[39m\n\u001b[0;32m    629\u001b[0m \u001b[38;5;28;01mdef\u001b[39;00m \u001b[38;5;21mfromkeys\u001b[39m(\u001b[38;5;28mcls\u001b[39m, iterable, v\u001b[38;5;241m=\u001b[39m\u001b[38;5;28;01mNone\u001b[39;00m):\n\u001b[0;32m    630\u001b[0m     \u001b[38;5;66;03m# There is no equivalent method for counters because the semantics\u001b[39;00m\n\u001b[1;32m   (...)\u001b[0m\n\u001b[0;32m    635\u001b[0m     \u001b[38;5;66;03m# more exotic cases, create a dictionary first using a dictionary\u001b[39;00m\n\u001b[0;32m    636\u001b[0m     \u001b[38;5;66;03m# comprehension or dict.fromkeys().\u001b[39;00m\n\u001b[1;32m--> 637\u001b[0m     \u001b[38;5;28;01mraise\u001b[39;00m \u001b[38;5;167;01mNotImplementedError\u001b[39;00m(\n\u001b[0;32m    638\u001b[0m         \u001b[38;5;124m'\u001b[39m\u001b[38;5;124mCounter.fromkeys() is undefined.  Use Counter(iterable) instead.\u001b[39m\u001b[38;5;124m'\u001b[39m)\n",
      "\u001b[1;31mNotImplementedError\u001b[0m: Counter.fromkeys() is undefined.  Use Counter(iterable) instead."
     ]
    }
   ],
   "source": [
    "#Most frequent element in a list\n",
    "from collections import Counter\n",
    "List = [2, 1, 2, 2, 1, 3,'a','b','a']\n",
    "\n",
    "occ_count = Counter(List) # takes an iterable \n",
    "\n",
    "print(occ_count) #Counter({2: 3, 1: 2, 3: 1})\n",
    "list(occ_count.most_common(2)) # 2 most common occurences  #[(2, 3), (1, 2)]\n",
    "\n",
    "occ_count.items() #dict_items([(2\t3)\t(1\t2)\t(3\t1)\t('a'\t2)\t('b'\t1)])\n",
    "\n",
    "print(occ_count.fromkeys([2,3]))\n",
    "#print(occ_count.total())\n",
    "\n",
    "\n"
   ]
  },
  {
   "cell_type": "code",
   "execution_count": 60,
   "metadata": {},
   "outputs": [
    {
     "name": "stdout",
     "output_type": "stream",
     "text": [
      "{2: 3, 1: 2, 3: 1}\n"
     ]
    },
    {
     "data": {
      "text/plain": [
       "2"
      ]
     },
     "execution_count": 60,
     "metadata": {},
     "output_type": "execute_result"
    },
    {
     "data": {
      "text/plain": [
       "2"
      ]
     },
     "execution_count": 60,
     "metadata": {},
     "output_type": "execute_result"
    }
   ],
   "source": [
    "List = [2, 1, 2, 2, 1, 3]\n",
    "\n",
    "dict = {}\n",
    "\n",
    "for num in List:\n",
    "    if num not in dict:\n",
    "        dict[num] = List.count(num)\n",
    "\n",
    "print(dict)\n",
    "\n",
    "max(dict , key = lambda x : dict[x])\n",
    "\n",
    "#OR\n",
    "#Using keys() and values() to create zip - tuple of values and keys and find max of values and return the key\n",
    "max(list(zip(list(dict.values()) , list(dict.keys()))))[1]\n",
    "\n"
   ]
  },
  {
   "cell_type": "code",
   "execution_count": 70,
   "metadata": {},
   "outputs": [
    {
     "data": {
      "text/plain": [
       "[([4, 3, 5], [1]), ([1, 2, 3], [9]), ([3, 7, 4], [8])]"
      ]
     },
     "execution_count": 70,
     "metadata": {},
     "output_type": "execute_result"
    },
    {
     "data": {
      "text/plain": [
       "[[4, 3, 5, 1], [1, 2, 3, 9], [3, 7, 4, 8]]"
      ]
     },
     "execution_count": 70,
     "metadata": {},
     "output_type": "execute_result"
    },
    {
     "data": {
      "text/plain": [
       "[[4, 3, 5, 1], [1, 2, 3, 9], [3, 7, 4, 8]]"
      ]
     },
     "execution_count": 70,
     "metadata": {},
     "output_type": "execute_result"
    }
   ],
   "source": [
    "#Concatenate two list of lists Row -wise\n",
    "\n",
    "# Input : test_list1 = [[4, 3, 5,], [1, 2, 3], [3, 7, 4]], test_list2 = [[1], [9], [8]]\n",
    "# Output : [[4, 3, 5, 1], [1, 2, 3, 9], [3, 7, 4, 8]]\n",
    "\n",
    "test_list1 = [[4, 3, 5,], [1, 2, 3], [3, 7, 4]]\n",
    "test_list2 = [[1], [9], [8]]\n",
    "\n",
    "#Using zip and list comphrehension\n",
    "list(zip(test_list1 , test_list2))\n",
    "[ i + j for i,j in list(zip(test_list1 , test_list2))]\n",
    "\n",
    "\n",
    "#Using indices and append and concat 2 lists\n",
    "res = []\n",
    "for i in range(len(test_list1)):\n",
    "    res.append(test_list1[i] + test_list2[i])\n",
    "\n",
    "\n",
    "#Using indices and append and pack\n",
    "res = []\n",
    "for i in range(len(test_list1)):\n",
    "   res.append([*test_list1[i] , *test_list2[i]])\n",
    "res"
   ]
  },
  {
   "cell_type": "code",
   "execution_count": 78,
   "metadata": {},
   "outputs": [
    {
     "data": {
      "text/plain": [
       "True"
      ]
     },
     "execution_count": 78,
     "metadata": {},
     "output_type": "execute_result"
    },
    {
     "data": {
      "text/plain": [
       "'hello geek have a geeky day 1'"
      ]
     },
     "execution_count": 78,
     "metadata": {},
     "output_type": "execute_result"
    }
   ],
   "source": [
    "#Python program to Concatenate all Elements of a List into a String\n",
    "\n",
    "l = [ 'hello', 'geek', 'have', 'a', 'geeky', 'day' , 1]\n",
    "\n",
    "#pass a list to the join method\n",
    "st = ' '.join([str(s) for s in l])\n",
    "\n",
    "isinstance(st , str) #True\n",
    "\n",
    "#use reduce(x,y)\n",
    "from functools import reduce\n",
    "res = reduce(lambda x,y : x + ' '+ y , map(str , l))\n",
    "res"
   ]
  },
  {
   "cell_type": "code",
   "execution_count": 90,
   "metadata": {},
   "outputs": [
    {
     "data": {
      "text/plain": [
       "['name', 'marks', 'alice', 87, 'bob', 56]"
      ]
     },
     "execution_count": 90,
     "metadata": {},
     "output_type": "execute_result"
    },
    {
     "data": {
      "text/plain": [
       "['name', 'marks', 'alice', 87, 'bob', 56]"
      ]
     },
     "execution_count": 90,
     "metadata": {},
     "output_type": "execute_result"
    },
    {
     "data": {
      "text/plain": [
       "['name', 'marks', 'alice', 87, 'bob', 56]"
      ]
     },
     "execution_count": 90,
     "metadata": {},
     "output_type": "execute_result"
    }
   ],
   "source": [
    "#Merge 2 lists alternatively\n",
    "\n",
    "# Input : lst1 = ['name', 'alice', 'bob']\n",
    "#         lst2 = ['marks', 87, 56]\n",
    "# Output : ['name', 'marks', 'alice', 87, 'bob', 56]\n",
    "\n",
    "lst1 = ['name', 'alice', 'bob']\n",
    "lst2 = ['marks', 87, 56]\n",
    "\n",
    "\n",
    "#using extend\n",
    "lst3 = []\n",
    "for i,j in list(zip(lst1 , lst2)):\n",
    "    lst3.extend([i,j])\n",
    "lst3\n",
    "\n",
    "#using append\n",
    "lst3 = []\n",
    "for i,j in list(zip(lst1 , lst2)):\n",
    "    lst3.append(i)\n",
    "    lst3.append(j)\n",
    "lst3\n",
    "\n",
    "#using list comphrehensions  - sub[item] = ['name', 'marks']\n",
    "[sub[item] for item in range(len(lst1)) for sub in [lst1,lst2]]"
   ]
  },
  {
   "cell_type": "code",
   "execution_count": 115,
   "metadata": {},
   "outputs": [
    {
     "data": {
      "text/plain": [
       "[2, 2, 12, 14, 14, 15, 15, 16, 20, 23, 26, 32, 47, 48, 52, 54]"
      ]
     },
     "execution_count": 115,
     "metadata": {},
     "output_type": "execute_result"
    },
    {
     "data": {
      "text/plain": [
       "[32, 2, 12, 14, 15, 16, 48, 47, 20, 52, 54, 23, 26]"
      ]
     },
     "execution_count": 115,
     "metadata": {},
     "output_type": "execute_result"
    },
    {
     "data": {
      "text/plain": [
       "[2, 2, 12, 14, 14, 15, 15, 16, 20, 23, 26, 32, 47, 48, 52, 54]"
      ]
     },
     "execution_count": 115,
     "metadata": {},
     "output_type": "execute_result"
    }
   ],
   "source": [
    "# Maintained repetition and order\n",
    "# Input : \n",
    "# lst1 = [23, 15, 2, 14, 14, 16, 20 ,52]\n",
    "# lst2 = [2, 48, 15, 12, 26, 32, 47, 54]\n",
    "# Output :\n",
    "# [2, 2, 12, 14, 14, 15, 15, 16, 20, 23, \n",
    "# 26, 32, 47, 48, 52, 54]\n",
    "\n",
    "lst1 = [23, 15, 2, 14, 14, 16, 20 ,52]\n",
    "lst2 = [2, 48, 15, 12, 26, 32, 47, 54]\n",
    "sorted(lst1 + lst2) #sorts the combined list and maintains duplicates/repetition\n",
    "\n",
    "#using set \n",
    "list(set(lst1 + lst2)) # maintains order and no duplicates/repetition\n",
    "\n",
    "#using extend\n",
    "lst1.extend(lst2)\n",
    "sorted(lst1)\n",
    "\n",
    "\n",
    "\n"
   ]
  },
  {
   "cell_type": "code",
   "execution_count": null,
   "metadata": {},
   "outputs": [],
   "source": []
  },
  {
   "cell_type": "code",
   "execution_count": 100,
   "metadata": {},
   "outputs": [
    {
     "data": {
      "text/plain": [
       "['alice', 87]"
      ]
     },
     "execution_count": 100,
     "metadata": {},
     "output_type": "execute_result"
    }
   ],
   "source": []
  },
  {
   "cell_type": "code",
   "execution_count": null,
   "metadata": {},
   "outputs": [],
   "source": [
    "t1 = ('a',)\n",
    "\n",
    "t2 = ('b','c')\n",
    "\n",
    "t1 = t1+t2  #(a,b,c)\n",
    "\n",
    "#t1[1:1] = 'z' #'tuple' object does not support item assignment\n",
    "\n",
    "t1.count('a') # 1\n",
    "\n",
    "li = [0,1,2]\n",
    "t3 = ([0,1,2])\n",
    "\n",
    "#t1 = t1 + t3  #can only concatenate tuple (not \"list\") to tuple \n",
    "\n",
    "\n",
    "l0 = list(t1) \n",
    "l0.extend(li)\n",
    "\n",
    "l0\n",
    "\n",
    "t3 = (1,2,['x','y','z'])\n",
    "\n",
    "li = [['a','b','c']]\n",
    "\n",
    "t3 = t3 + tuple(li) #first convert list to tuple \n",
    "\n",
    "t3 #(1, 2, ['x', 'y', 'z'], ['a', 'b', 'c'])\n",
    "\n",
    "#Manipulate the list in immutable tuple\n",
    "\n",
    "t3[2][1:1] = 'm'\n",
    "\n",
    "t3 #(1, 2, ['x', 'm', 'y', 'z'], ['a', 'b', 'c'])\n",
    "\n",
    "t3[0] = 99 #'tuple' object does not support item assignment\n",
    "\n",
    "t3 = (100,)\n",
    "\n",
    "t3 = 5 * t3  #replication\n",
    "\n",
    "t3\n",
    "\n",
    "\n",
    "\n"
   ]
  },
  {
   "cell_type": "code",
   "execution_count": 22,
   "metadata": {},
   "outputs": [
    {
     "data": {
      "text/plain": [
       "[['Apple', 'Banana', 'Cherry'],\n",
       " ['Date', 'Fig', 'Grape'],\n",
       " ['Kiwi', 'Lemon', 'Mango']]"
      ]
     },
     "execution_count": 22,
     "metadata": {},
     "output_type": "execute_result"
    }
   ],
   "source": [
    "matrix = [[\"apple\", \"banana\", \"cherry\"],\n",
    "          [\"date\", \"fig\", \"grape\"],\n",
    "          [\"kiwi\", \"lemon\", \"mango\"]]\n",
    "\n",
    "#Capitalize every element in a nested List and flatten them\n",
    "[ele.capitalize() for row in matrix for ele in row ]\n",
    "\n",
    "#Capitalize every element in a nested List with keeping the structure still nested\n",
    "[[ele.capitalize() for ele in row] for row in matrix]\n",
    "\n",
    "#Using the loop method\n",
    "Capmatrix = []\n",
    "Final = []\n",
    "str = ''\n",
    "for row in matrix:\n",
    "    for ele in row:\n",
    "        Capmatrix.append(ele.capitalize()) \n",
    "    Final.append(Capmatrix)        \n",
    "    Capmatrix = []\n",
    "\n",
    "Final"
   ]
  },
  {
   "cell_type": "code",
   "execution_count": 112,
   "metadata": {},
   "outputs": [
    {
     "name": "stdout",
     "output_type": "stream",
     "text": [
      "[1, 2, 3, 4, 5, 6, 7, 8, 9, 10]\n",
      "[10, 8, 6, 4, 2]\n",
      "[10]\n",
      "[10, 8, 6]\n",
      "[6, 8, 10]\n",
      "[3, 5, 7, 9]\n",
      "[10, 8, 6, 4, 2]\n"
     ]
    }
   ],
   "source": [
    "#slicing \n",
    "\n",
    "lst = list(range(1,11))\n",
    "print(lst) #[1, 2, 3, 4, 5, 6, 7, 8, 9, 10]\n",
    "\n",
    "print(lst[-1::-2]) #[10, 8, 6, 4, 2]\n",
    "print(lst[-1:]) #[10]\n",
    "print(lst[9:4:-2]) #[10, 8, 6]\n",
    "print(lst[-5::2]) #[6, 8, 10]\n",
    "\n",
    "print(lst[-8::2]) #[3, 5, 7, 9]\n",
    "\n",
    "print(lst[::-2]) #[10, 8, 6, 4, 2]\n",
    "\n",
    "print(lst[::-2])\n",
    "\n"
   ]
  },
  {
   "cell_type": "code",
   "execution_count": 179,
   "metadata": {},
   "outputs": [
    {
     "name": "stdout",
     "output_type": "stream",
     "text": [
      "[0, 1, 4, 9, 16, 25, 36, 49, 64, 81, 100]\n",
      "[1, 2, 4, 8, 16, 32, 64, 128, 256, 512, 1024]\n"
     ]
    },
    {
     "data": {
      "text/plain": [
       "[None, None, None, None, None, None, None, None, None, None, None]"
      ]
     },
     "execution_count": 179,
     "metadata": {},
     "output_type": "execute_result"
    },
    {
     "name": "stdout",
     "output_type": "stream",
     "text": [
      "[0, 0, 0, 1, 1, 1, 2, 2, 2, 3, 3, 3, 4, 4, 4, 5, 5, 5, 6, 6, 6, 7, 7, 7, 8, 8, 8, 9, 9, 9, 10, 10, 10]\n"
     ]
    }
   ],
   "source": [
    "print([i**2 for i in range(0,11)])\n",
    "print([2**i for i in range(0,11)])\n",
    "numlist = []\n",
    "\n",
    "[numlist.extend([i] * 3 ) for i in range(0,11)]\n",
    "\n",
    "print(numlist)\n"
   ]
  },
  {
   "cell_type": "code",
   "execution_count": 183,
   "metadata": {},
   "outputs": [
    {
     "name": "stdout",
     "output_type": "stream",
     "text": [
      "[20, 40, 60, 80, 100]\n"
     ]
    }
   ],
   "source": [
    "numbers = list(map( lambda x:x*10 , [ i for i in range(1,10+1) if i % 2==0]))\n",
    "\n",
    "print(numbers) #[20, 40, 60, 80, 100]\n",
    "\n"
   ]
  },
  {
   "cell_type": "markdown",
   "metadata": {},
   "source": [
    "##### Flatten list of lists"
   ]
  },
  {
   "cell_type": "code",
   "execution_count": 197,
   "metadata": {},
   "outputs": [
    {
     "name": "stdout",
     "output_type": "stream",
     "text": [
      "['S', 'A', 'B', 'Y', 'A', 'S', 'A', 'C', 'H', 'I', '\\x18', '\\x13']\n"
     ]
    }
   ],
   "source": [
    "\n",
    "string = \"sabyasachi83\"\n",
    "name = list(map(lambda i: chr(ord(i) ^ 32) ,string  ))\n",
    "''\n",
    "print(name)\n"
   ]
  },
  {
   "cell_type": "code",
   "execution_count": 1,
   "metadata": {},
   "outputs": [
    {
     "name": "stdout",
     "output_type": "stream",
     "text": [
      "['a', 'b', 'c', 1, 2, 3]\n"
     ]
    }
   ],
   "source": [
    "test_list =[['a','b','c'],[1,2,3]]\n",
    "flattened_list = []\n",
    "\n",
    "for l in test_list:\n",
    "    flattened_list.extend(l)\n",
    "\n",
    "print(flattened_list)"
   ]
  },
  {
   "cell_type": "code",
   "execution_count": 5,
   "metadata": {},
   "outputs": [
    {
     "data": {
      "text/plain": [
       "['a', 'b', 'c', 1, 2, 3]"
      ]
     },
     "execution_count": 5,
     "metadata": {},
     "output_type": "execute_result"
    }
   ],
   "source": [
    "#using sum\n",
    "flattened_list = sum(test_list ,start = [] )\n",
    "flattened_list"
   ]
  },
  {
   "cell_type": "code",
   "execution_count": 15,
   "metadata": {},
   "outputs": [
    {
     "name": "stdout",
     "output_type": "stream",
     "text": [
      "['a', 'b', 'c', 1, 2, 3]\n"
     ]
    }
   ],
   "source": [
    "from itertools import chain\n",
    "\n",
    "#unpack multiple lists and chain them together\n",
    "res = list(chain(*[ele if isinstance(ele, list) else [ele] for ele in test_list]))\n",
    "\n",
    "print(res)"
   ]
  },
  {
   "cell_type": "code",
   "execution_count": 16,
   "metadata": {},
   "outputs": [
    {
     "name": "stdout",
     "output_type": "stream",
     "text": [
      "['a', 'b', 'c', 1, 2, 3]\n"
     ]
    }
   ],
   "source": [
    "#reduce \n",
    "\n",
    "from functools import reduce \n",
    "res = reduce(lambda x,y : x + y , test_list)\n",
    "\n",
    "print(res)"
   ]
  },
  {
   "cell_type": "markdown",
   "metadata": {},
   "source": [
    "##### List comphrehension on nested lists\n"
   ]
  },
  {
   "cell_type": "code",
   "execution_count": 20,
   "metadata": {},
   "outputs": [
    {
     "name": "stdout",
     "output_type": "stream",
     "text": [
      "[[0, 2, 4, 6, 8], [0, 2, 4, 6, 8], [0, 2, 4, 6, 8], [0, 2, 4, 6, 8], [0, 2, 4, 6, 8]]\n"
     ]
    }
   ],
   "source": [
    "nested_list = [[ j for j in range(10) if j % 2==0 ] for i in range(5)]\n",
    "print(nested_list)"
   ]
  },
  {
   "cell_type": "code",
   "execution_count": 24,
   "metadata": {},
   "outputs": [
    {
     "name": "stdout",
     "output_type": "stream",
     "text": [
      "[0, 2, 4, 6, 8, 0, 2, 4, 6, 8, 0, 2, 4, 6, 8, 0, 2, 4, 6, 8, 0, 2, 4, 6, 8]\n",
      "[0, 2, 4, 6, 8, 0, 2, 4, 6, 8, 0, 2, 4, 6, 8, 0, 2, 4, 6, 8, 0, 2, 4, 6, 8]\n"
     ]
    }
   ],
   "source": [
    "#Flattening \n",
    "from itertools import chain\n",
    "\n",
    "flattened_list_method_1 = [ li for singleton_list in nested_list for li in singleton_list ]\n",
    "flattened_list_method_2 = list(chain(*[singleton_list for singleton_list in nested_list]))\n",
    "\n",
    "print(flattened_list_method_1)\n",
    "print(flattened_list_method_2)"
   ]
  },
  {
   "cell_type": "code",
   "execution_count": 25,
   "metadata": {},
   "outputs": [
    {
     "data": {
      "text/plain": [
       "[['Apple', 'Banana', 'Cherry'],\n",
       " ['Date', 'Fig', 'Grape'],\n",
       " ['Kiwi', 'Lemon', 'Mango']]"
      ]
     },
     "execution_count": 25,
     "metadata": {},
     "output_type": "execute_result"
    }
   ],
   "source": [
    "\n",
    "matrix = [[\"apple\", \"banana\", \"cherry\"],\n",
    "          [\"date\", \"fig\", \"grape\"],\n",
    "          [\"kiwi\", \"lemon\", \"mango\"]]\n",
    "\n",
    "update_matrix = [[ele.capitalize() for ele in li] for li in matrix ]\n",
    "\n",
    "update_matrix"
   ]
  },
  {
   "cell_type": "code",
   "execution_count": 55,
   "metadata": {},
   "outputs": [
    {
     "name": "stdout",
     "output_type": "stream",
     "text": [
      "True\n",
      "False\n"
     ]
    }
   ],
   "source": [
    "#check whether there are any sublists in a list\n",
    "nested_list_1 = [\"Apple\" ,[1,2,3], 1.0 ,True]\n",
    "nested_list_2 = [\"Apple\" , 1.0 ,True]\n",
    "\n",
    "print(any([ True for  li in  nested_list_1 if isinstance(li , list)  ]))\n",
    "print(any([ True for  li in  nested_list_2 if isinstance(li , list)  ]))"
   ]
  },
  {
   "cell_type": "code",
   "execution_count": 54,
   "metadata": {},
   "outputs": [
    {
     "name": "stdout",
     "output_type": "stream",
     "text": [
      "['Apple', [1, 2, 3], 1.0, True]\n",
      "['Apple', [1, 2, 3], 1.0, True]\n",
      "['Apple', [1, 2, 3], 1.0, True, 'Some list']\n"
     ]
    }
   ],
   "source": [
    "import copy #required for deepcopy([Iterable])\n",
    "nested_list_1 = [\"Apple\" ,[1,2,3], 1.0 ,True]\n",
    "\n",
    "\n",
    "nested_list_1_clone = nested_list_1.copy()\n",
    "nested_list_2_clone = copy.deepcopy(nested_list_1)\n",
    "\n",
    "nested_list_1 = nested_list_1 + [\"Some list\"]\n",
    "print(nested_list_1_clone )  \n",
    "print(nested_list_2_clone )  \n",
    "print(nested_list_1) #independent \n"
   ]
  },
  {
   "cell_type": "code",
   "execution_count": 60,
   "metadata": {},
   "outputs": [
    {
     "name": "stdout",
     "output_type": "stream",
     "text": [
      "['Apple', [1, 2, 3], '1.0', 'True']\n"
     ]
    }
   ],
   "source": [
    "#copy using slicing and list comp\n",
    "\n",
    "nested_list_1 = [\"Apple\" ,[1,2,3], 1.0 ,True]\n",
    "nested_list_2 = [\"Apple\" , 1.0 ,True]\n",
    "\n",
    "nested_list_copy = [mod_list[:] for mod_list in [ l if isinstance(l , list) else str(l) for l in nested_list_1] ]\n",
    "\n",
    "print(nested_list_copy)"
   ]
  },
  {
   "cell_type": "code",
   "execution_count": 82,
   "metadata": {},
   "outputs": [
    {
     "name": "stdout",
     "output_type": "stream",
     "text": [
      "#O/P - using list comp... \n"
     ]
    },
    {
     "data": {
      "text/plain": [
       "[[1, 2], [3, 4]]"
      ]
     },
     "execution_count": 82,
     "metadata": {},
     "output_type": "execute_result"
    },
    {
     "data": {
      "text/plain": [
       "[[5, 6]]"
      ]
     },
     "execution_count": 82,
     "metadata": {},
     "output_type": "execute_result"
    },
    {
     "data": {
      "text/plain": [
       "[[5, 7], [1, 2], [3, 4], [5, 6]]"
      ]
     },
     "execution_count": 82,
     "metadata": {},
     "output_type": "execute_result"
    },
    {
     "name": "stdout",
     "output_type": "stream",
     "text": [
      "#O/P - using map() + set() + & ... \n"
     ]
    },
    {
     "data": {
      "text/plain": [
       "[[1, 2], [3, 4]]"
      ]
     },
     "execution_count": 82,
     "metadata": {},
     "output_type": "execute_result"
    },
    {
     "data": {
      "text/plain": [
       "[[5, 6]]"
      ]
     },
     "execution_count": 82,
     "metadata": {},
     "output_type": "execute_result"
    },
    {
     "data": {
      "text/plain": [
       "[[1, 2], [3, 4], [5, 6], [5, 7]]"
      ]
     },
     "execution_count": 82,
     "metadata": {},
     "output_type": "execute_result"
    }
   ],
   "source": [
    "#find intersection of 2 lists\n",
    "\n",
    "#using list comp\n",
    "test_list1 = [ [1, 2], [3, 4], [5, 6] ]\n",
    "test_list2 = [ [3, 4], [5, 7], [1, 2] ]\n",
    "\n",
    "print(\"#O/P - using list comp... \")\n",
    "\n",
    "[l for l in test_list1 if l in test_list2] #intersection\n",
    "[l for l in test_list1 if l not in test_list2] #except / non-overlap\n",
    "list( \n",
    "     map(list , \n",
    "          (set( map(tuple , [l for l in test_list1] + [l2 for l2 in test_list2 ])    #union\n",
    "            ) #set needs hashable types , so tuple is used as map function instead of unhashable type - list\n",
    "          ) #convert to list from set\n",
    "       ) \n",
    "    ) #convert to list format instead of map object\n",
    "\n",
    "\n",
    "\n",
    "print(\"#O/P - using map() + set() + & ... \")\n",
    "\n",
    "res_set_intersect =  set(map(tuple, test_list1)) & set(map(tuple, test_list2) ) #intersect\n",
    "res_set_except =  set(map(tuple, test_list1)) - set(map(tuple, test_list2) ) #except\n",
    "res_set_union =  set(map(tuple, test_list1)) | set(map(tuple, test_list2) ) #union\n",
    "\n",
    "res_list_intersect = list(map(list , res_set_intersect))\n",
    "res_list_union = list(map(list , res_set_union))\n",
    "res_list_except = list(map(list , res_set_except))\n",
    "\n",
    "res_list_intersect\n",
    "res_list_except\n",
    "res_list_union"
   ]
  }
 ],
 "metadata": {
  "kernelspec": {
   "display_name": ".venv",
   "language": "python",
   "name": "python3"
  },
  "language_info": {
   "codemirror_mode": {
    "name": "ipython",
    "version": 3
   },
   "file_extension": ".py",
   "mimetype": "text/x-python",
   "name": "python",
   "nbconvert_exporter": "python",
   "pygments_lexer": "ipython3",
   "version": "3.10.0"
  }
 },
 "nbformat": 4,
 "nbformat_minor": 2
}
