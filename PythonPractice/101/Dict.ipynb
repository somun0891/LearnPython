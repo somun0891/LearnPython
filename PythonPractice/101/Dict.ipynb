{
 "cells": [
  {
   "cell_type": "code",
   "execution_count": null,
   "metadata": {},
   "outputs": [
    {
     "ename": "",
     "evalue": "",
     "output_type": "error",
     "traceback": [
      "\u001b[1;31mFailed to start the Kernel. \n",
      "\u001b[1;31mUnable to start Kernel '.venv (Python 3.8.0)' due to a timeout waiting for the ports to get used. \n",
      "\u001b[1;31mView Jupyter <a href='command:jupyter.viewOutput'>log</a> for further details."
     ]
    }
   ],
   "source": [
    "?str.replace()  #lib,method,variable\n",
    "dir(str) #attributes of an object\n",
    "help(str)\n",
    "\n",
    "https://www.dataquest.io/blog/jupyter-notebook-tips-tricks-shortcuts/\n",
    "\n",
    "%%time \n",
    "\n",
    "time.perfcounter()\n",
    "\n",
    "%load ./script.sql #load code inline from script path\n",
    "\n",
    "%%writefile pythoncode.py  #write cel content into a file\n",
    "\n",
    "Ctrl + Shift + -  to split current cell from where cursor is"
   ]
  },
  {
   "cell_type": "code",
   "execution_count": null,
   "metadata": {},
   "outputs": [],
   "source": [
    "\n",
    "#Run code from a different kernel in a notebook\n",
    "%%bash\n",
    "%%HTML\n",
    "%%python2\n",
    "%%python3\n",
    "%%ruby\n",
    "%%perl\n",
    "\n"
   ]
  },
  {
   "cell_type": "code",
   "execution_count": 1,
   "metadata": {},
   "outputs": [],
   "source": [
    "from IPython.core.interactiveshell import InteractiveShell\n",
    "InteractiveShell.ast_node_interactivity = \"all\""
   ]
  },
  {
   "cell_type": "code",
   "execution_count": 42,
   "metadata": {},
   "outputs": [
    {
     "data": {
      "text/plain": [
       "10"
      ]
     },
     "execution_count": 42,
     "metadata": {},
     "output_type": "execute_result"
    },
    {
     "data": {
      "text/plain": [
       "{'MSD': 96, 'Raina': 100, 'Virat': 82}"
      ]
     },
     "execution_count": 42,
     "metadata": {},
     "output_type": "execute_result"
    }
   ],
   "source": [
    "d = {'a': 10, 'b': 20, 'c': 30}\n",
    "\n",
    "d['a'] #10\n",
    "\n",
    "playersdict = {}\n",
    "\n",
    "#fromkeys are useful to create a dict with a set of keys and initialize values to fill values later.\n",
    "playersdict = playersdict.fromkeys([\"MSD\",\"Raina\",\"Virat\"] , 0)\n",
    "\n",
    "playersdict[\"MSD\"] = 96\n",
    "playersdict[\"Raina\"] = 100\n",
    "playersdict[\"Virat\"] = 82\n",
    "\n",
    "playersdict\n"
   ]
  },
  {
   "cell_type": "code",
   "execution_count": 44,
   "metadata": {},
   "outputs": [
    {
     "data": {
      "text/plain": [
       "{'MSD': 96, 'Raina': 100}"
      ]
     },
     "execution_count": 44,
     "metadata": {},
     "output_type": "execute_result"
    },
    {
     "data": {
      "text/plain": [
       "'Rangers'"
      ]
     },
     "execution_count": 44,
     "metadata": {},
     "output_type": "execute_result"
    },
    {
     "data": {
      "text/plain": [
       "'Mariners'"
      ]
     },
     "execution_count": 44,
     "metadata": {},
     "output_type": "execute_result"
    },
    {
     "data": {
      "text/plain": [
       "'key Not found in dict'"
      ]
     },
     "execution_count": 44,
     "metadata": {},
     "output_type": "execute_result"
    },
    {
     "data": {
      "text/plain": [
       "'Yankees'"
      ]
     },
     "execution_count": 44,
     "metadata": {},
     "output_type": "execute_result"
    },
    {
     "data": {
      "text/plain": [
       "('Texas', 'Rangers')"
      ]
     },
     "execution_count": 44,
     "metadata": {},
     "output_type": "execute_result"
    }
   ],
   "source": [
    "#update/add a dict - update(<dict>) ,dict key assignment ,setdefault\n",
    "#remove a dict key - popitem() , pop(<key>) ,del d[<key>]\n",
    "#fetch dict - d.get(<key> , default)\n",
    "#fromkeys - create a dictionary with list of keys , d.fromkeys([\"MSD\",\"Raina\",\"Virat\"] , 0)\n",
    "#dict keys are immutable - allows string ,float , boolean , integers ,tuple ,frozenset\n",
    "#dict values are mutable - allows all incl. list and dict\n",
    "#iterating over dict keys - for k in  d.keys()\n",
    "#iterating over dict values - for v in  d.values()\n",
    "#iterating over keys and values at the same time - for k,v in  d.items()\n",
    "#use copy() to safely remove items from dictionary  - d.copy() makes shallow copy\n",
    "\n",
    "for k in playersdict.copy():\n",
    "    if playersdict[k] < 90: #if score is less than 90\n",
    "        del playersdict[k] #{'MSD': 96, 'Raina': 100}  , Virat was deleted\n",
    "\n",
    "playersdict #transformed dict\n",
    "\n",
    "MLB_team = {\n",
    "'Colorado' : 'Rockies',\n",
    "'Boston'   : 'Red Sox',\n",
    "'Minnesota': 'Twins',\n",
    "'Milwaukee': 'Brewers',\n",
    "'Seattle'  : 'Mariners'\n",
    "}\n",
    "\n",
    "MLB_team.setdefault(\"Texas\" , \"Rangers\") #setdefault(key,value)\n",
    "\n",
    "del MLB_team['Colorado']\n",
    "\n",
    "MLB_team['Milwaukee'] = 'Brewer'\n",
    "\n",
    "MBL_Team_2 = {'New York' : 'Yankees'}\n",
    "\n",
    "#update/add elements to a dict\n",
    "MLB_team.update(MBL_Team_2) # added new item {'New York' : 'Yankees'}\n",
    "\n",
    "MLB_team.setdefault('Seattle','XXX')\n",
    "\n",
    "#if key is not found ,returns default text ,without errors\n",
    "#use get to avoid errors and can then handle it in except\n",
    "MLB_team.get('key-XXX','key Not found in dict') #'key Not found in dict'\n",
    "\n",
    "if MLB_team.get('key-XXX' , 'Key Not Found') != 'Key Not Found':\n",
    "    MLB_team.pop('key-XXX')\n",
    "else:\n",
    "    MLB_team.pop('New York')\n",
    "\n",
    "#remove last item\n",
    "MLB_team.popitem() #removed last item - ('Texas', 'Rangers')\n",
    "\n"
   ]
  },
  {
   "cell_type": "code",
   "execution_count": 48,
   "metadata": {},
   "outputs": [
    {
     "data": {
      "text/plain": [
       "{1: 'one', 2: 'two', 3: 'three', 4: 'four'}"
      ]
     },
     "execution_count": 48,
     "metadata": {},
     "output_type": "execute_result"
    }
   ],
   "source": [
    "#swapping key and values\n",
    "numbers = {\"one\": 1, \"two\": 2, \"three\": 3, \"four\": 4}\n",
    "\n",
    "swapped = {}\n",
    "for k,v in numbers.items():\n",
    "    swapped[v] = k\n",
    "\n",
    "\n",
    "swapped"
   ]
  },
  {
   "cell_type": "code",
   "execution_count": 7,
   "metadata": {},
   "outputs": [
    {
     "data": {
      "text/plain": [
       "{'Ten': 10, 'Twenty': 20, 'Thirty': 30}"
      ]
     },
     "execution_count": 7,
     "metadata": {},
     "output_type": "execute_result"
    },
    {
     "data": {
      "text/plain": [
       "{10: 'Ten', 20: 'Twenty', 30: 'Thirty'}"
      ]
     },
     "metadata": {},
     "output_type": "display_data"
    }
   ],
   "source": [
    "#Convert two lists into a dictionary\n",
    "\n",
    "d = {}\n",
    "keys = ['Ten', 'Twenty', 'Thirty']\n",
    "values = [10, 20, 30]\n",
    "\n",
    "dict(zip(keys,values))\n",
    "\n",
    "dict(zip(values,keys))\n"
   ]
  },
  {
   "cell_type": "code",
   "execution_count": 9,
   "metadata": {},
   "outputs": [
    {
     "data": {
      "text/plain": [
       "{'Ten': 10, 'Twenty': 20, 'Thirty': 30, 'Fourty': 40, 'Fifty': 50}"
      ]
     },
     "execution_count": 9,
     "metadata": {},
     "output_type": "execute_result"
    }
   ],
   "source": [
    "#Merge two Python dictionaries into one\n",
    "\n",
    "dict1 = {'Ten': 10, 'Twenty': 20, 'Thirty': 30}\n",
    "dict2 = {'Thirty': 30, 'Fourty': 40, 'Fifty': 50}\n",
    "\n",
    "dict1.update(dict2)\n",
    "\n",
    "dict1"
   ]
  },
  {
   "cell_type": "code",
   "execution_count": 10,
   "metadata": {},
   "outputs": [
    {
     "data": {
      "text/plain": [
       "80"
      ]
     },
     "execution_count": 10,
     "metadata": {},
     "output_type": "execute_result"
    }
   ],
   "source": [
    " #Print the value of key ‘history’ from the below\n",
    "\n",
    "sampleDict = {\n",
    "    \"class\": {\n",
    "        \"student\": {\n",
    "            \"name\": \"Mike\",\n",
    "            \"marks\": {\n",
    "                \"physics\": 70,\n",
    "                \"history\": 80\n",
    "            }\n",
    "        }\n",
    "    }\n",
    "}\n",
    "\n",
    "sampleDict[\"class\"][\"student\"][\"marks\"][\"history\"]"
   ]
  },
  {
   "cell_type": "code",
   "execution_count": 11,
   "metadata": {},
   "outputs": [
    {
     "data": {
      "text/plain": [
       "{'Kelly': {'designation': 'Developer', 'salary': 8000},\n",
       " 'Emma': {'designation': 'Developer', 'salary': 8000}}"
      ]
     },
     "execution_count": 11,
     "metadata": {},
     "output_type": "execute_result"
    }
   ],
   "source": [
    "#Initialize dictionary with default values\n",
    "\n",
    "d = {}\n",
    "employees = ['Kelly', 'Emma']\n",
    "defaults = {\"designation\": 'Developer', \"salary\": 8000}\n",
    "\n",
    "d.fromkeys(employees,defaults)"
   ]
  },
  {
   "cell_type": "code",
   "execution_count": 31,
   "metadata": {},
   "outputs": [
    {
     "data": {
      "text/plain": [
       "{'name': 'Kelly', 'salary': 8000}"
      ]
     },
     "execution_count": 31,
     "metadata": {},
     "output_type": "execute_result"
    },
    {
     "data": {
      "text/plain": [
       "{'name': 'Kelly', 'salary': 8000}"
      ]
     },
     "execution_count": 31,
     "metadata": {},
     "output_type": "execute_result"
    },
    {
     "data": {
      "text/plain": [
       "{'name': 'Kelly', 'salary': 8000}"
      ]
     },
     "execution_count": 31,
     "metadata": {},
     "output_type": "execute_result"
    },
    {
     "data": {
      "text/plain": [
       "{'name': 'Kelly', 'salary': 8000}"
      ]
     },
     "execution_count": 31,
     "metadata": {},
     "output_type": "execute_result"
    }
   ],
   "source": [
    "#Create a dictionary by extracting the keys from a given dictionary\n",
    "sample_dict = {\n",
    "    \"name\": \"Kelly\",\n",
    "    \"age\": 25,\n",
    "    \"salary\": 8000,\n",
    "    \"city\": \"New york\"}\n",
    "\n",
    "keys = [\"name\", \"salary\"]\n",
    "new_dict = {}\n",
    "\n",
    "#Method-1 - Using zip of 2 lists - keys and values\n",
    "new_dict = dict(zip ( keys , [sample_dict[k] for k in keys ]  ))\n",
    "\n",
    "new_dict #1\n",
    "\n",
    "new_dict={} #reset\n",
    "\n",
    "#Method-2 - Using dict comphrehension\n",
    "new_dict = {k : sample_dict[k] for k in keys }\n",
    "\n",
    "new_dict #2\n",
    "\n",
    "new_dict={} #reset\n",
    "\n",
    "#Method-3 - Using loops\n",
    "for k,v in sample_dict.items():\n",
    "    if k in [\"name\",\"salary\"]:\n",
    "        new_dict[k] = v\n",
    "\n",
    "new_dict #3\n",
    "\n",
    "#Method-4 - Using update method\n",
    "\n",
    "new_dict = dict()\n",
    "\n",
    "for k in keys:\n",
    "    new_dict.update({k:sample_dict[k]})\n",
    "\n",
    "\n",
    "new_dict  #4\n"
   ]
  },
  {
   "cell_type": "code",
   "execution_count": 32,
   "metadata": {},
   "outputs": [
    {
     "data": {
      "text/plain": [
       "{'age': 25, 'city': 'New york'}"
      ]
     },
     "execution_count": 32,
     "metadata": {},
     "output_type": "execute_result"
    }
   ],
   "source": [
    "#Delete a list of keys from a dictionary\n",
    "\n",
    "sample_dict = {\n",
    "    \"name\": \"Kelly\",\n",
    "    \"age\": 25,\n",
    "    \"salary\": 8000,\n",
    "    \"city\": \"New york\"\n",
    "}\n",
    "\n",
    "# Keys to remove\n",
    "keys = [\"name\", \"salary\"]\n",
    "\n",
    "for k in keys:\n",
    "    del sample_dict[k]\n",
    "\n",
    "sample_dict\n"
   ]
  },
  {
   "cell_type": "code",
   "execution_count": 45,
   "metadata": {},
   "outputs": [
    {
     "name": "stdout",
     "output_type": "stream",
     "text": [
      "200 present in a dict\n",
      "a present in a dict\n"
     ]
    },
    {
     "data": {
      "text/plain": [
       "{'name': 'Kelly', 'age': 25, 'salary': 8000, 'location': 'New york'}"
      ]
     },
     "execution_count": 45,
     "metadata": {},
     "output_type": "execute_result"
    }
   ],
   "source": [
    "#Check if a value exists in a dictionary\n",
    "\n",
    "sample_dict = {'a': 100, 'b': 200, 'c': 300}\n",
    "\n",
    "\n",
    "\n",
    "if 200 in sample_dict.values():\n",
    "    print('200 present in a dict')\n",
    "\n",
    "\n",
    "if 'a' in sample_dict:\n",
    "    print('a present in a dict') \n",
    "\n",
    "#change/rename the key to some other name\n",
    "sample_dict = {\n",
    "    \"name\": \"Kelly\",\n",
    "    \"age\": 25,\n",
    "    \"salary\": 8000,\n",
    "    \"city\": \"New york\"\n",
    "}\n",
    "\n",
    "sample_dict['location'] =  sample_dict.pop('city') #pop returns value of removed key\n",
    "\n",
    "sample_dict\n"
   ]
  },
  {
   "cell_type": "code",
   "execution_count": 70,
   "metadata": {},
   "outputs": [
    {
     "data": {
      "text/plain": [
       "'history'"
      ]
     },
     "execution_count": 70,
     "metadata": {},
     "output_type": "execute_result"
    },
    {
     "data": {
      "text/plain": [
       "'history'"
      ]
     },
     "execution_count": 70,
     "metadata": {},
     "output_type": "execute_result"
    },
    {
     "data": {
      "text/plain": [
       "'Math'"
      ]
     },
     "execution_count": 70,
     "metadata": {},
     "output_type": "execute_result"
    }
   ],
   "source": [
    "#get the key with lowest value\n",
    "\n",
    "sample_dict = {\n",
    "  'Physics': 82,\n",
    "  'Math': 90,\n",
    "  'history': 75\n",
    "}\n",
    "\n",
    "max(sample_dict) #min of key \n",
    "\n",
    "#using min/max\n",
    "min(sample_dict , key = sample_dict.get)\n",
    "\n",
    "max(sample_dict , key = sample_dict.get)\n",
    "\n",
    "#sort keys by min value first\n",
    "def sortByValue(d):\n",
    "    return sample_dict[d]\n",
    "\n",
    "#using sorted\n",
    "# sorted(sample_dict , key= sortByValue )\n",
    "\n",
    "# sorted(sample_dict , key= lambda d : sample_dict[d] , reverse = True)\n",
    "\n",
    "\n"
   ]
  },
  {
   "cell_type": "code",
   "execution_count": 6,
   "metadata": {},
   "outputs": [
    {
     "data": {
      "text/plain": [
       "{'emp1': {'name': 'Jhon', 'salary': 7500},\n",
       " 'emp2': {'name': 'Emma', 'salary': 8000},\n",
       " 'emp3': {'name': 'Brad', 'salary': 8500}}"
      ]
     },
     "execution_count": 6,
     "metadata": {},
     "output_type": "execute_result"
    }
   ],
   "source": [
    "#update salary of an employee\n",
    "sample_dict = {\n",
    "    'emp1': {'name': 'Jhon', 'salary': 7500},\n",
    "    'emp2': {'name': 'Emma', 'salary': 8000},\n",
    "    'emp3': {'name': 'Brad', 'salary': 500}\n",
    "}\n",
    "\n",
    "sample_dict['emp3']['salary']=8500\n",
    "\n",
    "sample_dict"
   ]
  },
  {
   "cell_type": "code",
   "execution_count": 7,
   "metadata": {},
   "outputs": [
    {
     "name": "stdout",
     "output_type": "stream",
     "text": [
      "I've been to india 12 times.\n",
      "My favourite city was d.\n"
     ]
    }
   ],
   "source": [
    "country = input() # Add country name\n",
    "visits = int(input()) # Number of visits\n",
    "list_of_cities = eval(input()) # create list from formatted string\n",
    "\n",
    "travel_log = [\n",
    "  {\n",
    "    \"country\": \"France\",\n",
    "    \"visits\": 12,\n",
    "    \"cities\": [\"Paris\", \"Lille\", \"Dijon\"]\n",
    "  },\n",
    "  {\n",
    "    \"country\": \"Germany\",\n",
    "    \"visits\": 5,\n",
    "    \"cities\": [\"Berlin\", \"Hamburg\", \"Stuttgart\"]\n",
    "  },\n",
    "]\n",
    "# Do NOT change the code above 👆\n",
    "\n",
    "# TODO: Write the function that will allow new countries\n",
    "# to be added to the travel_log. \n",
    "def add_new_country(country, visits, list_of_cities):\n",
    "  travel = {}\n",
    "  travel[\"country\"] = country\n",
    "  travel[\"visits\"] = visits\n",
    "  travel[\"cities\"] = list_of_cities  \n",
    "\n",
    "  travel_log.append(travel)\n",
    "\n",
    "# Do not change the code below 👇\n",
    "add_new_country(country, visits, list_of_cities)\n",
    "print(f\"I've been to {travel_log[2]['country']} {travel_log[2]['visits']} times.\")\n",
    "print(f\"My favourite city was {travel_log[2]['cities'][0]}.\")"
   ]
  },
  {
   "cell_type": "code",
   "execution_count": 17,
   "metadata": {},
   "outputs": [
    {
     "name": "stdout",
     "output_type": "stream",
     "text": [
      "{'a': [1, 3], 'b': [2], 'c': [4]}\n"
     ]
    }
   ],
   "source": [
    "num_dict = {} \n",
    " \n",
    "L = [['a', 1], ['b', 2], ['a', 3], ['c', 4]]\n",
    "\n",
    "for i in range(len(L)):\n",
    " if L[i][0] in num_dict:  #if key in dict then append\n",
    "   num_dict[ L[i][0] ].append(L[i][1]) \n",
    "   pass\n",
    " else:\n",
    "   num_dict[ L[i][0] ] = []\n",
    "   num_dict[ L[i][0] ].append(L[i][1]) #need to create a list for case of same keys with  multiple values in list L\n",
    "print(num_dict)"
   ]
  },
  {
   "cell_type": "code",
   "execution_count": 18,
   "metadata": {},
   "outputs": [
    {
     "name": "stdout",
     "output_type": "stream",
     "text": [
      "{'a': 3, 'b': 2, 'c': 4}\n"
     ]
    }
   ],
   "source": [
    "new_dict = dict(L)\n",
    "print(new_dict) #{'a': 3, 'b': 2, 'c': 4} but taking latest value if multiple instances of keys appear in the list"
   ]
  },
  {
   "cell_type": "markdown",
   "metadata": {},
   "source": [
    "##### nested dictionary length upto N levels"
   ]
  },
  {
   "cell_type": "code",
   "execution_count": 32,
   "metadata": {},
   "outputs": [
    {
     "name": "stdout",
     "output_type": "stream",
     "text": [
      "4\n",
      "4\n",
      "The INCORRECT length of nested dict : 4 \n",
      "The CORRECT length of nested dict : 7 \n",
      "4\n"
     ]
    }
   ],
   "source": [
    "# A nested dictionary\n",
    "nested_dict = {  # outer dictionary\n",
    "    'Name': 'Steve',\n",
    "    'Age': 30,\n",
    "    'Designation': 'Programmer',\n",
    "    'address': {  # inner dictionary\n",
    "           'Street': 'Brigade Road',\n",
    "           'City': 'Bangalore',\n",
    "           'Country': 'India'\n",
    "    }\n",
    "}\n",
    "\n",
    "print(len(nested_dict))  #4\n",
    "print(len(nested_dict.keys())) #4\n",
    "print(f\"The INCORRECT length of nested dict : {len(nested_dict.values())} \") #4\n",
    "\n",
    "def count_nested_len(d):\n",
    "    cnt = len(d)\n",
    "    for key,value in d.items():\n",
    "      if isinstance(value , dict ):\n",
    "          cnt += count_nested_len(value) #recursion for deeper nested dicts upto N levels\n",
    "    return cnt\n",
    "          \n",
    "\n",
    "print(f\"The CORRECT length of nested dict : {count_nested_len(nested_dict)} \")\n",
    "\n",
    "#using dict comp\n"
   ]
  },
  {
   "cell_type": "code",
   "execution_count": 36,
   "metadata": {},
   "outputs": [
    {
     "data": {
      "text/plain": [
       "{'Name': 'Sachi', 'Age': 23}"
      ]
     },
     "execution_count": 36,
     "metadata": {},
     "output_type": "execute_result"
    },
    {
     "data": {
      "text/plain": [
       "{'gfg': 3, 'is': 2, 'best': 4}"
      ]
     },
     "execution_count": 36,
     "metadata": {},
     "output_type": "execute_result"
    }
   ],
   "source": [
    "person_dict = {\"Sachi\":\"Name\" , 23:\"Age\" }\n",
    "\n",
    "{v:k for k,v in person_dict.items()} #value mapped dictd\n",
    "\n",
    "txt_dict = {1: 'gfg', 2: 'is', 3: 'best'}\n",
    "\n",
    "{v:len(v) for k,v in txt_dict.items() }"
   ]
  },
  {
   "cell_type": "code",
   "execution_count": 64,
   "metadata": {},
   "outputs": [
    {
     "name": "stdout",
     "output_type": "stream",
     "text": [
      "{'gfg': 3, 'is': 2, 'best': 4}\n"
     ]
    }
   ],
   "source": [
    "txt_dict = {1: 'gfg', 2: 'is', 3: 'best'}\n",
    "\n",
    "res = map(lambda x: { x : len(x)  }   , txt_dict.values() ) \n",
    "\n",
    "#print(list(res))\n",
    "d = {}\n",
    "#d={ l[k] for l in list(res)    for k in l   }\n",
    "\n",
    "d = {k : len(k) for l in list(res) for k in l.keys()}\n",
    "     \n",
    "print(d)"
   ]
  },
  {
   "cell_type": "code",
   "execution_count": 72,
   "metadata": {},
   "outputs": [
    {
     "name": "stdout",
     "output_type": "stream",
     "text": [
      "Index:  0  dict_element:  (1, 'gfg')\n",
      "Index:  1  dict_element:  (2, 'is')\n",
      "Index:  2  dict_element:  (3, 'best')\n",
      "dict vals:  gfg\n",
      "dict vals:  is\n",
      "dict vals:  best\n"
     ]
    }
   ],
   "source": [
    "#accessing dict values via items() and enumerate \n",
    "\n",
    "txt_dict = {1: 'gfg', 2: 'is', 3: 'best'}\n",
    "\n",
    "for ele in enumerate(txt_dict.items()):\n",
    "    print(\"Index: \",ele[0] ,\" dict_element: \" , ele[1])\n",
    "\n",
    "for values in txt_dict.items():\n",
    "    print(\"dict vals: \",values[1])\n",
    "\n"
   ]
  },
  {
   "cell_type": "code",
   "execution_count": 86,
   "metadata": {},
   "outputs": [
    {
     "name": "stdout",
     "output_type": "stream",
     "text": [
      "{'nikhil': 1, 'vashu': 5, 'akshat': 15, 'manju': 10}\n",
      "{'nikhil': 1, 'vashu': 5, 'manjunath': 10, 'akshat': 15}\n"
     ]
    }
   ],
   "source": [
    "#renaming a key in dict\n",
    "\n",
    "#M1\n",
    "my_dict = {'nikhil': 1, 'vashu': 5, 'manjeet': 10, 'akshat': 15}\n",
    " \n",
    "my_dict[\"manju\"] = my_dict.pop(\"manjeet\")\n",
    "\n",
    "print(my_dict) #{'nikhil': 1, 'vashu': 5, 'akshat': 15, 'manju': 10}\n",
    "\n",
    "\n",
    "#repopulate for M2\n",
    "my_dict = {'nikhil': 1, 'vashu': 5, 'manjeet': 10, 'akshat': 15}\n",
    "dict_key_list = list(my_dict.keys())\n",
    "dict_val_list = list(my_dict.values())\n",
    "\n",
    "idx = dict_key_list.index(\"manjeet\") #index for val being replaced \n",
    "dict_key_list[idx] = 'manjunath' #update val\n",
    "\n",
    "final_dict = { k : v for k,v in   zip(dict_key_list ,dict_val_list )  }   #zip returns  tuple pair\n",
    "    \n",
    "#final_dict = dict(zip(dict_key_list ,dict_val_list )) \n",
    "#     \n",
    "print(final_dict)\n"
   ]
  },
  {
   "cell_type": "code",
   "execution_count": 4,
   "metadata": {},
   "outputs": [
    {
     "name": "stdout",
     "output_type": "stream",
     "text": [
      "[('Gfg', 4), ('is', 1), ('best', 8), ('for', 10), ('geeks', 9)]\n",
      "{'Gfg': 4, 'for': 10, 'best': 8, 'is': 1, 'geeks': 9}\n"
     ]
    }
   ],
   "source": [
    "# Change/swap dict item position\n",
    "\n",
    "test_dict = {'Gfg': 4, 'is': 1, 'best': 8, 'for': 10, 'geeks': 9}\n",
    "i , j = 1 , 3\n",
    "\n",
    "tups = list(test_dict.items())\n",
    "\n",
    "\n",
    "print(tups)\n",
    "\n",
    "tups[i] , tups[j] = tups[j] , tups[i]\n",
    "\n",
    "swapped_dict = dict(tups)\n",
    "\n",
    "print(swapped_dict)"
   ]
  },
  {
   "cell_type": "code",
   "execution_count": 8,
   "metadata": {},
   "outputs": [
    {
     "ename": "SyntaxError",
     "evalue": "invalid syntax. Perhaps you forgot a comma? (112422266.py, line 2)",
     "output_type": "error",
     "traceback": [
      "\u001b[1;36m  Cell \u001b[1;32mIn[8], line 2\u001b[1;36m\u001b[0m\n\u001b[1;33m    Method-1 - using update method\u001b[0m\n\u001b[1;37m          ^\u001b[0m\n\u001b[1;31mSyntaxError\u001b[0m\u001b[1;31m:\u001b[0m invalid syntax. Perhaps you forgot a comma?\n"
     ]
    }
   ],
   "source": [
    "#merge/concatenate 2 dict\n",
    "#Method-1 - using update method\n",
    "d1 = {'a': 10, 'b': 8}      \n",
    "d2 = {'d': 6, 'c': 4}\n",
    "\n",
    "d1.update(d2)\n",
    "\n",
    "print(d1)\n",
    "\n",
    "#Method-2 - using dict unpacking "
   ]
  },
  {
   "cell_type": "code",
   "execution_count": 4,
   "metadata": {},
   "outputs": [
    {
     "name": "stdout",
     "output_type": "stream",
     "text": [
      "['CS', 'and', 'best', 'for', 'geeks', 'gfg', 'is']\n"
     ]
    }
   ],
   "source": [
    "# sort nested keys in dict\n",
    "\n",
    "test_dict = {'gfg': 43, 'is': {'best' : 14, 'for' : {'geeky':35}, 'geeks' : 42}, 'and' : {'CS' : 29}}\n",
    " \n",
    "res = sorted([key for val in test_dict.values() if isinstance(val , dict) for key in val] + list(test_dict.keys()))\n",
    "\n",
    "print(str(res))"
   ]
  },
  {
   "cell_type": "code",
   "execution_count": 15,
   "metadata": {},
   "outputs": [
    {
     "name": "stdout",
     "output_type": "stream",
     "text": [
      "The original dictionary : {'Nikhil': {'roll': 24, 'marks': 17}, 'Akshat': {'roll': 54, 'marks': 12}, 'Akash': {'roll': 12, 'marks': 15}}\n",
      "dict_items([('Nikhil', {'roll': 24, 'marks': 17}), ('Akshat', {'roll': 54, 'marks': 12}), ('Akash', {'roll': 12, 'marks': 15})])\n",
      "The sorted dictionary by marks is : [('Akshat', {'roll': 54, 'marks': 12}), ('Akash', {'roll': 12, 'marks': 15}), ('Nikhil', {'roll': 24, 'marks': 17})]\n"
     ]
    }
   ],
   "source": [
    "\n",
    "# Python3 code to demonstrate\n",
    "# Sort nested dictionary by key\n",
    "# using sorted()\n",
    " \n",
    "# initializing dictionary\n",
    "test_dict = {'Nikhil' : { 'roll' : 24, 'marks' : 17},\n",
    "             'Akshat' : {'roll' : 54, 'marks' : 12}, \n",
    "             'Akash' : { 'roll' : 12, 'marks' : 15}}\n",
    " \n",
    "# printing original dict\n",
    "print(\"The original dictionary : \" + str(test_dict))\n",
    " \n",
    "# using sorted()\n",
    "# Sort nested dictionary by key\n",
    "print(test_dict.items())\n",
    "res = sorted(test_dict.items(), key = lambda x: x[1]['marks'])\n",
    " \n",
    "# print result\n",
    "print(\"The sorted dictionary by marks is : \" + str(res))"
   ]
  },
  {
   "cell_type": "code",
   "execution_count": 27,
   "metadata": {},
   "outputs": [
    {
     "data": {
      "text/plain": [
       "2"
      ]
     },
     "execution_count": 27,
     "metadata": {},
     "output_type": "execute_result"
    },
    {
     "name": "stdout",
     "output_type": "stream",
     "text": [
      "Dictionary after nested key update using setdefault : {'GFG': {'rate': 4, 'since': 2012, 'rank': {'popular': 2}}}\n",
      "Dictionary after nested key update using update method : {'GFG': {'rate': 4, 'since': 2012, 'rank': 1, 'popularity': 5}}\n"
     ]
    }
   ],
   "source": [
    "#Add keys to nested dict - USING update method and setdefault method\n",
    "\n",
    "test_dict = {'GFG': {'rate': 4, 'since': 2012}}\n",
    "\n",
    "def add_keys_nested_dict(d , keys):\n",
    "    for key in keys:\n",
    "        if key not in d:\n",
    "            d[key] = {}\n",
    "        d = d[key]\n",
    "    d.setdefault(keys[-1],1)\n",
    "    \n",
    "#add_keys_nested_dict(test_dict, ['GFG', 'rank']) \n",
    "\n",
    "test_dict.setdefault('GFG' , {}).setdefault('rank',{}).setdefault('popular',2)\n",
    "\n",
    "print(\"Dictionary after nested key update using setdefault : \" + str(test_dict)) #M1\n",
    "\n",
    "\n",
    "test_dict = {'GFG' : {'rate' : 4, 'since' : 2012}}\n",
    "upd_dict = {'rank' : 1, 'popularity' : 5}\n",
    "\n",
    "test_dict['GFG'].update(upd_dict)\n",
    " \n",
    "print(\"Dictionary after nested key update using update method : \" + str(test_dict)) #M2"
   ]
  },
  {
   "cell_type": "code",
   "execution_count": 29,
   "metadata": {},
   "outputs": [
    {
     "name": "stdout",
     "output_type": "stream",
     "text": [
      "{'a': 4, 'b': 2}\n"
     ]
    }
   ],
   "source": [
    "#Add value to an existing key \n",
    "\n",
    "my_dict = {'a': 1, 'b': 2}\n",
    "\n",
    "my_dict['a'] = my_dict.get('a', 0) + 3\n",
    "print(my_dict)"
   ]
  },
  {
   "cell_type": "code",
   "execution_count": 39,
   "metadata": {},
   "outputs": [
    {
     "name": "stdout",
     "output_type": "stream",
     "text": [
      "defaultdict(<class 'int'>, {'a': 1, 'b': 2})\n"
     ]
    },
    {
     "data": {
      "text/plain": [
       "4"
      ]
     },
     "execution_count": 39,
     "metadata": {},
     "output_type": "execute_result"
    },
    {
     "name": "stdout",
     "output_type": "stream",
     "text": [
      "defaultdict(<class 'int'>, {'a': 4, 'b': 2})\n"
     ]
    }
   ],
   "source": [
    "from collections import defaultdict\n",
    "\n",
    "my_dict = defaultdict(int ,{'a':1 , 'b':2})\n",
    "\n",
    "print(my_dict)\n",
    "\n",
    "my_dict['a'] +=3\n",
    "\n",
    "my_dict.setdefault('a' , 1)\n",
    "\n",
    "\n",
    "print(my_dict)\n"
   ]
  },
  {
   "cell_type": "code",
   "execution_count": 3,
   "metadata": {},
   "outputs": [
    {
     "name": "stdout",
     "output_type": "stream",
     "text": [
      "defaultdict(<class 'list'>, {'fruits': ['banana', 'apple']})\n"
     ]
    }
   ],
   "source": [
    "from collections import defaultdict\n",
    "mydict = defaultdict(list , {'fruits':['banana','apple']})\n",
    "print(mydict)"
   ]
  },
  {
   "cell_type": "code",
   "execution_count": 10,
   "metadata": {},
   "outputs": [
    {
     "data": {
      "text/plain": [
       "'Bert'"
      ]
     },
     "execution_count": 10,
     "metadata": {},
     "output_type": "execute_result"
    },
    {
     "data": {
      "text/plain": [
       "'Bert'"
      ]
     },
     "execution_count": 10,
     "metadata": {},
     "output_type": "execute_result"
    },
    {
     "name": "stdout",
     "output_type": "stream",
     "text": [
      "The key with minimum value is Bert\n"
     ]
    }
   ],
   "source": [
    "#GET KEYS WITH MINIMUM VALUE\n",
    "\n",
    "income = {'Anna' : 9999\n",
    "          ,'Bert' : 2222\n",
    "          ,'Cera' : 3333\n",
    "          }\n",
    "\n",
    "#M1 -- using min function with custom key\n",
    "min(income.keys() , key = income.get)\n",
    "\n",
    "#M2 -- storing keys and values in a list \n",
    "# and then retrieve minimum value using index to fetch the keys corresponding to minimum value\n",
    "\n",
    "keys_list = list(income.keys())\n",
    "values_list = list(income.values())\n",
    "\n",
    "keys_list[values_list.index(min(values_list))]\n",
    "\n",
    "#M2 - key value swap and retrieve key from minimum value\n",
    "d = {v:k for k,v in income.items()} # now value is key and vice-versa\n",
    "\n",
    "print(f\"The key with minimum value is {d[min(d)]}\")\n"
   ]
  },
  {
   "cell_type": "code",
   "execution_count": 11,
   "metadata": {},
   "outputs": [
    {
     "name": "stdout",
     "output_type": "stream",
     "text": [
      "{'Alice': 'Bob', 'Bobbie': 'Charlie', 'Claire': 'Dan'}\n"
     ]
    }
   ],
   "source": [
    "# dict comprehension\n",
    "\n",
    "women = ('Alice', 'Bobbie', 'Claire')\n",
    "men = ('Bob', 'Charlie', 'Dan')\n",
    "\n",
    "#convert zip object to dict\n",
    "d = dict(zip(women,men))\n",
    "\n",
    "print(d)\n",
    "\n",
    "# using dict comphrehension\n",
    "d = {w:m for w,m in zip(women,men)}\n",
    "\n",
    "print(d)"
   ]
  },
  {
   "cell_type": "code",
   "execution_count": 18,
   "metadata": {},
   "outputs": [
    {
     "name": "stdout",
     "output_type": "stream",
     "text": [
      "{'0': 0, '1': 1, '2': 4, '3': 9, '4': 16, '5': 25, '6': 36, '7': 49, '8': 64, '9': 81}\n",
      "{0: 'A', 1: 'B', 2: 'C'}\n",
      "{'apple': 5, 'banana': 6, 'mango': 5}\n",
      "{'banana': 6, 'mango': 5}\n",
      "{'apple': 'Apple', 'banana': 'Banana', 'cherry': 'Cherry', 'kiwi': 'Kiwi', 'mango': 'Mango'}\n"
     ]
    }
   ],
   "source": [
    "print({str(i):i**2 for i in range(10)})\n",
    "\n",
    "print({k:v for k,v in enumerate(['A','B','C'])})\n",
    "\n",
    "fruits = ['apple', 'banana', 'cherry', 'kiwi', 'mango']\n",
    "print({f:len(f) for f in fruits if f.count('a') > 0})\n",
    "print({f:len(f) for f in fruits if f.find('an') >= 0})\n",
    "\n",
    "fruits_dict = {f:f.capitalize() for f in fruits}\n",
    "print(fruits_dict)\n",
    "\n"
   ]
  },
  {
   "cell_type": "code",
   "execution_count": 103,
   "metadata": {},
   "outputs": [
    {
     "name": "stdout",
     "output_type": "stream",
     "text": [
      "Method-1....\n",
      "{'is': 1, 'best': 1, 'Gfg': 4, 'geeks': 9, 'for': 10}\n",
      "\n",
      "Method-2....\n",
      "[('Gfg', 4), ('is', 1), ('best', 1), ('for', 10), ('geeks', 9)]\n",
      "[4, 1, 1, 10, 9]\n",
      "{('best', 1), ('geeks', 9), ('is', 1), ('for', 10), ('Gfg', 4)}\n"
     ]
    }
   ],
   "source": [
    "#sort dict by values\n",
    "\n",
    "test_dict = {'Gfg' : 4, 'is' : 1, 'best' : 1, 'for' : 10, 'geeks' : 9}\n",
    "\n",
    "\n",
    "sorted_dict = dict(sorted(test_dict.items(), key = lambda x: x[1]))\n",
    "\n",
    "print(\"Method-1....\")\n",
    "print(sorted_dict) #works correctly even if case values are repeated\n",
    "# sorted_dict.setdefault('sachi',{}).setdefault('info',None)\n",
    "\n",
    "# sorted_dict[\"sachi\"].update({'kind':'human'})\n",
    "# sorted_dict[\"sachi\"].update({'age':'34'})\n",
    "# print(sorted_dict)\n",
    "print(\"\\nMethod-2....\")\n",
    "k = list(test_dict.items())\n",
    "v = list(test_dict.values())\n",
    "\n",
    "\n",
    "\n",
    "print(k) #['Gfg', 'is', 'best', 'for', 'geeks']\n",
    "print(v) #[4, 1, 1, 10, 9]\n",
    "\n",
    "v = sorted(v)\n",
    "\n",
    "myset = set()\n",
    "\n",
    "for val in v:\n",
    "    # print(val)\n",
    "    for item in k:\n",
    "        # print(item[0],item[1])\n",
    "        if item[1] == val:\n",
    "             myset.add((item[0] , item[1] ))\n",
    "\n",
    "print(myset) # Issue - not ordered\n",
    "# d = { v:k for k,v in test_dict.items()}\n",
    "# print(d)\n",
    "# sorted_values = sorted(d)\n",
    "# print(sorted_values)\n",
    "\n",
    "# {k[v.index(sv)]:sv for sv in sorted_values}\n",
    "\n"
   ]
  },
  {
   "cell_type": "code",
   "execution_count": 13,
   "metadata": {},
   "outputs": [
    {
     "name": "stdout",
     "output_type": "stream",
     "text": [
      "[('Gfg', 4), ('best', 1), ('for', 10), ('geeks', 9), ('is', 1)]\n",
      "dict_items([('Gfg', 4), ('is', 1), ('best', 1), ('for', 10), ('geeks', 9)])\n",
      "Gfg 4\n",
      "is 1\n",
      "best 1\n",
      "for 10\n",
      "geeks 9\n"
     ]
    }
   ],
   "source": [
    "#sort dict by values\n",
    "\n",
    "test_dict = {'Gfg' : 4, 'is' : 1, 'best' : 1, 'for' : 10, 'geeks' : 9}\n",
    "\n",
    "sorted_dict = sorted(test_dict.items() , key = lambda x: x[1])\n",
    "\n",
    "print(sorted_dict)\n",
    "\n",
    "print(test_dict.items() ) # view over dictionary\n",
    "\n",
    "for kv in test_dict.items():\n",
    "    print(kv[0] , kv[1])\n"
   ]
  },
  {
   "cell_type": "code",
   "execution_count": 14,
   "metadata": {},
   "outputs": [
    {
     "name": "stdout",
     "output_type": "stream",
     "text": [
      "{'Sachin': 100, 'Dhoni': 50, 'Rohit': 40, 'Kohli': 45, 'Messi': 100, 'Ronaldo': 50, 'Neymar': 40, 'Mbappe': 45}\n"
     ]
    }
   ],
   "source": [
    "#Merge 2 dicts\n",
    "\n",
    "#M1\n",
    "cricket = {'Sachin': 100, 'Dhoni': 50, 'Rohit': 40, 'Kohli': 45}\n",
    "football = {'Messi': 100, 'Ronaldo': 50, 'Neymar': 40, 'Mbappe': 45}\n",
    "\n",
    "sports = dict(**cricket ,**football )\n",
    "\n",
    "print(sports)\n",
    "\n",
    "#M2\n",
    "#sports.update(cricket)\n",
    "#sports.update(football)\n",
    "#print(sports)\n"
   ]
  },
  {
   "cell_type": "code",
   "execution_count": 104,
   "metadata": {},
   "outputs": [
    {
     "name": "stdout",
     "output_type": "stream",
     "text": [
      "Sachin 100\n",
      "Dhoni 50\n",
      "Rohit 40\n",
      "Kohli 45\n"
     ]
    },
    {
     "data": {
      "text/plain": [
       "'Rohit'"
      ]
     },
     "execution_count": 104,
     "metadata": {},
     "output_type": "execute_result"
    }
   ],
   "source": [
    "# Get key with minimum value in a dict\n",
    "\n",
    "for k,v in cricket.items():\n",
    "    print(k,v)\n",
    "\n",
    "worst_performer = list({ k:v for k,v in cricket.items() if v == min(cricket.values()) }.keys())[0]\n",
    "\n",
    "worst_performer\n"
   ]
  },
  {
   "cell_type": "code",
   "execution_count": 72,
   "metadata": {},
   "outputs": [
    {
     "name": "stdout",
     "output_type": "stream",
     "text": [
      "defaultdict(<class 'int'>, {'one': 0, 'two': 0})\n"
     ]
    },
    {
     "data": {
      "text/plain": [
       "' \\nsetdefault\\nInsert key with a value of default if key is not in the dictionary.\\nReturn the value for key if key is in the dictionary, else default.\\nreturn type -<datatype> - default or value if exists\\n\\nhelp(dict.setdefault)\\n\\n'"
      ]
     },
     "execution_count": 72,
     "metadata": {},
     "output_type": "execute_result"
    },
    {
     "data": {
      "text/plain": [
       "{}"
      ]
     },
     "execution_count": 72,
     "metadata": {},
     "output_type": "execute_result"
    },
    {
     "name": "stdout",
     "output_type": "stream",
     "text": [
      "{'Virat': {}, 'Rohit': {}, 'Dhoni': {}}\n"
     ]
    }
   ],
   "source": [
    "#initialize a dict with default\n",
    "\n",
    "#M1\n",
    "from collections import defaultdict,OrderedDict\n",
    "newdict = defaultdict(int , {\"one\":0, \"two\":0})\n",
    "print(newdict)\n",
    "\n",
    "# for k,v in newdict.items():\n",
    "#     print(k , v)\n",
    "\n",
    "#M2\n",
    "match_scores = dict.fromkeys([\"Virat\",\"Rohit\",\"Dhoni\"],{\"scores\":100 , \"catches\": 1})\n",
    "#print(match_scores)\n",
    "\n",
    "# add a new nested key\n",
    "\"\"\" \n",
    "setdefault\n",
    "Insert key with a value of default if key is not in the dictionary.\n",
    "Return the value for key if key is in the dictionary, else default.\n",
    "return type -<datatype> - default or value if exists\n",
    "\n",
    "help(dict.setdefault)\n",
    "\n",
    "\"\"\"\n",
    "match_scores.setdefault(\"Rohit\", {\"scores\":200 , \"catches\": 1}) # returns 100 as key already present with non-empty value\n",
    "\n",
    "#match_scores.update({\"Rohit\": {\"scores\":200 , \"catches\": 1}})\n",
    "\n",
    "print(match_scores)\n",
    "\n"
   ]
  },
  {
   "cell_type": "code",
   "execution_count": 89,
   "metadata": {},
   "outputs": [
    {
     "data": {
      "text/plain": [
       "1.0"
      ]
     },
     "execution_count": 89,
     "metadata": {},
     "output_type": "execute_result"
    },
    {
     "name": "stdout",
     "output_type": "stream",
     "text": [
      "{'Sachi': 1.0, 'Mudit': 1.0, 'Piyush': 1.0}\n",
      "Sachi doesn't meet te criterion for key removal...\n",
      "Mudit doesn't meet te criterion for key removal...\n",
      "item being removed:  Piyush -> 1.0\n"
     ]
    }
   ],
   "source": [
    "exam_scores = dict.fromkeys([\"Sachi\",\"Mudit\",\"Piyush\"],1.0)\n",
    "exam_scores.setdefault(\"Mudit\", 0.0)  # returns 1.0 as key already present\n",
    "\n",
    "print(exam_scores)\n",
    "\n",
    "#exam_scores.popitem()  #also returns the last item being removed\n",
    "\n",
    "# remove a key if key contains/startswith P\n",
    "\n",
    "for k in list(exam_scores.keys()):\n",
    "    if k.startswith(\"P\") and k.find(\"P\") >= 0:\n",
    "        #del exam_scores[k]\n",
    "        print(\"item being removed: \", k ,\"->\", exam_scores.pop(k))\n",
    "    else:\n",
    "        print(k, \"doesn't meet te criterion for key removal...\")\n",
    "\n",
    "# print(exam_scores)"
   ]
  },
  {
   "cell_type": "code",
   "execution_count": 80,
   "metadata": {},
   "outputs": [
    {
     "name": "stdout",
     "output_type": "stream",
     "text": [
      "{'Sachi': ['SQL', 'Python', 'Airflow'], 'Mohit': ['Linux', 'Python', 'Snowflake'], 'Mayank': ['Linux', 'Python', 'Snowflake'], 'Rohit': ['Linux', 'Python', 'Snowflake']}\n"
     ]
    }
   ],
   "source": [
    "# add multiple values to a dictionary key \n",
    "\n",
    "empdict = {}\n",
    "\n",
    "keys = [\"Sachi\",\"Mohit\",\"Mayank\",\"Rohit\"]\n",
    "default = []\n",
    "\n",
    "\n",
    "empdict = dict.fromkeys(keys , default)\n",
    "\n",
    "empdict[keys[0]] = [\"SQL\",\"Python\",\"Airflow\"]\n",
    "\n",
    "empdict.setdefault(\"Mohit\", []).extend([\"Linux\",\"Python\",\"Snowflake\"])\n",
    "\n",
    "print(empdict)"
   ]
  },
  {
   "cell_type": "code",
   "execution_count": 105,
   "metadata": {},
   "outputs": [
    {
     "name": "stdout",
     "output_type": "stream",
     "text": [
      "arg1 = one\n",
      "arg2 = two\n",
      "arg3 = three\n"
     ]
    }
   ],
   "source": [
    "\n",
    "def func(arg1, arg2, arg3):\n",
    "    print('arg1 =', arg1)\n",
    "    print('arg2 =', arg2)\n",
    "    print('arg3 =', arg3)\n",
    "\n",
    "d = {'arg1': 'one', 'arg2': 'two', 'arg3': 'three'}\n",
    "\n",
    "func(**d)"
   ]
  },
  {
   "cell_type": "code",
   "execution_count": 115,
   "metadata": {},
   "outputs": [
    {
     "name": "stdout",
     "output_type": "stream",
     "text": [
      "arg1 = 10\n",
      "arg2 = 8\n",
      "SUM of ONLY first 2 numbers= 18\n"
     ]
    }
   ],
   "source": [
    "\n",
    "def func(arg1, arg2, **arg3):\n",
    "    print('arg1 =', arg1)\n",
    "    print('arg2 =', arg2)\n",
    "    print('SUM of ONLY first 2 numbers=', arg1 + arg2)\n",
    "\n",
    "\n",
    "d = {'arg1': 8, 'arg2': 6, 'arg3': 3}\n",
    "d = {'arg1': 10, 'arg2': 8, 'arg3': 4 , 'arg4': 5}\n",
    "\n",
    "func(**d)"
   ]
  },
  {
   "cell_type": "code",
   "execution_count": 108,
   "metadata": {},
   "outputs": [
    {
     "name": "stdout",
     "output_type": "stream",
     "text": [
      "arg1 = 6\n"
     ]
    }
   ],
   "source": [
    "\n",
    "def func(*arg1):\n",
    "    print('arg1 =', sum(arg1))\n",
    "    \n",
    "\n",
    "a=1\n",
    "b=2\n",
    "c=3\n",
    "func(a,b,c)"
   ]
  },
  {
   "cell_type": "code",
   "execution_count": 117,
   "metadata": {},
   "outputs": [
    {
     "name": "stdout",
     "output_type": "stream",
     "text": [
      "[80, 70]\n"
     ]
    }
   ],
   "source": [
    "l = [\n",
    "    {'Name': 'Alice', 'Age': 40, 'Point': 80},\n",
    "    {'Name': 'Bob', 'Age': 20},\n",
    "    {'Name': 'Charlie', 'Age': 30, 'Point': 70},\n",
    "]\n",
    "\n",
    "# W/ walrus := assignment op\n",
    "\"\"\" \n",
    "To avoid repeatedly calling the get() method, you can use the assignment expression, \n",
    "also known as the Walrus operator :=. \n",
    "This operator, introduced in Python 3.8, \n",
    "allows you to assign values to variables as part of an expression.\n",
    "\"\"\"\n",
    "l_point = [v for d in l if (v := d.get('Point'))]\n",
    "print(l_point)\n",
    "\n",
    "\n",
    "# W/O walrus := assignment op\n",
    "\n",
    "l_point = [d.get('Point') for d in l if d.get('Point')]\n",
    "print(l_point)\n",
    "\n"
   ]
  },
  {
   "cell_type": "code",
   "execution_count": 123,
   "metadata": {},
   "outputs": [
    {
     "name": "stdout",
     "output_type": "stream",
     "text": [
      "2  found in [4, 5, 6, 2]\n",
      "3 not found in [4, 5, 6, 2]\n",
      "4  found in [4, 5, 6, 2]\n"
     ]
    },
    {
     "data": {
      "text/plain": [
       "[2, 4]"
      ]
     },
     "execution_count": 123,
     "metadata": {},
     "output_type": "execute_result"
    }
   ],
   "source": [
    "x = [2, 3, 4]\n",
    "y = [4, 5, 6 ,2]\n",
    "\n",
    "for i in x:\n",
    "    if i in y:\n",
    "        print(i,\" found in\", y)\n",
    "    else:\n",
    "      print(i , \"not found in\", y)\n",
    "\n",
    "[i for i in x if i in y] "
   ]
  },
  {
   "cell_type": "code",
   "execution_count": 127,
   "metadata": {},
   "outputs": [
    {
     "data": {
      "text/plain": [
       "100"
      ]
     },
     "execution_count": 127,
     "metadata": {},
     "output_type": "execute_result"
    },
    {
     "data": {
      "text/plain": [
       "['a', 'd']"
      ]
     },
     "execution_count": 127,
     "metadata": {},
     "output_type": "execute_result"
    },
    {
     "data": {
      "text/plain": [
       "'a'"
      ]
     },
     "execution_count": 127,
     "metadata": {},
     "output_type": "execute_result"
    }
   ],
   "source": [
    "# get key having maximum value\n",
    "\n",
    "d = {'a': 100, 'b': 20, 'c': 50, 'd': 100, 'e': 80}\n",
    "\n",
    "d[max(d, key=d.get)]\n",
    "\n",
    "#M1-\n",
    "[k for k,v in d.items() if v == max(d.values())]\n",
    "\n",
    "#M2-\n",
    "k = list(d.keys())\n",
    "v = list(d.values())\n",
    "k[v.index(max(v))]"
   ]
  }
 ],
 "metadata": {
  "kernelspec": {
   "display_name": ".venv",
   "language": "python",
   "name": "python3"
  },
  "language_info": {
   "codemirror_mode": {
    "name": "ipython",
    "version": 3
   },
   "file_extension": ".py",
   "mimetype": "text/x-python",
   "name": "python",
   "nbconvert_exporter": "python",
   "pygments_lexer": "ipython3",
   "version": "3.10.0"
  }
 },
 "nbformat": 4,
 "nbformat_minor": 2
}
